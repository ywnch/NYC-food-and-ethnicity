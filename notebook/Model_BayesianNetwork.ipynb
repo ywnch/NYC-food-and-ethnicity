{
 "cells": [
  {
   "cell_type": "code",
   "execution_count": null,
   "metadata": {
    "ExecuteTime": {
     "end_time": "2018-05-02T02:27:01.133997Z",
     "start_time": "2018-05-02T02:26:55.746024Z"
    }
   },
   "outputs": [],
   "source": [
    "from __future__ import division, print_function\n",
    "\n",
    "import numpy as np\n",
    "import pandas as pd\n",
    "import geopandas as gpd\n",
    "import matplotlib.pyplot as plt\n",
    "\n",
    "from sklearn import svm\n",
    "from sklearn.gaussian_process import GaussianProcessRegressor\n",
    "from sklearn.gaussian_process.kernels import RBF, ConstantKernel,WhiteKernel\n",
    "from sklearn.mixture import GaussianMixture\n",
    "from sklearn.neighbors import LocalOutlierFactor\n",
    "from sklearn.metrics import silhouette_score\n",
    "from sklearn.cluster import KMeans\n",
    "\n",
    "from pgmpy.estimators import HillClimbSearch\n",
    "from pgmpy.estimators import BicScore\n",
    "from pgmpy.estimators import MaximumLikelihoodEstimator\n",
    "from pgmpy.models import BayesianModel\n",
    "\n",
    "import shapely.wkt as shpwkt\n",
    "\n",
    "%pylab inline"
   ]
  },
  {
   "cell_type": "code",
   "execution_count": null,
   "metadata": {
    "ExecuteTime": {
     "end_time": "2018-05-02T02:27:03.970175Z",
     "start_time": "2018-05-02T02:27:03.838106Z"
    }
   },
   "outputs": [],
   "source": [
    "# yelp_cluster.to_csv(DATA + '/Yelp_Weights_subset.csv')\n",
    "yelp_cluster = pd.read_csv('../data/Yelp_Weights_subset.csv')\n",
    "yelp_cluster.drop(['Unnamed: 0','Unnamed: 0.1'],axis=1,inplace=True)\n",
    "yelp_cluster.head()"
   ]
  },
  {
   "cell_type": "code",
   "execution_count": null,
   "metadata": {
    "ExecuteTime": {
     "end_time": "2018-05-02T02:27:05.751297Z",
     "start_time": "2018-05-02T02:27:05.209564Z"
    }
   },
   "outputs": [],
   "source": [
    "df = gpd.GeoDataFrame(yelp_cluster)\n",
    "df['geometry'] = df['geometry'].apply(lambda x: shpwkt.loads(x))\n",
    "df = gpd.GeoDataFrame(yelp_cluster, geometry='geometry')\n",
    "df.crs = {'init': 'epsg:4326'}\n",
    "# df.crs = {'init': 'epsg:4326'} \n",
    "df.head()"
   ]
  },
  {
   "cell_type": "code",
   "execution_count": null,
   "metadata": {
    "ExecuteTime": {
     "end_time": "2018-05-02T02:27:06.406639Z",
     "start_time": "2018-05-02T02:27:06.401991Z"
    }
   },
   "outputs": [],
   "source": [
    "X = df.iloc[:,8:41]"
   ]
  },
  {
   "cell_type": "code",
   "execution_count": null,
   "metadata": {
    "ExecuteTime": {
     "end_time": "2018-05-02T02:27:11.910450Z",
     "start_time": "2018-05-02T02:27:09.332919Z"
    }
   },
   "outputs": [],
   "source": [
    "range_n_clusters = range(2,10)\n",
    "for n in range_n_clusters:\n",
    "    #19900\n",
    "    gmm = GaussianMixture(n_components=n,random_state=3391)\n",
    "    res = gmm.fit(X)\n",
    "    silhouette_avg = silhouette_score(X, res.predict(X))\n",
    "    print(\"For n_clusters = {},\".format(n)+\" the average silhouette_score is : {}\".format(silhouette_avg))"
   ]
  },
  {
   "cell_type": "code",
   "execution_count": null,
   "metadata": {},
   "outputs": [],
   "source": [
    "0.240221382689"
   ]
  },
  {
   "cell_type": "code",
   "execution_count": null,
   "metadata": {},
   "outputs": [],
   "source": []
  },
  {
   "cell_type": "code",
   "execution_count": null,
   "metadata": {},
   "outputs": [],
   "source": [
    "fig = plt.figure(figsize=(15,24))\n",
    "for n in range(2,8):\n",
    "    X = yelp_cluster.iloc[:,8:41]\n",
    "    km = KMeans(random_state=3391, n_clusters=n)\n",
    "    res = km.fit(X)\n",
    "\n",
    "    yelp_cluster['label'] = res.labels_\n",
    "    X['label'] = res.labels_\n",
    "    \n",
    "    ax = fig.add_subplot(319+n)\n",
    "    yelp_cluster.plot(ax=ax, column='label', cmap='viridis', legend=True, categorical=True, edgecolor='lightgray')"
   ]
  },
  {
   "cell_type": "code",
   "execution_count": null,
   "metadata": {
    "ExecuteTime": {
     "end_time": "2018-05-02T02:27:21.394441Z",
     "start_time": "2018-05-02T02:27:21.225359Z"
    }
   },
   "outputs": [],
   "source": [
    "X = yelp_cluster.iloc[:,8:41]\n",
    "X.head(1)\n",
    "km = KMeans(random_state=3391, n_clusters=7)\n",
    "res = km.fit(X)\n",
    "\n",
    "df['label'] = res.labels_\n",
    "X['label'] = res.labels_\n",
    "\n",
    "# fig = plt.figure(figsize=(15,12))\n",
    "# ax = fig.add_subplot(111)\n",
    "# df.plot(ax=ax, column='label', cmap='Reds', legend=True, categorical=True, edgecolor='lightgray')"
   ]
  },
  {
   "cell_type": "code",
   "execution_count": null,
   "metadata": {
    "ExecuteTime": {
     "end_time": "2018-05-01T00:26:23.922743Z",
     "start_time": "2018-05-01T00:26:22.601851Z"
    }
   },
   "outputs": [],
   "source": [
    "df.plot()"
   ]
  },
  {
   "cell_type": "code",
   "execution_count": null,
   "metadata": {
    "ExecuteTime": {
     "end_time": "2018-05-02T02:27:27.799970Z",
     "start_time": "2018-05-02T02:27:27.752238Z"
    }
   },
   "outputs": [],
   "source": [
    "dfs = []\n",
    "for i in range(7):\n",
    "    dfs.append(X[X['label'] == i].mean())\n",
    "label_df = pd.concat(dfs, axis=1)\n",
    "# label_df.columns = ['Domin/Latin', 'Manhattan', 'Cari/S.Asia', 'Cari/Black', 'UPPER/DTBL', 'Asian', 'Jewish']\n",
    "label_df"
   ]
  },
  {
   "cell_type": "code",
   "execution_count": null,
   "metadata": {
    "ExecuteTime": {
     "end_time": "2018-05-02T02:27:33.666092Z",
     "start_time": "2018-05-02T02:27:33.632965Z"
    }
   },
   "outputs": [],
   "source": [
    "yelp_cluster.head(1)"
   ]
  },
  {
   "cell_type": "code",
   "execution_count": null,
   "metadata": {
    "ExecuteTime": {
     "end_time": "2018-05-02T02:27:34.987860Z",
     "start_time": "2018-05-02T02:27:34.979102Z"
    }
   },
   "outputs": [],
   "source": [
    "y = yelp_cluster[['FIPS','label']]"
   ]
  },
  {
   "cell_type": "code",
   "execution_count": null,
   "metadata": {},
   "outputs": [],
   "source": []
  },
  {
   "cell_type": "code",
   "execution_count": null,
   "metadata": {},
   "outputs": [],
   "source": []
  },
  {
   "cell_type": "code",
   "execution_count": null,
   "metadata": {},
   "outputs": [],
   "source": [
    "import pandas as pd"
   ]
  },
  {
   "cell_type": "code",
   "execution_count": null,
   "metadata": {
    "ExecuteTime": {
     "end_time": "2018-05-02T02:27:42.194536Z",
     "start_time": "2018-05-02T02:27:42.188680Z"
    }
   },
   "outputs": [],
   "source": [
    "DATA = '../data'"
   ]
  },
  {
   "cell_type": "code",
   "execution_count": null,
   "metadata": {
    "ExecuteTime": {
     "end_time": "2018-05-02T02:27:42.957176Z",
     "start_time": "2018-05-02T02:27:42.916793Z"
    }
   },
   "outputs": [],
   "source": [
    "ACS = pd.read_csv(DATA + '/features/ACSselectedData.csv', index_col=0)\n",
    "Health = pd.read_csv(DATA + '/features/NYC_Health_Features.csv')\n",
    "# Yelp = pd.read_csv(DATA + '/yelp_counts_per_ct.csv', index_col=0)"
   ]
  },
  {
   "cell_type": "code",
   "execution_count": null,
   "metadata": {
    "ExecuteTime": {
     "end_time": "2018-05-02T02:27:52.863152Z",
     "start_time": "2018-05-02T02:27:52.801613Z"
    }
   },
   "outputs": [],
   "source": [
    "MergedData = ACS.merge(Health, left_on='FIPS', right_on='TractFIPS', how='outer')\n",
    "print(MergedData.shape)\n",
    "MergedData.head()"
   ]
  },
  {
   "cell_type": "code",
   "execution_count": null,
   "metadata": {
    "ExecuteTime": {
     "end_time": "2018-05-02T02:27:54.691511Z",
     "start_time": "2018-05-02T02:27:54.680292Z"
    }
   },
   "outputs": [],
   "source": [
    "list(MergedData.columns)"
   ]
  },
  {
   "cell_type": "code",
   "execution_count": null,
   "metadata": {
    "ExecuteTime": {
     "end_time": "2018-05-02T02:27:55.305516Z",
     "start_time": "2018-05-02T02:27:55.295161Z"
    }
   },
   "outputs": [],
   "source": [
    "MergedData = MergedData[['FIPS',\n",
    " 'Census Tract',\n",
    " 'Pop Density',\n",
    " 'Income',\n",
    " 'Age',\n",
    " 'Household Size',\n",
    " 'Total Pop',\n",
    " 'DIABETES_CrudePrev',\n",
    " 'HIGHCHOL_CrudePrev',\n",
    " 'OBESITY_CrudePrev']]"
   ]
  },
  {
   "cell_type": "code",
   "execution_count": null,
   "metadata": {
    "ExecuteTime": {
     "end_time": "2018-05-02T02:27:56.896209Z",
     "start_time": "2018-05-02T02:27:56.887159Z"
    }
   },
   "outputs": [],
   "source": [
    "MergedData.shape"
   ]
  },
  {
   "cell_type": "code",
   "execution_count": null,
   "metadata": {
    "ExecuteTime": {
     "end_time": "2018-05-02T02:27:58.483266Z",
     "start_time": "2018-05-02T02:27:58.462714Z"
    }
   },
   "outputs": [],
   "source": [
    "MergedData.head(1)"
   ]
  },
  {
   "cell_type": "code",
   "execution_count": null,
   "metadata": {
    "ExecuteTime": {
     "end_time": "2018-05-02T02:28:01.326614Z",
     "start_time": "2018-05-02T02:28:01.288105Z"
    }
   },
   "outputs": [],
   "source": [
    "MergedData = MergedData.merge(y, on='FIPS', how='outer')\n",
    "print(MergedData.shape)\n",
    "MergedData.head()"
   ]
  },
  {
   "cell_type": "code",
   "execution_count": null,
   "metadata": {
    "ExecuteTime": {
     "end_time": "2018-05-02T02:28:02.438134Z",
     "start_time": "2018-05-02T02:28:02.429554Z"
    }
   },
   "outputs": [],
   "source": [
    "MergedData.dropna(axis=0,how='any',inplace=True)"
   ]
  },
  {
   "cell_type": "code",
   "execution_count": null,
   "metadata": {
    "ExecuteTime": {
     "end_time": "2018-05-02T02:28:22.059805Z",
     "start_time": "2018-05-02T02:28:22.036359Z"
    }
   },
   "outputs": [],
   "source": [
    "MergedData.head(1)"
   ]
  },
  {
   "cell_type": "code",
   "execution_count": null,
   "metadata": {
    "ExecuteTime": {
     "end_time": "2018-05-02T02:28:34.387369Z",
     "start_time": "2018-05-02T02:28:34.378619Z"
    }
   },
   "outputs": [],
   "source": [
    "MergedData.shape"
   ]
  },
  {
   "cell_type": "code",
   "execution_count": null,
   "metadata": {},
   "outputs": [],
   "source": [
    "MergedData"
   ]
  },
  {
   "cell_type": "code",
   "execution_count": null,
   "metadata": {
    "ExecuteTime": {
     "end_time": "2018-05-02T02:28:37.165265Z",
     "start_time": "2018-05-02T02:28:37.159548Z"
    }
   },
   "outputs": [],
   "source": [
    "X = MergedData.iloc[:,2:]"
   ]
  },
  {
   "cell_type": "code",
   "execution_count": null,
   "metadata": {},
   "outputs": [],
   "source": []
  },
  {
   "cell_type": "code",
   "execution_count": 1,
   "metadata": {
    "ExecuteTime": {
     "end_time": "2018-05-02T03:14:06.437569Z",
     "start_time": "2018-05-02T03:14:04.851884Z"
    }
   },
   "outputs": [],
   "source": [
    "import pandas as pd"
   ]
  },
  {
   "cell_type": "code",
   "execution_count": 2,
   "metadata": {
    "ExecuteTime": {
     "end_time": "2018-05-02T03:14:06.561795Z",
     "start_time": "2018-05-02T03:14:06.443450Z"
    }
   },
   "outputs": [
    {
     "data": {
      "text/html": [
       "<div>\n",
       "<table border=\"1\" class=\"dataframe\">\n",
       "  <thead>\n",
       "    <tr style=\"text-align: right;\">\n",
       "      <th></th>\n",
       "      <th>FIPS</th>\n",
       "      <th>Census Tract</th>\n",
       "      <th>Pop Density</th>\n",
       "      <th>Income</th>\n",
       "      <th>Age</th>\n",
       "      <th>Household Size</th>\n",
       "      <th>Total Pop</th>\n",
       "      <th>DIABETES_CrudePrev</th>\n",
       "      <th>HIGHCHOL_CrudePrev</th>\n",
       "      <th>OBESITY_CrudePrev</th>\n",
       "      <th>label</th>\n",
       "    </tr>\n",
       "  </thead>\n",
       "  <tbody>\n",
       "    <tr>\n",
       "      <th>1</th>\n",
       "      <td>36005000200</td>\n",
       "      <td>200.0</td>\n",
       "      <td>28365.12</td>\n",
       "      <td>70893.0</td>\n",
       "      <td>38.6</td>\n",
       "      <td>3.94</td>\n",
       "      <td>5251.0</td>\n",
       "      <td>12.7</td>\n",
       "      <td>33.8</td>\n",
       "      <td>29.9</td>\n",
       "      <td>6.0</td>\n",
       "    </tr>\n",
       "  </tbody>\n",
       "</table>\n",
       "</div>"
      ],
      "text/plain": [
       "          FIPS  Census Tract  Pop Density   Income   Age  Household Size  \\\n",
       "1  36005000200         200.0     28365.12  70893.0  38.6            3.94   \n",
       "\n",
       "   Total Pop  DIABETES_CrudePrev  HIGHCHOL_CrudePrev  OBESITY_CrudePrev  label  \n",
       "1     5251.0                12.7                33.8               29.9    6.0  "
      ]
     },
     "execution_count": 2,
     "metadata": {},
     "output_type": "execute_result"
    }
   ],
   "source": [
    "df = pd.read_csv('dataformodel.csv', index_col=0)\n",
    "df.head(1)"
   ]
  },
  {
   "cell_type": "code",
   "execution_count": 41,
   "metadata": {
    "ExecuteTime": {
     "end_time": "2018-05-02T04:18:11.092538Z",
     "start_time": "2018-05-02T04:18:11.089152Z"
    }
   },
   "outputs": [],
   "source": [
    "X = df.iloc[:,2:]"
   ]
  },
  {
   "cell_type": "code",
   "execution_count": 42,
   "metadata": {
    "ExecuteTime": {
     "end_time": "2018-05-02T04:18:11.685671Z",
     "start_time": "2018-05-02T04:18:11.658987Z"
    }
   },
   "outputs": [
    {
     "data": {
      "text/html": [
       "<div>\n",
       "<table border=\"1\" class=\"dataframe\">\n",
       "  <thead>\n",
       "    <tr style=\"text-align: right;\">\n",
       "      <th></th>\n",
       "      <th>Pop Density</th>\n",
       "      <th>Income</th>\n",
       "      <th>Age</th>\n",
       "      <th>Household Size</th>\n",
       "      <th>Total Pop</th>\n",
       "      <th>DIABETES_CrudePrev</th>\n",
       "      <th>HIGHCHOL_CrudePrev</th>\n",
       "      <th>OBESITY_CrudePrev</th>\n",
       "      <th>label</th>\n",
       "    </tr>\n",
       "  </thead>\n",
       "  <tbody>\n",
       "    <tr>\n",
       "      <th>1</th>\n",
       "      <td>0</td>\n",
       "      <td>1</td>\n",
       "      <td>2</td>\n",
       "      <td>3</td>\n",
       "      <td>1</td>\n",
       "      <td>2</td>\n",
       "      <td>3</td>\n",
       "      <td>4</td>\n",
       "      <td>6.0</td>\n",
       "    </tr>\n",
       "    <tr>\n",
       "      <th>2</th>\n",
       "      <td>0</td>\n",
       "      <td>1</td>\n",
       "      <td>2</td>\n",
       "      <td>2</td>\n",
       "      <td>1</td>\n",
       "      <td>2</td>\n",
       "      <td>2</td>\n",
       "      <td>3</td>\n",
       "      <td>3.0</td>\n",
       "    </tr>\n",
       "    <tr>\n",
       "      <th>3</th>\n",
       "      <td>0</td>\n",
       "      <td>0</td>\n",
       "      <td>2</td>\n",
       "      <td>2</td>\n",
       "      <td>1</td>\n",
       "      <td>3</td>\n",
       "      <td>3</td>\n",
       "      <td>5</td>\n",
       "      <td>6.0</td>\n",
       "    </tr>\n",
       "    <tr>\n",
       "      <th>4</th>\n",
       "      <td>0</td>\n",
       "      <td>0</td>\n",
       "      <td>2</td>\n",
       "      <td>1</td>\n",
       "      <td>0</td>\n",
       "      <td>2</td>\n",
       "      <td>2</td>\n",
       "      <td>4</td>\n",
       "      <td>6.0</td>\n",
       "    </tr>\n",
       "    <tr>\n",
       "      <th>5</th>\n",
       "      <td>1</td>\n",
       "      <td>0</td>\n",
       "      <td>2</td>\n",
       "      <td>2</td>\n",
       "      <td>2</td>\n",
       "      <td>3</td>\n",
       "      <td>3</td>\n",
       "      <td>5</td>\n",
       "      <td>3.0</td>\n",
       "    </tr>\n",
       "  </tbody>\n",
       "</table>\n",
       "</div>"
      ],
      "text/plain": [
       "  Pop Density Income Age Household Size Total Pop DIABETES_CrudePrev  \\\n",
       "1           0      1   2              3         1                  2   \n",
       "2           0      1   2              2         1                  2   \n",
       "3           0      0   2              2         1                  3   \n",
       "4           0      0   2              1         0                  2   \n",
       "5           1      0   2              2         2                  3   \n",
       "\n",
       "  HIGHCHOL_CrudePrev OBESITY_CrudePrev  label  \n",
       "1                  3                 4    6.0  \n",
       "2                  2                 3    3.0  \n",
       "3                  3                 5    6.0  \n",
       "4                  2                 4    6.0  \n",
       "5                  3                 5    3.0  "
      ]
     },
     "execution_count": 42,
     "metadata": {},
     "output_type": "execute_result"
    }
   ],
   "source": [
    "for col in X.columns[:-1]:\n",
    "    X[col] = pd.cut(X[col],7,labels=[0,1,2,3,4,5,6])\n",
    "X.head()"
   ]
  },
  {
   "cell_type": "markdown",
   "metadata": {},
   "source": [
    "# HillClimbSearch + BdeuScore, K2Score, BicScore"
   ]
  },
  {
   "cell_type": "code",
   "execution_count": 17,
   "metadata": {
    "ExecuteTime": {
     "end_time": "2018-05-02T03:39:13.421542Z",
     "start_time": "2018-05-02T03:39:13.413911Z"
    }
   },
   "outputs": [],
   "source": [
    "# your answers here\n",
    "from pgmpy.estimators import HillClimbSearch\n",
    "from pgmpy.estimators import BdeuScore, K2Score, BicScore\n",
    "import numpy as np"
   ]
  },
  {
   "cell_type": "code",
   "execution_count": 15,
   "metadata": {
    "ExecuteTime": {
     "end_time": "2018-05-02T03:36:25.141501Z",
     "start_time": "2018-05-02T03:36:25.111382Z"
    }
   },
   "outputs": [],
   "source": [
    "np.random.seed(300)"
   ]
  },
  {
   "cell_type": "code",
   "execution_count": 16,
   "metadata": {
    "ExecuteTime": {
     "end_time": "2018-05-02T03:36:42.288425Z",
     "start_time": "2018-05-02T03:36:25.987646Z"
    }
   },
   "outputs": [
    {
     "name": "stdout",
     "output_type": "stream",
     "text": [
      "[('Pop Density', 'Total Pop'), ('OBESITY_CrudePrev', 'Age'), ('OBESITY_CrudePrev', 'label'), ('DIABETES_CrudePrev', 'HIGHCHOL_CrudePrev'), ('DIABETES_CrudePrev', 'OBESITY_CrudePrev'), ('Income', 'Pop Density'), ('Income', 'DIABETES_CrudePrev'), ('label', 'Household Size')]\n"
     ]
    }
   ],
   "source": [
    "hc = HillClimbSearch(X, scoring_method=BicScore(X))\n",
    "best_model = hc.estimate()\n",
    "print(best_model.edges())"
   ]
  },
  {
   "cell_type": "code",
   "execution_count": 18,
   "metadata": {
    "ExecuteTime": {
     "end_time": "2018-05-02T03:39:43.450370Z",
     "start_time": "2018-05-02T03:39:23.126400Z"
    }
   },
   "outputs": [
    {
     "name": "stdout",
     "output_type": "stream",
     "text": [
      "[('Pop Density', 'Total Pop'), ('Pop Density', 'Income'), ('HIGHCHOL_CrudePrev', 'Age'), ('OBESITY_CrudePrev', 'HIGHCHOL_CrudePrev'), ('OBESITY_CrudePrev', 'label'), ('DIABETES_CrudePrev', 'HIGHCHOL_CrudePrev'), ('DIABETES_CrudePrev', 'OBESITY_CrudePrev'), ('Income', 'Age'), ('Income', 'DIABETES_CrudePrev'), ('label', 'Household Size')]\n"
     ]
    }
   ],
   "source": [
    "hc = HillClimbSearch(X, scoring_method=BdeuScore(X))\n",
    "best_model = hc.estimate()\n",
    "print(best_model.edges())"
   ]
  },
  {
   "cell_type": "code",
   "execution_count": 19,
   "metadata": {
    "ExecuteTime": {
     "end_time": "2018-05-02T03:43:12.355522Z",
     "start_time": "2018-05-02T03:42:28.788506Z"
    }
   },
   "outputs": [
    {
     "name": "stdout",
     "output_type": "stream",
     "text": [
      "[('Pop Density', 'Total Pop'), ('HIGHCHOL_CrudePrev', 'Age'), ('HIGHCHOL_CrudePrev', 'label'), ('HIGHCHOL_CrudePrev', 'OBESITY_CrudePrev'), ('OBESITY_CrudePrev', 'label'), ('DIABETES_CrudePrev', 'label'), ('DIABETES_CrudePrev', 'Income'), ('DIABETES_CrudePrev', 'HIGHCHOL_CrudePrev'), ('DIABETES_CrudePrev', 'OBESITY_CrudePrev'), ('Income', 'Age'), ('Income', 'Pop Density'), ('label', 'Household Size')]\n"
     ]
    }
   ],
   "source": [
    "hc = HillClimbSearch(X, scoring_method=K2Score(X))\n",
    "best_model = hc.estimate()\n",
    "print(best_model.edges())"
   ]
  },
  {
   "cell_type": "markdown",
   "metadata": {},
   "source": [
    "# ConstraintBasedEstimator"
   ]
  },
  {
   "cell_type": "code",
   "execution_count": 20,
   "metadata": {
    "ExecuteTime": {
     "end_time": "2018-05-02T03:52:10.566228Z",
     "start_time": "2018-05-02T03:52:10.560476Z"
    }
   },
   "outputs": [],
   "source": [
    "from pgmpy.estimators import ConstraintBasedEstimator"
   ]
  },
  {
   "cell_type": "code",
   "execution_count": 24,
   "metadata": {
    "ExecuteTime": {
     "end_time": "2018-05-02T03:57:01.815592Z",
     "start_time": "2018-05-02T03:57:01.806995Z"
    }
   },
   "outputs": [
    {
     "data": {
      "text/plain": [
       "Index([u'Pop Density', u'Income', u'Age', u'Household Size', u'Total Pop',\n",
       "       u'DIABETES_CrudePrev', u'HIGHCHOL_CrudePrev', u'OBESITY_CrudePrev',\n",
       "       u'label'],\n",
       "      dtype='object')"
      ]
     },
     "execution_count": 24,
     "metadata": {},
     "output_type": "execute_result"
    }
   ],
   "source": [
    "X.columns"
   ]
  },
  {
   "cell_type": "code",
   "execution_count": 46,
   "metadata": {
    "ExecuteTime": {
     "end_time": "2018-05-02T05:13:58.149532Z",
     "start_time": "2018-05-02T05:13:58.136870Z"
    }
   },
   "outputs": [],
   "source": [
    "est = ConstraintBasedEstimator(X)"
   ]
  },
  {
   "cell_type": "code",
   "execution_count": 36,
   "metadata": {
    "ExecuteTime": {
     "end_time": "2018-05-02T04:02:07.915760Z",
     "start_time": "2018-05-02T04:01:56.625811Z"
    }
   },
   "outputs": [
    {
     "name": "stdout",
     "output_type": "stream",
     "text": [
      "('Undirected edges: ', [('Income', 'label'), ('Income', 'OBESITY_CrudePrev'), ('Pop Density', 'label'), ('Pop Density', 'OBESITY_CrudePrev'), ('label', 'OBESITY_CrudePrev')])\n"
     ]
    }
   ],
   "source": [
    "skel, separating_sets = est.estimate_skeleton(significance_level=0.01)\n",
    "print(\"Undirected edges: \", skel.edges())"
   ]
  },
  {
   "cell_type": "code",
   "execution_count": 37,
   "metadata": {
    "ExecuteTime": {
     "end_time": "2018-05-02T04:03:10.498384Z",
     "start_time": "2018-05-02T04:03:10.487972Z"
    }
   },
   "outputs": [
    {
     "name": "stdout",
     "output_type": "stream",
     "text": [
      "('PDAG edges:       ', [('OBESITY_CrudePrev', 'Pop Density'), ('OBESITY_CrudePrev', 'label'), ('OBESITY_CrudePrev', 'Income'), ('Pop Density', 'OBESITY_CrudePrev'), ('Pop Density', 'label'), ('label', 'Pop Density'), ('label', 'OBESITY_CrudePrev'), ('label', 'Income'), ('Income', 'OBESITY_CrudePrev'), ('Income', 'label')])\n"
     ]
    }
   ],
   "source": [
    "pdag = est.skeleton_to_pdag(skel, separating_sets)\n",
    "print(\"PDAG edges:       \", pdag.edges())"
   ]
  },
  {
   "cell_type": "code",
   "execution_count": 38,
   "metadata": {
    "ExecuteTime": {
     "end_time": "2018-05-02T04:03:33.086400Z",
     "start_time": "2018-05-02T04:03:33.076399Z"
    }
   },
   "outputs": [
    {
     "name": "stdout",
     "output_type": "stream",
     "text": [
      "('DAG edges:        ', [('OBESITY_CrudePrev', 'Pop Density'), ('OBESITY_CrudePrev', 'label'), ('OBESITY_CrudePrev', 'Income'), ('label', 'Pop Density'), ('label', 'Income')])\n"
     ]
    }
   ],
   "source": [
    "model = est.pdag_to_dag(pdag)\n",
    "print(\"DAG edges:        \", model.edges())"
   ]
  },
  {
   "cell_type": "code",
   "execution_count": null,
   "metadata": {},
   "outputs": [],
   "source": []
  },
  {
   "cell_type": "markdown",
   "metadata": {},
   "source": [
    "# ExhaustiveSearch"
   ]
  },
  {
   "cell_type": "code",
   "execution_count": 45,
   "metadata": {
    "ExecuteTime": {
     "end_time": "2018-05-02T05:13:54.066834Z",
     "start_time": "2018-05-02T05:13:54.058898Z"
    }
   },
   "outputs": [],
   "source": [
    "X1 = X[[u'Pop Density', u'Income', \n",
    "     u'OBESITY_CrudePrev',\n",
    "       u'label']]"
   ]
  },
  {
   "cell_type": "code",
   "execution_count": 48,
   "metadata": {
    "ExecuteTime": {
     "end_time": "2018-05-02T05:17:44.654618Z",
     "start_time": "2018-05-02T05:16:26.127503Z"
    },
    "scrolled": false
   },
   "outputs": [
    {
     "name": "stdout",
     "output_type": "stream",
     "text": [
      "[('OBESITY_CrudePrev', 'label'), ('Income', 'Pop Density'), ('Income', 'OBESITY_CrudePrev')]\n",
      "\n",
      "All DAGs by score:\n",
      "(-11609.812916944364, [('OBESITY_CrudePrev', 'label'), ('Income', 'Pop Density'), ('Income', 'OBESITY_CrudePrev')])\n",
      "(-11609.812916944365, [('OBESITY_CrudePrev', 'Income'), ('label', 'OBESITY_CrudePrev'), ('Income', 'Pop Density')])\n",
      "(-11609.812916944365, [('OBESITY_CrudePrev', 'Income'), ('OBESITY_CrudePrev', 'label'), ('Income', 'Pop Density')])\n",
      "(-11609.812916944365, [('Pop Density', 'Income'), ('OBESITY_CrudePrev', 'label'), ('Income', 'OBESITY_CrudePrev')])\n",
      "(-11675.395582057841, [('OBESITY_CrudePrev', 'label'), ('label', 'Pop Density'), ('Income', 'OBESITY_CrudePrev')])\n",
      "(-11675.395582057843, [('OBESITY_CrudePrev', 'Income'), ('label', 'Pop Density'), ('label', 'OBESITY_CrudePrev')])\n",
      "(-11675.395582057843, [('Pop Density', 'label'), ('OBESITY_CrudePrev', 'Income'), ('label', 'OBESITY_CrudePrev')])\n",
      "(-11675.395582057843, [('OBESITY_CrudePrev', 'Income'), ('OBESITY_CrudePrev', 'label'), ('label', 'Pop Density')])\n",
      "(-11676.874079265104, [('OBESITY_CrudePrev', 'Income'), ('label', 'OBESITY_CrudePrev')])\n",
      "(-11676.874079265104, [('OBESITY_CrudePrev', 'label'), ('Income', 'OBESITY_CrudePrev')])\n",
      "(-11676.874079265106, [('OBESITY_CrudePrev', 'Income'), ('OBESITY_CrudePrev', 'label')])\n",
      "(-11700.556517796991, [('OBESITY_CrudePrev', 'Pop Density'), ('OBESITY_CrudePrev', 'label'), ('Income', 'OBESITY_CrudePrev')])\n",
      "(-11700.556517796993, [('OBESITY_CrudePrev', 'Pop Density'), ('OBESITY_CrudePrev', 'Income'), ('label', 'OBESITY_CrudePrev')])\n",
      "(-11700.556517796995, [('Pop Density', 'OBESITY_CrudePrev'), ('OBESITY_CrudePrev', 'Income'), ('OBESITY_CrudePrev', 'label')])\n",
      "(-11700.556517796995, [('OBESITY_CrudePrev', 'Pop Density'), ('OBESITY_CrudePrev', 'Income'), ('OBESITY_CrudePrev', 'label')])\n",
      "(-11821.577546910197, [('label', 'OBESITY_CrudePrev'), ('label', 'Income'), ('Income', 'Pop Density')])\n",
      "(-11821.577546910197, [('OBESITY_CrudePrev', 'label'), ('label', 'Income'), ('Income', 'Pop Density')])\n",
      "(-11821.577546910197, [('label', 'OBESITY_CrudePrev'), ('Income', 'Pop Density'), ('Income', 'label')])\n",
      "(-11821.577546910199, [('Pop Density', 'Income'), ('label', 'OBESITY_CrudePrev'), ('Income', 'label')])\n",
      "(-11887.160212023675, [('label', 'Pop Density'), ('label', 'OBESITY_CrudePrev'), ('label', 'Income')])\n",
      "(-11887.160212023675, [('Pop Density', 'label'), ('label', 'OBESITY_CrudePrev'), ('label', 'Income')])\n",
      "(-11887.160212023675, [('OBESITY_CrudePrev', 'label'), ('label', 'Pop Density'), ('label', 'Income')])\n",
      "(-11887.160212023675, [('label', 'Pop Density'), ('label', 'OBESITY_CrudePrev'), ('Income', 'label')])\n",
      "(-11888.638709230938, [('label', 'OBESITY_CrudePrev'), ('label', 'Income')])\n",
      "(-11888.638709230938, [('OBESITY_CrudePrev', 'label'), ('label', 'Income')])\n",
      "(-11888.638709230938, [('label', 'OBESITY_CrudePrev'), ('Income', 'label')])\n",
      "(-11912.321147762825, [('OBESITY_CrudePrev', 'Pop Density'), ('label', 'OBESITY_CrudePrev'), ('label', 'Income')])\n",
      "(-11912.321147762825, [('OBESITY_CrudePrev', 'Pop Density'), ('label', 'OBESITY_CrudePrev'), ('Income', 'label')])\n",
      "(-11912.321147762828, [('Pop Density', 'OBESITY_CrudePrev'), ('OBESITY_CrudePrev', 'label'), ('label', 'Income')])\n",
      "(-11912.321147762828, [('OBESITY_CrudePrev', 'Pop Density'), ('OBESITY_CrudePrev', 'label'), ('label', 'Income')])\n",
      "(-11995.786920282146, [('label', 'Income'), ('Income', 'Pop Density'), ('Income', 'OBESITY_CrudePrev')])\n",
      "(-11995.786920282146, [('Income', 'Pop Density'), ('Income', 'label'), ('Income', 'OBESITY_CrudePrev')])\n",
      "(-11995.786920282148, [('OBESITY_CrudePrev', 'Income'), ('Income', 'Pop Density'), ('Income', 'label')])\n",
      "(-11995.786920282148, [('Pop Density', 'Income'), ('Income', 'label'), ('Income', 'OBESITY_CrudePrev')])\n",
      "(-11997.463454027282, [('Pop Density', 'Income'), ('label', 'Pop Density'), ('label', 'OBESITY_CrudePrev')])\n",
      "(-11997.463454027282, [('Pop Density', 'Income'), ('Pop Density', 'label'), ('label', 'OBESITY_CrudePrev')])\n",
      "(-11997.463454027282, [('Pop Density', 'Income'), ('OBESITY_CrudePrev', 'label'), ('label', 'Pop Density')])\n",
      "(-11997.463454027282, [('Pop Density', 'label'), ('label', 'OBESITY_CrudePrev'), ('Income', 'Pop Density')])\n",
      "(-11998.941951234541, [('label', 'OBESITY_CrudePrev'), ('Income', 'Pop Density')])\n",
      "(-11998.941951234541, [('OBESITY_CrudePrev', 'label'), ('Income', 'Pop Density')])\n",
      "(-11998.941951234543, [('Pop Density', 'Income'), ('label', 'OBESITY_CrudePrev')])\n",
      "(-11998.941951234545, [('Pop Density', 'Income'), ('OBESITY_CrudePrev', 'label')])\n",
      "(-12022.624389766432, [('Pop Density', 'Income'), ('OBESITY_CrudePrev', 'Pop Density'), ('label', 'OBESITY_CrudePrev')])\n",
      "(-12022.624389766432, [('Pop Density', 'OBESITY_CrudePrev'), ('OBESITY_CrudePrev', 'label'), ('Income', 'Pop Density')])\n",
      "(-12022.624389766434, [('Pop Density', 'OBESITY_CrudePrev'), ('Pop Density', 'Income'), ('OBESITY_CrudePrev', 'label')])\n",
      "(-12022.624389766434, [('Pop Density', 'Income'), ('OBESITY_CrudePrev', 'Pop Density'), ('OBESITY_CrudePrev', 'label')])\n",
      "(-12061.369585395623, [('label', 'Pop Density'), ('label', 'Income'), ('Income', 'OBESITY_CrudePrev')])\n",
      "(-12061.369585395623, [('Pop Density', 'label'), ('label', 'Income'), ('Income', 'OBESITY_CrudePrev')])\n",
      "(-12061.369585395623, [('label', 'Pop Density'), ('Income', 'label'), ('Income', 'OBESITY_CrudePrev')])\n",
      "(-12061.369585395625, [('OBESITY_CrudePrev', 'Income'), ('label', 'Pop Density'), ('Income', 'label')])\n",
      "(-12062.848082602886, [('OBESITY_CrudePrev', 'Income'), ('Income', 'label')])\n",
      "(-12062.848082602886, [('label', 'Income'), ('Income', 'OBESITY_CrudePrev')])\n",
      "(-12062.848082602886, [('Income', 'label'), ('Income', 'OBESITY_CrudePrev')])\n",
      "(-12064.524616348019, [('label', 'Pop Density'), ('label', 'OBESITY_CrudePrev')])\n",
      "(-12064.524616348019, [('Pop Density', 'label'), ('label', 'OBESITY_CrudePrev')])\n",
      "(-12064.524616348019, [('OBESITY_CrudePrev', 'label'), ('label', 'Pop Density')])\n",
      "(-12066.003113555282, [('label', 'OBESITY_CrudePrev')])\n",
      "(-12066.003113555282, [('OBESITY_CrudePrev', 'label')])\n",
      "(-12086.530521134773, [('OBESITY_CrudePrev', 'Pop Density'), ('label', 'Income'), ('Income', 'OBESITY_CrudePrev')])\n",
      "(-12086.530521134773, [('OBESITY_CrudePrev', 'Pop Density'), ('Income', 'label'), ('Income', 'OBESITY_CrudePrev')])\n",
      "(-12086.530521134775, [('Pop Density', 'OBESITY_CrudePrev'), ('OBESITY_CrudePrev', 'Income'), ('Income', 'label')])\n",
      "(-12086.530521134775, [('OBESITY_CrudePrev', 'Pop Density'), ('OBESITY_CrudePrev', 'Income'), ('Income', 'label')])\n",
      "(-12089.685552087169, [('OBESITY_CrudePrev', 'Pop Density'), ('label', 'OBESITY_CrudePrev')])\n",
      "(-12089.685552087172, [('Pop Density', 'OBESITY_CrudePrev'), ('OBESITY_CrudePrev', 'label')])\n",
      "(-12089.685552087172, [('OBESITY_CrudePrev', 'Pop Density'), ('OBESITY_CrudePrev', 'label')])\n",
      "(-12171.67282739923, [('Pop Density', 'label'), ('OBESITY_CrudePrev', 'Income'), ('Income', 'Pop Density')])\n",
      "(-12171.67282739923, [('Pop Density', 'Income'), ('label', 'Pop Density'), ('Income', 'OBESITY_CrudePrev')])\n",
      "(-12171.67282739923, [('Pop Density', 'Income'), ('Pop Density', 'label'), ('Income', 'OBESITY_CrudePrev')])\n",
      "(-12171.67282739923, [('Pop Density', 'label'), ('Income', 'Pop Density'), ('Income', 'OBESITY_CrudePrev')])\n",
      "(-12173.15132460649, [('Income', 'Pop Density'), ('Income', 'OBESITY_CrudePrev')])\n",
      "(-12173.151324606491, [('OBESITY_CrudePrev', 'Income'), ('Income', 'Pop Density')])\n",
      "(-12173.151324606491, [('Pop Density', 'Income'), ('Income', 'OBESITY_CrudePrev')])\n",
      "(-12238.733989719967, [('label', 'Pop Density'), ('Income', 'OBESITY_CrudePrev')])\n",
      "(-12238.733989719967, [('Pop Density', 'label'), ('Income', 'OBESITY_CrudePrev')])\n",
      "(-12238.733989719969, [('OBESITY_CrudePrev', 'Income'), ('label', 'Pop Density')])\n",
      "(-12238.733989719969, [('Pop Density', 'label'), ('OBESITY_CrudePrev', 'Income')])\n",
      "(-12240.21248692723, [('Income', 'OBESITY_CrudePrev')])\n",
      "(-12240.212486927232, [('OBESITY_CrudePrev', 'Income')])\n",
      "(-12262.416428251858, [('Pop Density', 'OBESITY_CrudePrev'), ('OBESITY_CrudePrev', 'Income'), ('label', 'Pop Density')])\n",
      "(-12262.416428251858, [('Pop Density', 'label'), ('OBESITY_CrudePrev', 'Pop Density'), ('Income', 'OBESITY_CrudePrev')])\n",
      "(-12262.41642825186, [('Pop Density', 'OBESITY_CrudePrev'), ('Pop Density', 'label'), ('OBESITY_CrudePrev', 'Income')])\n",
      "(-12262.41642825186, [('Pop Density', 'label'), ('OBESITY_CrudePrev', 'Pop Density'), ('OBESITY_CrudePrev', 'Income')])\n",
      "(-12263.894925459117, [('OBESITY_CrudePrev', 'Pop Density'), ('Income', 'OBESITY_CrudePrev')])\n",
      "(-12263.894925459119, [('Pop Density', 'OBESITY_CrudePrev'), ('OBESITY_CrudePrev', 'Income')])\n",
      "(-12263.894925459119, [('OBESITY_CrudePrev', 'Pop Density'), ('OBESITY_CrudePrev', 'Income')])\n",
      "(-12339.992849884457, [('OBESITY_CrudePrev', 'label'), ('label', 'Pop Density'), ('Income', 'Pop Density'), ('Income', 'OBESITY_CrudePrev')])\n",
      "(-12339.992849884458, [('OBESITY_CrudePrev', 'Income'), ('label', 'Pop Density'), ('label', 'OBESITY_CrudePrev'), ('Income', 'Pop Density')])\n",
      "(-12339.992849884458, [('OBESITY_CrudePrev', 'Income'), ('OBESITY_CrudePrev', 'label'), ('label', 'Pop Density'), ('Income', 'Pop Density')])\n",
      "(-12347.524966948204, [('Pop Density', 'label'), ('OBESITY_CrudePrev', 'Income'), ('OBESITY_CrudePrev', 'label'), ('Income', 'Pop Density')])\n",
      "(-12347.524966948204, [('Pop Density', 'Income'), ('Pop Density', 'label'), ('OBESITY_CrudePrev', 'label'), ('Income', 'OBESITY_CrudePrev')])\n",
      "(-12347.524966948204, [('Pop Density', 'label'), ('OBESITY_CrudePrev', 'label'), ('Income', 'Pop Density'), ('Income', 'OBESITY_CrudePrev')])\n",
      "(-12384.915954572323, [('label', 'Income'), ('Income', 'Pop Density')])\n",
      "(-12384.915954572323, [('Income', 'Pop Density'), ('Income', 'label')])\n",
      "(-12384.915954572325, [('Pop Density', 'Income'), ('Income', 'label')])\n",
      "(-12392.540478291598, [('Pop Density', 'Income'), ('OBESITY_CrudePrev', 'Income'), ('label', 'Pop Density'), ('label', 'OBESITY_CrudePrev')])\n",
      "(-12392.540478291598, [('Pop Density', 'Income'), ('Pop Density', 'label'), ('OBESITY_CrudePrev', 'Income'), ('label', 'OBESITY_CrudePrev')])\n",
      "(-12392.540478291598, [('Pop Density', 'Income'), ('OBESITY_CrudePrev', 'Income'), ('OBESITY_CrudePrev', 'label'), ('label', 'Pop Density')])\n",
      "(-12394.018975498859, [('Pop Density', 'Income'), ('OBESITY_CrudePrev', 'Income'), ('label', 'OBESITY_CrudePrev')])\n",
      "(-12394.018975498861, [('Pop Density', 'Income'), ('OBESITY_CrudePrev', 'Income'), ('OBESITY_CrudePrev', 'label')])\n",
      "(-12395.593739863809, [('OBESITY_CrudePrev', 'label'), ('Income', 'Pop Density'), ('Income', 'label'), ('Income', 'OBESITY_CrudePrev')])\n",
      "(-12395.593739863811, [('OBESITY_CrudePrev', 'Income'), ('label', 'OBESITY_CrudePrev'), ('label', 'Income'), ('Income', 'Pop Density')])\n",
      "(-12395.593739863811, [('OBESITY_CrudePrev', 'Income'), ('OBESITY_CrudePrev', 'label'), ('label', 'Income'), ('Income', 'Pop Density')])\n",
      "(-12395.593739863811, [('OBESITY_CrudePrev', 'Income'), ('OBESITY_CrudePrev', 'label'), ('Income', 'Pop Density'), ('Income', 'label')])\n",
      "(-12395.593739863813, [('Pop Density', 'Income'), ('OBESITY_CrudePrev', 'label'), ('Income', 'label'), ('Income', 'OBESITY_CrudePrev')])\n",
      "(-12395.593739863813, [('label', 'OBESITY_CrudePrev'), ('label', 'Income'), ('Income', 'Pop Density'), ('Income', 'OBESITY_CrudePrev')])\n",
      "(-12395.593739863813, [('label', 'OBESITY_CrudePrev'), ('Income', 'Pop Density'), ('Income', 'label'), ('Income', 'OBESITY_CrudePrev')])\n",
      "(-12395.593739863814, [('Pop Density', 'Income'), ('label', 'OBESITY_CrudePrev'), ('Income', 'label'), ('Income', 'OBESITY_CrudePrev')])\n",
      "(-12408.598393104214, [('Pop Density', 'OBESITY_CrudePrev'), ('Pop Density', 'Income'), ('Income', 'label')])\n",
      "(-12408.598393104214, [('Pop Density', 'Income'), ('OBESITY_CrudePrev', 'Pop Density'), ('Income', 'label')])\n",
      "(-12408.598393104214, [('Pop Density', 'OBESITY_CrudePrev'), ('label', 'Income'), ('Income', 'Pop Density')])\n",
      "(-12408.598393104214, [('Pop Density', 'OBESITY_CrudePrev'), ('Income', 'Pop Density'), ('Income', 'label')])\n",
      "(-12414.586129268941, [('Pop Density', 'label'), ('OBESITY_CrudePrev', 'label'), ('Income', 'OBESITY_CrudePrev')])\n",
      "(-12414.586129268944, [('Pop Density', 'label'), ('OBESITY_CrudePrev', 'Income'), ('OBESITY_CrudePrev', 'label')])\n",
      "(-12417.701414030747, [('Pop Density', 'Income'), ('OBESITY_CrudePrev', 'Pop Density'), ('OBESITY_CrudePrev', 'Income'), ('label', 'OBESITY_CrudePrev')])\n",
      "(-12417.701414030747, [('Pop Density', 'OBESITY_CrudePrev'), ('OBESITY_CrudePrev', 'label'), ('Income', 'Pop Density'), ('Income', 'OBESITY_CrudePrev')])\n",
      "(-12417.701414030747, [('OBESITY_CrudePrev', 'Pop Density'), ('OBESITY_CrudePrev', 'label'), ('Income', 'Pop Density'), ('Income', 'OBESITY_CrudePrev')])\n",
      "(-12417.701414030749, [('Pop Density', 'OBESITY_CrudePrev'), ('Pop Density', 'Income'), ('OBESITY_CrudePrev', 'Income'), ('OBESITY_CrudePrev', 'label')])\n",
      "(-12417.701414030749, [('Pop Density', 'Income'), ('OBESITY_CrudePrev', 'Pop Density'), ('OBESITY_CrudePrev', 'Income'), ('OBESITY_CrudePrev', 'label')])\n",
      "(-12417.701414030749, [('OBESITY_CrudePrev', 'Pop Density'), ('OBESITY_CrudePrev', 'Income'), ('label', 'OBESITY_CrudePrev'), ('Income', 'Pop Density')])\n",
      "(-12417.701414030749, [('OBESITY_CrudePrev', 'Pop Density'), ('OBESITY_CrudePrev', 'Income'), ('OBESITY_CrudePrev', 'label'), ('Income', 'Pop Density')])\n",
      "(-12417.701414030749, [('Pop Density', 'OBESITY_CrudePrev'), ('Pop Density', 'Income'), ('OBESITY_CrudePrev', 'label'), ('Income', 'OBESITY_CrudePrev')])\n",
      "(-12438.268567800831, [('Pop Density', 'OBESITY_CrudePrev'), ('OBESITY_CrudePrev', 'Income'), ('label', 'Pop Density'), ('label', 'OBESITY_CrudePrev')])\n",
      "(-12438.268567800831, [('Pop Density', 'OBESITY_CrudePrev'), ('Pop Density', 'label'), ('OBESITY_CrudePrev', 'Income'), ('label', 'OBESITY_CrudePrev')])\n",
      "(-12438.268567800831, [('OBESITY_CrudePrev', 'Pop Density'), ('OBESITY_CrudePrev', 'label'), ('label', 'Pop Density'), ('Income', 'OBESITY_CrudePrev')])\n",
      "(-12438.268567800831, [('Pop Density', 'label'), ('OBESITY_CrudePrev', 'Pop Density'), ('OBESITY_CrudePrev', 'label'), ('Income', 'OBESITY_CrudePrev')])\n",
      "(-12438.268567800833, [('Pop Density', 'OBESITY_CrudePrev'), ('Pop Density', 'label'), ('OBESITY_CrudePrev', 'Income'), ('OBESITY_CrudePrev', 'label')])\n",
      "(-12438.268567800833, [('OBESITY_CrudePrev', 'Pop Density'), ('OBESITY_CrudePrev', 'Income'), ('label', 'Pop Density'), ('label', 'OBESITY_CrudePrev')])\n",
      "(-12438.268567800833, [('OBESITY_CrudePrev', 'Pop Density'), ('OBESITY_CrudePrev', 'Income'), ('OBESITY_CrudePrev', 'label'), ('label', 'Pop Density')])\n",
      "(-12438.268567800833, [('Pop Density', 'label'), ('OBESITY_CrudePrev', 'Pop Density'), ('OBESITY_CrudePrev', 'Income'), ('OBESITY_CrudePrev', 'label')])\n",
      "(-12439.747065008092, [('Pop Density', 'OBESITY_CrudePrev'), ('OBESITY_CrudePrev', 'Income'), ('label', 'OBESITY_CrudePrev')])\n",
      "(-12450.498619685801, [('label', 'Pop Density'), ('label', 'Income')])\n",
      "(-12450.498619685801, [('Pop Density', 'label'), ('label', 'Income')])\n",
      "(-12450.498619685801, [('label', 'Pop Density'), ('Income', 'label')])\n",
      "(-12451.977116893064, [('label', 'Income')])\n",
      "(-12451.977116893064, [('Income', 'label')])\n",
      "(-12461.176404977286, [('OBESITY_CrudePrev', 'label'), ('label', 'Pop Density'), ('Income', 'label'), ('Income', 'OBESITY_CrudePrev')])\n",
      "(-12461.176404977288, [('OBESITY_CrudePrev', 'Income'), ('label', 'Pop Density'), ('label', 'OBESITY_CrudePrev'), ('label', 'Income')])\n",
      "(-12461.176404977288, [('Pop Density', 'label'), ('OBESITY_CrudePrev', 'Income'), ('label', 'OBESITY_CrudePrev'), ('label', 'Income')])\n",
      "(-12461.176404977288, [('OBESITY_CrudePrev', 'Income'), ('OBESITY_CrudePrev', 'label'), ('label', 'Pop Density'), ('label', 'Income')])\n",
      "(-12461.176404977288, [('OBESITY_CrudePrev', 'Income'), ('OBESITY_CrudePrev', 'label'), ('label', 'Pop Density'), ('Income', 'label')])\n",
      "(-12461.17640497729, [('label', 'Pop Density'), ('label', 'OBESITY_CrudePrev'), ('label', 'Income'), ('Income', 'OBESITY_CrudePrev')])\n",
      "(-12461.17640497729, [('Pop Density', 'label'), ('label', 'OBESITY_CrudePrev'), ('label', 'Income'), ('Income', 'OBESITY_CrudePrev')])\n",
      "(-12461.17640497729, [('label', 'Pop Density'), ('label', 'OBESITY_CrudePrev'), ('Income', 'label'), ('Income', 'OBESITY_CrudePrev')])\n",
      "(-12462.654902184549, [('OBESITY_CrudePrev', 'Income'), ('label', 'OBESITY_CrudePrev'), ('label', 'Income')])\n",
      "(-12462.654902184549, [('OBESITY_CrudePrev', 'label'), ('Income', 'label'), ('Income', 'OBESITY_CrudePrev')])\n",
      "(-12462.654902184551, [('OBESITY_CrudePrev', 'Income'), ('OBESITY_CrudePrev', 'label'), ('label', 'Income')])\n",
      "(-12462.654902184551, [('OBESITY_CrudePrev', 'Income'), ('OBESITY_CrudePrev', 'label'), ('Income', 'label')])\n",
      "(-12462.654902184553, [('label', 'OBESITY_CrudePrev'), ('label', 'Income'), ('Income', 'OBESITY_CrudePrev')])\n",
      "(-12462.654902184553, [('label', 'OBESITY_CrudePrev'), ('Income', 'label'), ('Income', 'OBESITY_CrudePrev')])\n",
      "(-12474.181058217691, [('Pop Density', 'OBESITY_CrudePrev'), ('label', 'Pop Density'), ('label', 'Income')])\n",
      "(-12474.181058217691, [('Pop Density', 'OBESITY_CrudePrev'), ('Pop Density', 'label'), ('label', 'Income')])\n",
      "(-12474.181058217691, [('Pop Density', 'label'), ('OBESITY_CrudePrev', 'Pop Density'), ('label', 'Income')])\n",
      "(-12474.181058217691, [('Pop Density', 'OBESITY_CrudePrev'), ('label', 'Pop Density'), ('Income', 'label')])\n",
      "(-12475.659555424951, [('Pop Density', 'OBESITY_CrudePrev'), ('label', 'Income')])\n",
      "(-12475.659555424951, [('OBESITY_CrudePrev', 'Pop Density'), ('label', 'Income')])\n",
      "(-12475.659555424951, [('Pop Density', 'OBESITY_CrudePrev'), ('Income', 'label')])\n",
      "(-12475.659555424951, [('OBESITY_CrudePrev', 'Pop Density'), ('Income', 'label')])\n",
      "(-12484.762576351488, [('Pop Density', 'OBESITY_CrudePrev'), ('OBESITY_CrudePrev', 'label'), ('Income', 'OBESITY_CrudePrev')])\n",
      "(-12486.337340716436, [('OBESITY_CrudePrev', 'Pop Density'), ('OBESITY_CrudePrev', 'label'), ('Income', 'label'), ('Income', 'OBESITY_CrudePrev')])\n",
      "(-12486.337340716438, [('OBESITY_CrudePrev', 'Pop Density'), ('OBESITY_CrudePrev', 'Income'), ('label', 'OBESITY_CrudePrev'), ('label', 'Income')])\n",
      "(-12486.33734071644, [('Pop Density', 'OBESITY_CrudePrev'), ('OBESITY_CrudePrev', 'Income'), ('OBESITY_CrudePrev', 'label'), ('label', 'Income')])\n",
      "(-12486.33734071644, [('OBESITY_CrudePrev', 'Pop Density'), ('OBESITY_CrudePrev', 'Income'), ('OBESITY_CrudePrev', 'label'), ('label', 'Income')])\n",
      "(-12486.33734071644, [('Pop Density', 'OBESITY_CrudePrev'), ('OBESITY_CrudePrev', 'Income'), ('OBESITY_CrudePrev', 'label'), ('Income', 'label')])\n",
      "(-12486.33734071644, [('OBESITY_CrudePrev', 'Pop Density'), ('OBESITY_CrudePrev', 'Income'), ('OBESITY_CrudePrev', 'label'), ('Income', 'label')])\n",
      "(-12486.33734071644, [('OBESITY_CrudePrev', 'Pop Density'), ('label', 'OBESITY_CrudePrev'), ('label', 'Income'), ('Income', 'OBESITY_CrudePrev')])\n",
      "(-12486.33734071644, [('OBESITY_CrudePrev', 'Pop Density'), ('label', 'OBESITY_CrudePrev'), ('Income', 'label'), ('Income', 'OBESITY_CrudePrev')])\n",
      "(-12551.75747985029, [('label', 'Pop Density'), ('label', 'OBESITY_CrudePrev'), ('label', 'Income'), ('Income', 'Pop Density')])\n",
      "(-12551.75747985029, [('OBESITY_CrudePrev', 'label'), ('label', 'Pop Density'), ('label', 'Income'), ('Income', 'Pop Density')])\n",
      "(-12551.75747985029, [('label', 'Pop Density'), ('label', 'OBESITY_CrudePrev'), ('Income', 'Pop Density'), ('Income', 'label')])\n",
      "(-12551.75747985029, [('Pop Density', 'label'), ('label', 'OBESITY_CrudePrev'), ('Income', 'Pop Density'), ('Income', 'label')])\n",
      "(-12551.757479850292, [('Pop Density', 'Income'), ('label', 'Pop Density'), ('label', 'OBESITY_CrudePrev'), ('label', 'Income')])\n",
      "(-12551.757479850292, [('Pop Density', 'Income'), ('Pop Density', 'label'), ('label', 'OBESITY_CrudePrev'), ('label', 'Income')])\n",
      "(-12551.757479850292, [('Pop Density', 'Income'), ('OBESITY_CrudePrev', 'label'), ('label', 'Pop Density'), ('label', 'Income')])\n",
      "(-12551.757479850292, [('Pop Density', 'Income'), ('Pop Density', 'label'), ('label', 'OBESITY_CrudePrev'), ('Income', 'label')])\n",
      "(-12553.235977057553, [('Pop Density', 'Income'), ('label', 'OBESITY_CrudePrev'), ('label', 'Income')])\n",
      "(-12553.235977057555, [('Pop Density', 'Income'), ('OBESITY_CrudePrev', 'label'), ('label', 'Income')])\n",
      "(-12560.801861689408, [('Pop Density', 'Income'), ('label', 'Pop Density')])\n",
      "(-12560.801861689408, [('Pop Density', 'Income'), ('Pop Density', 'label')])\n",
      "(-12560.801861689408, [('Pop Density', 'label'), ('Income', 'Pop Density')])\n",
      "(-12562.280358896667, [('Income', 'Pop Density')])\n",
      "(-12562.280358896671, [('Pop Density', 'Income')])\n",
      "(-12571.479646980893, [('Pop Density', 'label'), ('label', 'OBESITY_CrudePrev'), ('Income', 'Pop Density'), ('Income', 'OBESITY_CrudePrev')])\n",
      "(-12571.479646980897, [('Pop Density', 'Income'), ('label', 'Pop Density'), ('label', 'OBESITY_CrudePrev'), ('Income', 'OBESITY_CrudePrev')])\n",
      "(-12571.479646980897, [('Pop Density', 'Income'), ('Pop Density', 'label'), ('label', 'OBESITY_CrudePrev'), ('Income', 'OBESITY_CrudePrev')])\n",
      "(-12572.958144188156, [('label', 'OBESITY_CrudePrev'), ('Income', 'Pop Density'), ('Income', 'OBESITY_CrudePrev')])\n",
      "(-12572.958144188158, [('Pop Density', 'Income'), ('label', 'OBESITY_CrudePrev'), ('Income', 'OBESITY_CrudePrev')])\n",
      "(-12576.918415589442, [('Pop Density', 'Income'), ('OBESITY_CrudePrev', 'Pop Density'), ('label', 'OBESITY_CrudePrev'), ('label', 'Income')])\n",
      "(-12576.918415589444, [('Pop Density', 'OBESITY_CrudePrev'), ('Pop Density', 'Income'), ('OBESITY_CrudePrev', 'label'), ('label', 'Income')])\n",
      "(-12576.918415589444, [('Pop Density', 'Income'), ('OBESITY_CrudePrev', 'Pop Density'), ('OBESITY_CrudePrev', 'label'), ('label', 'Income')])\n",
      "(-12584.450532653187, [('Pop Density', 'OBESITY_CrudePrev'), ('Pop Density', 'Income'), ('label', 'OBESITY_CrudePrev'), ('Income', 'label')])\n",
      "(-12584.450532653187, [('Pop Density', 'OBESITY_CrudePrev'), ('label', 'OBESITY_CrudePrev'), ('label', 'Income'), ('Income', 'Pop Density')])\n",
      "(-12584.450532653187, [('Pop Density', 'OBESITY_CrudePrev'), ('label', 'OBESITY_CrudePrev'), ('Income', 'Pop Density'), ('Income', 'label')])\n",
      "(-12584.484300221295, [('Pop Density', 'OBESITY_CrudePrev'), ('Pop Density', 'label'), ('Income', 'Pop Density')])\n",
      "(-12584.484300221297, [('Pop Density', 'OBESITY_CrudePrev'), ('Pop Density', 'Income'), ('label', 'Pop Density')])\n",
      "(-12584.484300221298, [('Pop Density', 'OBESITY_CrudePrev'), ('Pop Density', 'Income'), ('Pop Density', 'label')])\n",
      "(-12584.484300221298, [('Pop Density', 'Income'), ('Pop Density', 'label'), ('OBESITY_CrudePrev', 'Pop Density')])\n",
      "(-12585.962797428558, [('Pop Density', 'OBESITY_CrudePrev'), ('Pop Density', 'Income')])\n",
      "(-12585.962797428558, [('Pop Density', 'Income'), ('OBESITY_CrudePrev', 'Pop Density')])\n",
      "(-12585.962797428558, [('Pop Density', 'OBESITY_CrudePrev'), ('Income', 'Pop Density')])\n",
      "(-12618.818642171031, [('Pop Density', 'label'), ('label', 'OBESITY_CrudePrev'), ('Income', 'label')])\n",
      "(-12626.350759234778, [('Pop Density', 'label'), ('OBESITY_CrudePrev', 'label'), ('label', 'Income')])\n",
      "(-12627.863024010145, [('label', 'Pop Density')])\n",
      "(-12627.863024010145, [('Pop Density', 'label')])\n",
      "(-12629.341521217408, [])\n",
      "(-12629.466043996581, [('OBESITY_CrudePrev', 'Pop Density'), ('label', 'OBESITY_CrudePrev'), ('label', 'Income'), ('Income', 'Pop Density')])\n",
      "(-12629.466043996581, [('OBESITY_CrudePrev', 'Pop Density'), ('OBESITY_CrudePrev', 'label'), ('label', 'Income'), ('Income', 'Pop Density')])\n",
      "(-12629.466043996581, [('OBESITY_CrudePrev', 'Pop Density'), ('label', 'OBESITY_CrudePrev'), ('Income', 'Pop Density'), ('Income', 'label')])\n",
      "(-12638.540809301634, [('label', 'Pop Density'), ('label', 'OBESITY_CrudePrev'), ('Income', 'OBESITY_CrudePrev')])\n",
      "(-12638.540809301634, [('Pop Density', 'label'), ('label', 'OBESITY_CrudePrev'), ('Income', 'OBESITY_CrudePrev')])\n",
      "(-12640.019306508897, [('label', 'OBESITY_CrudePrev'), ('Income', 'OBESITY_CrudePrev')])\n",
      "(-12650.033197766665, [('Pop Density', 'OBESITY_CrudePrev'), ('label', 'Pop Density'), ('label', 'OBESITY_CrudePrev'), ('label', 'Income')])\n",
      "(-12650.033197766665, [('Pop Density', 'OBESITY_CrudePrev'), ('Pop Density', 'label'), ('label', 'OBESITY_CrudePrev'), ('label', 'Income')])\n",
      "(-12650.033197766665, [('Pop Density', 'OBESITY_CrudePrev'), ('Pop Density', 'label'), ('OBESITY_CrudePrev', 'label'), ('label', 'Income')])\n",
      "(-12650.033197766665, [('OBESITY_CrudePrev', 'Pop Density'), ('label', 'Pop Density'), ('label', 'OBESITY_CrudePrev'), ('label', 'Income')])\n",
      "(-12650.033197766665, [('OBESITY_CrudePrev', 'Pop Density'), ('OBESITY_CrudePrev', 'label'), ('label', 'Pop Density'), ('label', 'Income')])\n",
      "(-12650.033197766665, [('Pop Density', 'label'), ('OBESITY_CrudePrev', 'Pop Density'), ('OBESITY_CrudePrev', 'label'), ('label', 'Income')])\n",
      "(-12650.033197766665, [('Pop Density', 'OBESITY_CrudePrev'), ('label', 'Pop Density'), ('label', 'OBESITY_CrudePrev'), ('Income', 'label')])\n",
      "(-12650.033197766665, [('OBESITY_CrudePrev', 'Pop Density'), ('label', 'Pop Density'), ('label', 'OBESITY_CrudePrev'), ('Income', 'label')])\n",
      "(-12651.511694973924, [('Pop Density', 'OBESITY_CrudePrev'), ('label', 'OBESITY_CrudePrev'), ('label', 'Income')])\n",
      "(-12651.511694973924, [('Pop Density', 'OBESITY_CrudePrev'), ('label', 'OBESITY_CrudePrev'), ('Income', 'label')])\n",
      "(-12651.545462542035, [('Pop Density', 'OBESITY_CrudePrev'), ('label', 'Pop Density')])\n",
      "(-12651.545462542035, [('Pop Density', 'OBESITY_CrudePrev'), ('Pop Density', 'label')])\n",
      "(-12651.545462542035, [('Pop Density', 'label'), ('OBESITY_CrudePrev', 'Pop Density')])\n",
      "(-12653.023959749295, [('Pop Density', 'OBESITY_CrudePrev')])\n",
      "(-12653.023959749295, [('OBESITY_CrudePrev', 'Pop Density')])\n",
      "(-12663.701745040784, [('OBESITY_CrudePrev', 'Pop Density'), ('label', 'OBESITY_CrudePrev'), ('Income', 'OBESITY_CrudePrev')])\n",
      "(-12725.966853222239, [('label', 'Pop Density'), ('label', 'Income'), ('Income', 'Pop Density'), ('Income', 'OBESITY_CrudePrev')])\n",
      "(-12725.966853222239, [('label', 'Pop Density'), ('Income', 'Pop Density'), ('Income', 'label'), ('Income', 'OBESITY_CrudePrev')])\n",
      "(-12725.966853222239, [('Pop Density', 'label'), ('Income', 'Pop Density'), ('Income', 'label'), ('Income', 'OBESITY_CrudePrev')])\n",
      "(-12725.96685322224, [('OBESITY_CrudePrev', 'Income'), ('label', 'Pop Density'), ('Income', 'Pop Density'), ('Income', 'label')])\n",
      "(-12725.96685322224, [('Pop Density', 'label'), ('OBESITY_CrudePrev', 'Income'), ('Income', 'Pop Density'), ('Income', 'label')])\n",
      "(-12725.96685322224, [('Pop Density', 'Income'), ('label', 'Pop Density'), ('label', 'Income'), ('Income', 'OBESITY_CrudePrev')])\n",
      "(-12725.96685322224, [('Pop Density', 'Income'), ('Pop Density', 'label'), ('label', 'Income'), ('Income', 'OBESITY_CrudePrev')])\n",
      "(-12725.96685322224, [('Pop Density', 'Income'), ('Pop Density', 'label'), ('Income', 'label'), ('Income', 'OBESITY_CrudePrev')])\n",
      "(-12727.445350429502, [('Pop Density', 'Income'), ('label', 'Income'), ('Income', 'OBESITY_CrudePrev')])\n",
      "(-12729.121884174634, [('label', 'Pop Density'), ('label', 'OBESITY_CrudePrev'), ('Income', 'Pop Density')])\n",
      "(-12729.121884174634, [('OBESITY_CrudePrev', 'label'), ('label', 'Pop Density'), ('Income', 'Pop Density')])\n",
      "(-12736.654001238381, [('Pop Density', 'label'), ('OBESITY_CrudePrev', 'label'), ('Income', 'Pop Density')])\n",
      "(-12736.654001238383, [('Pop Density', 'Income'), ('Pop Density', 'label'), ('OBESITY_CrudePrev', 'label')])\n",
      "(-12760.336439770268, [('Pop Density', 'OBESITY_CrudePrev'), ('Pop Density', 'label'), ('label', 'OBESITY_CrudePrev'), ('Income', 'Pop Density')])\n",
      "(-12760.336439770268, [('Pop Density', 'OBESITY_CrudePrev'), ('Pop Density', 'label'), ('OBESITY_CrudePrev', 'label'), ('Income', 'Pop Density')])\n",
      "(-12760.33643977027, [('Pop Density', 'OBESITY_CrudePrev'), ('Pop Density', 'Income'), ('label', 'Pop Density'), ('label', 'OBESITY_CrudePrev')])\n",
      "(-12760.33643977027, [('Pop Density', 'OBESITY_CrudePrev'), ('Pop Density', 'Income'), ('Pop Density', 'label'), ('label', 'OBESITY_CrudePrev')])\n",
      "(-12760.336439770272, [('Pop Density', 'OBESITY_CrudePrev'), ('Pop Density', 'Income'), ('Pop Density', 'label'), ('OBESITY_CrudePrev', 'label')])\n",
      "(-12760.336439770272, [('Pop Density', 'Income'), ('OBESITY_CrudePrev', 'Pop Density'), ('label', 'Pop Density'), ('label', 'OBESITY_CrudePrev')])\n",
      "(-12760.336439770272, [('Pop Density', 'Income'), ('OBESITY_CrudePrev', 'Pop Density'), ('OBESITY_CrudePrev', 'label'), ('label', 'Pop Density')])\n",
      "(-12760.336439770272, [('Pop Density', 'Income'), ('Pop Density', 'label'), ('OBESITY_CrudePrev', 'Pop Density'), ('OBESITY_CrudePrev', 'label')])\n",
      "(-12761.814936977531, [('Pop Density', 'OBESITY_CrudePrev'), ('Pop Density', 'Income'), ('label', 'OBESITY_CrudePrev')])\n",
      "(-12761.814936977531, [('Pop Density', 'OBESITY_CrudePrev'), ('label', 'OBESITY_CrudePrev'), ('Income', 'Pop Density')])\n",
      "(-12779.992978836641, [('Pop Density', 'Income'), ('OBESITY_CrudePrev', 'Income'), ('Income', 'label')])\n",
      "(-12784.722774153986, [('OBESITY_CrudePrev', 'label'), ('Income', 'Pop Density'), ('Income', 'label')])\n",
      "(-12784.72277415399, [('Pop Density', 'Income'), ('OBESITY_CrudePrev', 'label'), ('Income', 'label')])\n",
      "(-12793.028015542979, [('Pop Density', 'label'), ('Income', 'label'), ('Income', 'OBESITY_CrudePrev')])\n",
      "(-12793.028015542981, [('Pop Density', 'label'), ('OBESITY_CrudePrev', 'Income'), ('Income', 'label')])\n",
      "(-12803.675417368529, [('Pop Density', 'OBESITY_CrudePrev'), ('Pop Density', 'Income'), ('OBESITY_CrudePrev', 'Income'), ('Income', 'label')])\n",
      "(-12803.675417368529, [('Pop Density', 'Income'), ('OBESITY_CrudePrev', 'Pop Density'), ('OBESITY_CrudePrev', 'Income'), ('Income', 'label')])\n",
      "(-12803.675417368529, [('Pop Density', 'OBESITY_CrudePrev'), ('label', 'Income'), ('Income', 'Pop Density'), ('Income', 'OBESITY_CrudePrev')])\n",
      "(-12803.675417368529, [('OBESITY_CrudePrev', 'Pop Density'), ('label', 'Income'), ('Income', 'Pop Density'), ('Income', 'OBESITY_CrudePrev')])\n",
      "(-12803.675417368529, [('Pop Density', 'OBESITY_CrudePrev'), ('Income', 'Pop Density'), ('Income', 'label'), ('Income', 'OBESITY_CrudePrev')])\n",
      "(-12803.675417368529, [('OBESITY_CrudePrev', 'Pop Density'), ('Income', 'Pop Density'), ('Income', 'label'), ('Income', 'OBESITY_CrudePrev')])\n",
      "(-12803.675417368531, [('OBESITY_CrudePrev', 'Pop Density'), ('OBESITY_CrudePrev', 'Income'), ('Income', 'Pop Density'), ('Income', 'label')])\n",
      "(-12803.675417368531, [('Pop Density', 'OBESITY_CrudePrev'), ('Pop Density', 'Income'), ('Income', 'label'), ('Income', 'OBESITY_CrudePrev')])\n",
      "(-12803.715163559122, [('Pop Density', 'label'), ('OBESITY_CrudePrev', 'label')])\n",
      "(-12806.830448320925, [('OBESITY_CrudePrev', 'Pop Density'), ('label', 'OBESITY_CrudePrev'), ('Income', 'Pop Density')])\n",
      "(-12806.830448320925, [('OBESITY_CrudePrev', 'Pop Density'), ('OBESITY_CrudePrev', 'label'), ('Income', 'Pop Density')])\n",
      "(-12808.405212685877, [('Pop Density', 'OBESITY_CrudePrev'), ('OBESITY_CrudePrev', 'label'), ('Income', 'Pop Density'), ('Income', 'label')])\n",
      "(-12808.405212685879, [('Pop Density', 'OBESITY_CrudePrev'), ('Pop Density', 'Income'), ('OBESITY_CrudePrev', 'label'), ('Income', 'label')])\n",
      "(-12808.405212685879, [('Pop Density', 'Income'), ('OBESITY_CrudePrev', 'Pop Density'), ('OBESITY_CrudePrev', 'label'), ('Income', 'label')])\n",
      "(-12816.710454074866, [('Pop Density', 'label'), ('OBESITY_CrudePrev', 'Pop Density'), ('Income', 'label'), ('Income', 'OBESITY_CrudePrev')])\n",
      "(-12816.710454074868, [('Pop Density', 'OBESITY_CrudePrev'), ('Pop Density', 'label'), ('OBESITY_CrudePrev', 'Income'), ('Income', 'label')])\n",
      "(-12816.710454074868, [('Pop Density', 'label'), ('OBESITY_CrudePrev', 'Pop Density'), ('OBESITY_CrudePrev', 'Income'), ('Income', 'label')])\n",
      "(-12824.242571138613, [('OBESITY_CrudePrev', 'Pop Density'), ('label', 'Pop Density'), ('label', 'Income'), ('Income', 'OBESITY_CrudePrev')])\n",
      "(-12824.242571138613, [('OBESITY_CrudePrev', 'Pop Density'), ('label', 'Pop Density'), ('Income', 'label'), ('Income', 'OBESITY_CrudePrev')])\n",
      "(-12824.242571138615, [('OBESITY_CrudePrev', 'Pop Density'), ('OBESITY_CrudePrev', 'Income'), ('label', 'Pop Density'), ('Income', 'label')])\n",
      "(-12827.397602091009, [('Pop Density', 'OBESITY_CrudePrev'), ('label', 'Pop Density'), ('label', 'OBESITY_CrudePrev')])\n",
      "(-12827.397602091009, [('Pop Density', 'OBESITY_CrudePrev'), ('Pop Density', 'label'), ('label', 'OBESITY_CrudePrev')])\n",
      "(-12827.397602091009, [('Pop Density', 'OBESITY_CrudePrev'), ('Pop Density', 'label'), ('OBESITY_CrudePrev', 'label')])\n",
      "(-12827.397602091009, [('OBESITY_CrudePrev', 'Pop Density'), ('label', 'Pop Density'), ('label', 'OBESITY_CrudePrev')])\n",
      "(-12827.397602091009, [('OBESITY_CrudePrev', 'Pop Density'), ('OBESITY_CrudePrev', 'label'), ('label', 'Pop Density')])\n",
      "(-12827.397602091009, [('Pop Density', 'label'), ('OBESITY_CrudePrev', 'Pop Density'), ('OBESITY_CrudePrev', 'label')])\n",
      "(-12828.876099298268, [('Pop Density', 'OBESITY_CrudePrev'), ('label', 'OBESITY_CrudePrev')])\n",
      "(-12850.305439267464, [('OBESITY_CrudePrev', 'label'), ('label', 'Pop Density'), ('Income', 'label')])\n",
      "(-12851.783936474727, [('OBESITY_CrudePrev', 'label'), ('Income', 'label')])\n",
      "(-12869.258082482007, [('Pop Density', 'OBESITY_CrudePrev'), ('label', 'Pop Density'), ('label', 'Income'), ('Income', 'OBESITY_CrudePrev')])\n",
      "(-12869.258082482007, [('Pop Density', 'OBESITY_CrudePrev'), ('Pop Density', 'label'), ('label', 'Income'), ('Income', 'OBESITY_CrudePrev')])\n",
      "(-12869.258082482007, [('Pop Density', 'OBESITY_CrudePrev'), ('label', 'Pop Density'), ('Income', 'label'), ('Income', 'OBESITY_CrudePrev')])\n",
      "(-12870.73657968927, [('Pop Density', 'OBESITY_CrudePrev'), ('label', 'Income'), ('Income', 'OBESITY_CrudePrev')])\n",
      "(-12870.73657968927, [('Pop Density', 'OBESITY_CrudePrev'), ('Income', 'label'), ('Income', 'OBESITY_CrudePrev')])\n",
      "(-12875.466375006617, [('Pop Density', 'OBESITY_CrudePrev'), ('OBESITY_CrudePrev', 'label'), ('Income', 'label')])\n",
      "(-12875.466375006617, [('OBESITY_CrudePrev', 'Pop Density'), ('OBESITY_CrudePrev', 'label'), ('Income', 'label')])\n",
      "(-12903.331257546582, [('label', 'Pop Density'), ('Income', 'Pop Density'), ('Income', 'OBESITY_CrudePrev')])\n",
      "(-12903.331257546584, [('OBESITY_CrudePrev', 'Income'), ('label', 'Pop Density'), ('Income', 'Pop Density')])\n",
      "(-12955.878885953724, [('Pop Density', 'Income'), ('OBESITY_CrudePrev', 'Income'), ('label', 'Pop Density')])\n",
      "(-12955.878885953724, [('Pop Density', 'Income'), ('Pop Density', 'label'), ('OBESITY_CrudePrev', 'Income')])\n",
      "(-12957.357383160987, [('Pop Density', 'Income'), ('OBESITY_CrudePrev', 'Income')])\n",
      "(-12958.932147525937, [('OBESITY_CrudePrev', 'Income'), ('label', 'Income'), ('Income', 'Pop Density')])\n",
      "(-12979.56132448561, [('Pop Density', 'OBESITY_CrudePrev'), ('Pop Density', 'label'), ('Income', 'Pop Density'), ('Income', 'OBESITY_CrudePrev')])\n",
      "(-12979.561324485612, [('Pop Density', 'OBESITY_CrudePrev'), ('Pop Density', 'Income'), ('OBESITY_CrudePrev', 'Income'), ('label', 'Pop Density')])\n",
      "(-12979.561324485614, [('Pop Density', 'OBESITY_CrudePrev'), ('Pop Density', 'Income'), ('Pop Density', 'label'), ('OBESITY_CrudePrev', 'Income')])\n",
      "(-12979.561324485614, [('Pop Density', 'Income'), ('Pop Density', 'label'), ('OBESITY_CrudePrev', 'Pop Density'), ('OBESITY_CrudePrev', 'Income')])\n",
      "(-12979.561324485614, [('Pop Density', 'label'), ('OBESITY_CrudePrev', 'Pop Density'), ('OBESITY_CrudePrev', 'Income'), ('Income', 'Pop Density')])\n",
      "(-12979.561324485614, [('Pop Density', 'OBESITY_CrudePrev'), ('Pop Density', 'Income'), ('label', 'Pop Density'), ('Income', 'OBESITY_CrudePrev')])\n",
      "(-12979.561324485614, [('Pop Density', 'OBESITY_CrudePrev'), ('Pop Density', 'Income'), ('Pop Density', 'label'), ('Income', 'OBESITY_CrudePrev')])\n",
      "(-12979.561324485614, [('Pop Density', 'label'), ('OBESITY_CrudePrev', 'Pop Density'), ('Income', 'Pop Density'), ('Income', 'OBESITY_CrudePrev')])\n",
      "(-12981.039821692873, [('Pop Density', 'OBESITY_CrudePrev'), ('Pop Density', 'Income'), ('OBESITY_CrudePrev', 'Income')])\n",
      "(-12981.039821692873, [('Pop Density', 'Income'), ('OBESITY_CrudePrev', 'Pop Density'), ('OBESITY_CrudePrev', 'Income')])\n",
      "(-12981.039821692873, [('Pop Density', 'OBESITY_CrudePrev'), ('Income', 'Pop Density'), ('Income', 'OBESITY_CrudePrev')])\n",
      "(-12981.039821692873, [('OBESITY_CrudePrev', 'Pop Density'), ('Income', 'Pop Density'), ('Income', 'OBESITY_CrudePrev')])\n",
      "(-12981.039821692875, [('OBESITY_CrudePrev', 'Pop Density'), ('OBESITY_CrudePrev', 'Income'), ('Income', 'Pop Density')])\n",
      "(-12981.039821692875, [('Pop Density', 'OBESITY_CrudePrev'), ('Pop Density', 'Income'), ('Income', 'OBESITY_CrudePrev')])\n",
      "(-13001.606975462957, [('OBESITY_CrudePrev', 'Pop Density'), ('label', 'Pop Density'), ('Income', 'OBESITY_CrudePrev')])\n",
      "(-13001.606975462959, [('OBESITY_CrudePrev', 'Pop Density'), ('OBESITY_CrudePrev', 'Income'), ('label', 'Pop Density')])\n",
      "(-13024.514812639414, [('OBESITY_CrudePrev', 'Income'), ('label', 'Pop Density'), ('label', 'Income')])\n",
      "(-13024.514812639414, [('Pop Density', 'label'), ('OBESITY_CrudePrev', 'Income'), ('label', 'Income')])\n",
      "(-13025.993309846677, [('OBESITY_CrudePrev', 'Income'), ('label', 'Income')])\n",
      "(-13046.622486806351, [('Pop Density', 'OBESITY_CrudePrev'), ('label', 'Pop Density'), ('Income', 'OBESITY_CrudePrev')])\n",
      "(-13046.622486806351, [('Pop Density', 'OBESITY_CrudePrev'), ('Pop Density', 'label'), ('Income', 'OBESITY_CrudePrev')])\n",
      "(-13048.100984013614, [('Pop Density', 'OBESITY_CrudePrev'), ('Income', 'OBESITY_CrudePrev')])\n",
      "(-13048.197251171303, [('Pop Density', 'OBESITY_CrudePrev'), ('OBESITY_CrudePrev', 'Income'), ('label', 'Pop Density'), ('label', 'Income')])\n",
      "(-13048.197251171305, [('Pop Density', 'OBESITY_CrudePrev'), ('Pop Density', 'label'), ('OBESITY_CrudePrev', 'Income'), ('label', 'Income')])\n",
      "(-13048.197251171305, [('Pop Density', 'label'), ('OBESITY_CrudePrev', 'Pop Density'), ('OBESITY_CrudePrev', 'Income'), ('label', 'Income')])\n",
      "(-13049.675748378564, [('Pop Density', 'OBESITY_CrudePrev'), ('OBESITY_CrudePrev', 'Income'), ('label', 'Income')])\n",
      "(-13049.675748378564, [('OBESITY_CrudePrev', 'Pop Density'), ('OBESITY_CrudePrev', 'Income'), ('label', 'Income')])\n",
      "(-13115.095887512416, [('label', 'Pop Density'), ('label', 'Income'), ('Income', 'Pop Density')])\n",
      "(-13115.095887512416, [('label', 'Pop Density'), ('Income', 'Pop Density'), ('Income', 'label')])\n",
      "(-13115.095887512416, [('Pop Density', 'label'), ('Income', 'Pop Density'), ('Income', 'label')])\n",
      "(-13115.095887512418, [('Pop Density', 'Income'), ('label', 'Pop Density'), ('label', 'Income')])\n",
      "(-13115.095887512418, [('Pop Density', 'Income'), ('Pop Density', 'label'), ('label', 'Income')])\n",
      "(-13115.09588751242, [('Pop Density', 'Income'), ('Pop Density', 'label'), ('Income', 'label')])\n",
      "(-13116.574384719681, [('Pop Density', 'Income'), ('label', 'Income')])\n",
      "(-13125.773672803902, [('OBESITY_CrudePrev', 'label'), ('label', 'Pop Density'), ('Income', 'Pop Density'), ('Income', 'label'), ('Income', 'OBESITY_CrudePrev')])\n",
      "(-13125.773672803904, [('OBESITY_CrudePrev', 'Income'), ('label', 'Pop Density'), ('label', 'OBESITY_CrudePrev'), ('label', 'Income'), ('Income', 'Pop Density')])\n",
      "(-13125.773672803904, [('OBESITY_CrudePrev', 'Income'), ('OBESITY_CrudePrev', 'label'), ('label', 'Pop Density'), ('label', 'Income'), ('Income', 'Pop Density')])\n",
      "(-13125.773672803904, [('OBESITY_CrudePrev', 'Income'), ('OBESITY_CrudePrev', 'label'), ('label', 'Pop Density'), ('Income', 'Pop Density'), ('Income', 'label')])\n",
      "(-13125.773672803905, [('label', 'Pop Density'), ('label', 'OBESITY_CrudePrev'), ('label', 'Income'), ('Income', 'Pop Density'), ('Income', 'OBESITY_CrudePrev')])\n",
      "(-13125.773672803905, [('label', 'Pop Density'), ('label', 'OBESITY_CrudePrev'), ('Income', 'Pop Density'), ('Income', 'label'), ('Income', 'OBESITY_CrudePrev')])\n",
      "(-13125.773672803905, [('Pop Density', 'label'), ('label', 'OBESITY_CrudePrev'), ('Income', 'Pop Density'), ('Income', 'label'), ('Income', 'OBESITY_CrudePrev')])\n",
      "(-13125.773672803907, [('Pop Density', 'Income'), ('label', 'Pop Density'), ('label', 'OBESITY_CrudePrev'), ('label', 'Income'), ('Income', 'OBESITY_CrudePrev')])\n",
      "(-13125.773672803907, [('Pop Density', 'Income'), ('Pop Density', 'label'), ('label', 'OBESITY_CrudePrev'), ('label', 'Income'), ('Income', 'OBESITY_CrudePrev')])\n",
      "(-13125.773672803907, [('Pop Density', 'Income'), ('Pop Density', 'label'), ('label', 'OBESITY_CrudePrev'), ('Income', 'label'), ('Income', 'OBESITY_CrudePrev')])\n",
      "(-13127.252170011168, [('Pop Density', 'Income'), ('label', 'OBESITY_CrudePrev'), ('label', 'Income'), ('Income', 'OBESITY_CrudePrev')])\n",
      "(-13131.731025502699, [('Pop Density', 'Income'), ('Pop Density', 'label'), ('OBESITY_CrudePrev', 'Income'), ('OBESITY_CrudePrev', 'label')])\n",
      "(-13138.778326044307, [('Pop Density', 'OBESITY_CrudePrev'), ('Pop Density', 'Income'), ('label', 'Pop Density'), ('label', 'Income')])\n",
      "(-13138.778326044307, [('Pop Density', 'OBESITY_CrudePrev'), ('Pop Density', 'Income'), ('Pop Density', 'label'), ('Income', 'label')])\n",
      "(-13138.778326044307, [('Pop Density', 'Income'), ('Pop Density', 'label'), ('OBESITY_CrudePrev', 'Pop Density'), ('Income', 'label')])\n",
      "(-13138.778326044307, [('Pop Density', 'OBESITY_CrudePrev'), ('label', 'Pop Density'), ('label', 'Income'), ('Income', 'Pop Density')])\n",
      "(-13138.778326044307, [('Pop Density', 'OBESITY_CrudePrev'), ('label', 'Pop Density'), ('Income', 'Pop Density'), ('Income', 'label')])\n",
      "(-13138.778326044307, [('Pop Density', 'OBESITY_CrudePrev'), ('Pop Density', 'label'), ('Income', 'Pop Density'), ('Income', 'label')])\n",
      "(-13138.778326044308, [('Pop Density', 'OBESITY_CrudePrev'), ('Pop Density', 'Income'), ('Pop Density', 'label'), ('label', 'Income')])\n",
      "(-13138.778326044308, [('Pop Density', 'Income'), ('Pop Density', 'label'), ('OBESITY_CrudePrev', 'Pop Density'), ('label', 'Income')])\n",
      "(-13140.256823251568, [('Pop Density', 'OBESITY_CrudePrev'), ('Pop Density', 'Income'), ('label', 'Income')])\n",
      "(-13140.256823251568, [('Pop Density', 'Income'), ('OBESITY_CrudePrev', 'Pop Density'), ('label', 'Income')])\n",
      "(-13155.413464034586, [('Pop Density', 'OBESITY_CrudePrev'), ('Pop Density', 'Income'), ('OBESITY_CrudePrev', 'Income'), ('label', 'Pop Density'), ('label', 'OBESITY_CrudePrev')])\n",
      "(-13155.413464034586, [('Pop Density', 'OBESITY_CrudePrev'), ('Pop Density', 'Income'), ('Pop Density', 'label'), ('OBESITY_CrudePrev', 'Income'), ('label', 'OBESITY_CrudePrev')])\n",
      "(-13155.413464034587, [('Pop Density', 'OBESITY_CrudePrev'), ('Pop Density', 'Income'), ('Pop Density', 'label'), ('OBESITY_CrudePrev', 'Income'), ('OBESITY_CrudePrev', 'label')])\n",
      "(-13155.413464034587, [('Pop Density', 'Income'), ('OBESITY_CrudePrev', 'Pop Density'), ('OBESITY_CrudePrev', 'Income'), ('label', 'Pop Density'), ('label', 'OBESITY_CrudePrev')])\n",
      "(-13155.413464034587, [('Pop Density', 'Income'), ('OBESITY_CrudePrev', 'Pop Density'), ('OBESITY_CrudePrev', 'Income'), ('OBESITY_CrudePrev', 'label'), ('label', 'Pop Density')])\n",
      "(-13155.413464034587, [('Pop Density', 'Income'), ('Pop Density', 'label'), ('OBESITY_CrudePrev', 'Pop Density'), ('OBESITY_CrudePrev', 'Income'), ('OBESITY_CrudePrev', 'label')])\n",
      "(-13155.413464034587, [('Pop Density', 'label'), ('OBESITY_CrudePrev', 'Pop Density'), ('OBESITY_CrudePrev', 'Income'), ('OBESITY_CrudePrev', 'label'), ('Income', 'Pop Density')])\n",
      "(-13155.413464034587, [('Pop Density', 'OBESITY_CrudePrev'), ('Pop Density', 'Income'), ('Pop Density', 'label'), ('OBESITY_CrudePrev', 'label'), ('Income', 'OBESITY_CrudePrev')])\n",
      "(-13155.413464034587, [('Pop Density', 'OBESITY_CrudePrev'), ('Pop Density', 'label'), ('OBESITY_CrudePrev', 'label'), ('Income', 'Pop Density'), ('Income', 'OBESITY_CrudePrev')])\n",
      "(-13155.413464034587, [('Pop Density', 'label'), ('OBESITY_CrudePrev', 'Pop Density'), ('OBESITY_CrudePrev', 'label'), ('Income', 'Pop Density'), ('Income', 'OBESITY_CrudePrev')])\n",
      "(-13156.891961241847, [('Pop Density', 'OBESITY_CrudePrev'), ('Pop Density', 'Income'), ('OBESITY_CrudePrev', 'Income'), ('label', 'OBESITY_CrudePrev')])\n",
      "(-13179.799798418306, [('Pop Density', 'Income'), ('OBESITY_CrudePrev', 'Income'), ('OBESITY_CrudePrev', 'label'), ('Income', 'label')])\n",
      "(-13182.157049833157, [('Pop Density', 'label'), ('Income', 'label')])\n",
      "(-13192.804451658707, [('OBESITY_CrudePrev', 'Pop Density'), ('label', 'Income'), ('Income', 'Pop Density')])\n",
      "(-13192.804451658707, [('OBESITY_CrudePrev', 'Pop Density'), ('Income', 'Pop Density'), ('Income', 'label')])\n",
      "(-13192.834835124646, [('Pop Density', 'label'), ('label', 'OBESITY_CrudePrev'), ('Income', 'label'), ('Income', 'OBESITY_CrudePrev')])\n",
      "(-13200.366952188389, [('Pop Density', 'label'), ('OBESITY_CrudePrev', 'Income'), ('OBESITY_CrudePrev', 'label'), ('label', 'Income')])\n",
      "(-13203.482236950193, [('Pop Density', 'OBESITY_CrudePrev'), ('OBESITY_CrudePrev', 'label'), ('Income', 'Pop Density'), ('Income', 'label'), ('Income', 'OBESITY_CrudePrev')])\n",
      "(-13203.482236950193, [('OBESITY_CrudePrev', 'Pop Density'), ('OBESITY_CrudePrev', 'label'), ('Income', 'Pop Density'), ('Income', 'label'), ('Income', 'OBESITY_CrudePrev')])\n",
      "(-13203.482236950194, [('Pop Density', 'OBESITY_CrudePrev'), ('Pop Density', 'Income'), ('OBESITY_CrudePrev', 'Income'), ('OBESITY_CrudePrev', 'label'), ('Income', 'label')])\n",
      "(-13203.482236950194, [('Pop Density', 'Income'), ('OBESITY_CrudePrev', 'Pop Density'), ('OBESITY_CrudePrev', 'Income'), ('OBESITY_CrudePrev', 'label'), ('Income', 'label')])\n",
      "(-13203.482236950194, [('OBESITY_CrudePrev', 'Pop Density'), ('OBESITY_CrudePrev', 'Income'), ('label', 'OBESITY_CrudePrev'), ('label', 'Income'), ('Income', 'Pop Density')])\n",
      "(-13203.482236950194, [('OBESITY_CrudePrev', 'Pop Density'), ('OBESITY_CrudePrev', 'Income'), ('OBESITY_CrudePrev', 'label'), ('label', 'Income'), ('Income', 'Pop Density')])\n",
      "(-13203.482236950194, [('OBESITY_CrudePrev', 'Pop Density'), ('OBESITY_CrudePrev', 'Income'), ('OBESITY_CrudePrev', 'label'), ('Income', 'Pop Density'), ('Income', 'label')])\n",
      "(-13203.482236950196, [('Pop Density', 'OBESITY_CrudePrev'), ('Pop Density', 'Income'), ('OBESITY_CrudePrev', 'label'), ('Income', 'label'), ('Income', 'OBESITY_CrudePrev')])\n",
      "(-13203.482236950196, [('OBESITY_CrudePrev', 'Pop Density'), ('label', 'OBESITY_CrudePrev'), ('label', 'Income'), ('Income', 'Pop Density'), ('Income', 'OBESITY_CrudePrev')])\n",
      "(-13203.482236950196, [('OBESITY_CrudePrev', 'Pop Density'), ('label', 'OBESITY_CrudePrev'), ('Income', 'Pop Density'), ('Income', 'label'), ('Income', 'OBESITY_CrudePrev')])\n",
      "(-13205.839488365044, [('Pop Density', 'OBESITY_CrudePrev'), ('Pop Density', 'label'), ('Income', 'label')])\n",
      "(-13205.839488365044, [('Pop Density', 'label'), ('OBESITY_CrudePrev', 'Pop Density'), ('Income', 'label')])\n",
      "(-13213.371605428791, [('OBESITY_CrudePrev', 'Pop Density'), ('label', 'Pop Density'), ('label', 'Income')])\n",
      "(-13213.371605428791, [('OBESITY_CrudePrev', 'Pop Density'), ('label', 'Pop Density'), ('Income', 'label')])\n",
      "(-13222.474626355324, [('Pop Density', 'OBESITY_CrudePrev'), ('Pop Density', 'label'), ('OBESITY_CrudePrev', 'label'), ('Income', 'OBESITY_CrudePrev')])\n",
      "(-13224.049390720276, [('Pop Density', 'OBESITY_CrudePrev'), ('OBESITY_CrudePrev', 'Income'), ('label', 'Pop Density'), ('label', 'OBESITY_CrudePrev'), ('label', 'Income')])\n",
      "(-13224.049390720276, [('Pop Density', 'OBESITY_CrudePrev'), ('Pop Density', 'label'), ('OBESITY_CrudePrev', 'Income'), ('label', 'OBESITY_CrudePrev'), ('label', 'Income')])\n",
      "(-13224.049390720276, [('OBESITY_CrudePrev', 'Pop Density'), ('OBESITY_CrudePrev', 'label'), ('label', 'Pop Density'), ('Income', 'label'), ('Income', 'OBESITY_CrudePrev')])\n",
      "(-13224.049390720278, [('Pop Density', 'OBESITY_CrudePrev'), ('Pop Density', 'label'), ('OBESITY_CrudePrev', 'Income'), ('OBESITY_CrudePrev', 'label'), ('label', 'Income')])\n",
      "(-13224.049390720278, [('OBESITY_CrudePrev', 'Pop Density'), ('OBESITY_CrudePrev', 'Income'), ('label', 'Pop Density'), ('label', 'OBESITY_CrudePrev'), ('label', 'Income')])\n",
      "(-13224.049390720278, [('OBESITY_CrudePrev', 'Pop Density'), ('OBESITY_CrudePrev', 'Income'), ('OBESITY_CrudePrev', 'label'), ('label', 'Pop Density'), ('label', 'Income')])\n",
      "(-13224.049390720278, [('Pop Density', 'label'), ('OBESITY_CrudePrev', 'Pop Density'), ('OBESITY_CrudePrev', 'Income'), ('OBESITY_CrudePrev', 'label'), ('label', 'Income')])\n",
      "(-13224.049390720278, [('OBESITY_CrudePrev', 'Pop Density'), ('OBESITY_CrudePrev', 'Income'), ('OBESITY_CrudePrev', 'label'), ('label', 'Pop Density'), ('Income', 'label')])\n",
      "(-13224.04939072028, [('OBESITY_CrudePrev', 'Pop Density'), ('label', 'Pop Density'), ('label', 'OBESITY_CrudePrev'), ('label', 'Income'), ('Income', 'OBESITY_CrudePrev')])\n",
      "(-13224.04939072028, [('OBESITY_CrudePrev', 'Pop Density'), ('label', 'Pop Density'), ('label', 'OBESITY_CrudePrev'), ('Income', 'label'), ('Income', 'OBESITY_CrudePrev')])\n",
      "(-13225.527887927537, [('Pop Density', 'OBESITY_CrudePrev'), ('OBESITY_CrudePrev', 'Income'), ('label', 'OBESITY_CrudePrev'), ('label', 'Income')])\n",
      "(-13270.543399270933, [('Pop Density', 'OBESITY_CrudePrev'), ('OBESITY_CrudePrev', 'label'), ('Income', 'label'), ('Income', 'OBESITY_CrudePrev')])\n",
      "(-13290.948027061393, [('Pop Density', 'Income'), ('Pop Density', 'label'), ('OBESITY_CrudePrev', 'label'), ('label', 'Income')])\n",
      "(-13292.46029183676, [('label', 'Pop Density'), ('Income', 'Pop Density')])\n",
      "(-13303.138077128249, [('label', 'Pop Density'), ('label', 'OBESITY_CrudePrev'), ('Income', 'Pop Density'), ('Income', 'OBESITY_CrudePrev')])\n",
      "(-13314.63046559328, [('Pop Density', 'OBESITY_CrudePrev'), ('Pop Density', 'Income'), ('label', 'Pop Density'), ('label', 'OBESITY_CrudePrev'), ('label', 'Income')])\n",
      "(-13314.63046559328, [('Pop Density', 'OBESITY_CrudePrev'), ('Pop Density', 'Income'), ('Pop Density', 'label'), ('label', 'OBESITY_CrudePrev'), ('label', 'Income')])\n",
      "(-13314.63046559328, [('Pop Density', 'OBESITY_CrudePrev'), ('Pop Density', 'Income'), ('Pop Density', 'label'), ('label', 'OBESITY_CrudePrev'), ('Income', 'label')])\n",
      "(-13314.63046559328, [('Pop Density', 'OBESITY_CrudePrev'), ('label', 'Pop Density'), ('label', 'OBESITY_CrudePrev'), ('label', 'Income'), ('Income', 'Pop Density')])\n",
      "(-13314.63046559328, [('Pop Density', 'OBESITY_CrudePrev'), ('label', 'Pop Density'), ('label', 'OBESITY_CrudePrev'), ('Income', 'Pop Density'), ('Income', 'label')])\n",
      "(-13314.63046559328, [('Pop Density', 'OBESITY_CrudePrev'), ('Pop Density', 'label'), ('label', 'OBESITY_CrudePrev'), ('Income', 'Pop Density'), ('Income', 'label')])\n",
      "(-13314.630465593282, [('Pop Density', 'OBESITY_CrudePrev'), ('Pop Density', 'Income'), ('Pop Density', 'label'), ('OBESITY_CrudePrev', 'label'), ('label', 'Income')])\n",
      "(-13314.630465593282, [('Pop Density', 'Income'), ('OBESITY_CrudePrev', 'Pop Density'), ('label', 'Pop Density'), ('label', 'OBESITY_CrudePrev'), ('label', 'Income')])\n",
      "(-13314.630465593282, [('Pop Density', 'Income'), ('OBESITY_CrudePrev', 'Pop Density'), ('OBESITY_CrudePrev', 'label'), ('label', 'Pop Density'), ('label', 'Income')])\n",
      "(-13314.630465593282, [('Pop Density', 'Income'), ('Pop Density', 'label'), ('OBESITY_CrudePrev', 'Pop Density'), ('OBESITY_CrudePrev', 'label'), ('label', 'Income')])\n",
      "(-13316.108962800541, [('Pop Density', 'OBESITY_CrudePrev'), ('Pop Density', 'Income'), ('label', 'OBESITY_CrudePrev'), ('label', 'Income')])\n",
      "(-13316.142730368651, [('Pop Density', 'OBESITY_CrudePrev'), ('label', 'Pop Density'), ('Income', 'Pop Density')])\n",
      "(-13323.674847432398, [('Pop Density', 'Income'), ('OBESITY_CrudePrev', 'Pop Density'), ('label', 'Pop Density')])\n",
      "(-13368.690358775792, [('Pop Density', 'label'), ('OBESITY_CrudePrev', 'Pop Density'), ('Income', 'Pop Density')])\n",
      "(-13370.168855983051, [('OBESITY_CrudePrev', 'Pop Density'), ('Income', 'Pop Density')])\n",
      "(-13380.84664127454, [('OBESITY_CrudePrev', 'Pop Density'), ('label', 'OBESITY_CrudePrev'), ('Income', 'Pop Density'), ('Income', 'OBESITY_CrudePrev')])\n",
      "(-13381.691627914017, [('Pop Density', 'OBESITY_CrudePrev'), ('Pop Density', 'label'), ('label', 'OBESITY_CrudePrev'), ('Income', 'label')])\n",
      "(-13390.736009753135, [('OBESITY_CrudePrev', 'Pop Density'), ('label', 'Pop Density')])\n",
      "(-13401.413795044624, [('OBESITY_CrudePrev', 'Pop Density'), ('label', 'Pop Density'), ('label', 'OBESITY_CrudePrev'), ('Income', 'OBESITY_CrudePrev')])\n",
      "(-13491.994869917624, [('Pop Density', 'OBESITY_CrudePrev'), ('label', 'Pop Density'), ('label', 'OBESITY_CrudePrev'), ('Income', 'Pop Density')])\n",
      "(-13510.172911776735, [('Pop Density', 'Income'), ('Pop Density', 'label'), ('OBESITY_CrudePrev', 'Income'), ('Income', 'label')])\n",
      "(-13514.902707094079, [('OBESITY_CrudePrev', 'label'), ('label', 'Pop Density'), ('Income', 'Pop Density'), ('Income', 'label')])\n",
      "(-13533.855350308622, [('Pop Density', 'OBESITY_CrudePrev'), ('Pop Density', 'Income'), ('Pop Density', 'label'), ('OBESITY_CrudePrev', 'Income'), ('Income', 'label')])\n",
      "(-13533.855350308622, [('Pop Density', 'Income'), ('Pop Density', 'label'), ('OBESITY_CrudePrev', 'Pop Density'), ('OBESITY_CrudePrev', 'Income'), ('Income', 'label')])\n",
      "(-13533.855350308622, [('Pop Density', 'OBESITY_CrudePrev'), ('label', 'Pop Density'), ('label', 'Income'), ('Income', 'Pop Density'), ('Income', 'OBESITY_CrudePrev')])\n",
      "(-13533.855350308622, [('Pop Density', 'OBESITY_CrudePrev'), ('label', 'Pop Density'), ('Income', 'Pop Density'), ('Income', 'label'), ('Income', 'OBESITY_CrudePrev')])\n",
      "(-13533.855350308622, [('Pop Density', 'OBESITY_CrudePrev'), ('Pop Density', 'label'), ('Income', 'Pop Density'), ('Income', 'label'), ('Income', 'OBESITY_CrudePrev')])\n",
      "(-13533.855350308622, [('Pop Density', 'label'), ('OBESITY_CrudePrev', 'Pop Density'), ('Income', 'Pop Density'), ('Income', 'label'), ('Income', 'OBESITY_CrudePrev')])\n",
      "(-13533.855350308624, [('Pop Density', 'label'), ('OBESITY_CrudePrev', 'Pop Density'), ('OBESITY_CrudePrev', 'Income'), ('Income', 'Pop Density'), ('Income', 'label')])\n",
      "(-13533.855350308624, [('Pop Density', 'OBESITY_CrudePrev'), ('Pop Density', 'Income'), ('label', 'Pop Density'), ('label', 'Income'), ('Income', 'OBESITY_CrudePrev')])\n",
      "(-13533.855350308624, [('Pop Density', 'OBESITY_CrudePrev'), ('Pop Density', 'Income'), ('Pop Density', 'label'), ('label', 'Income'), ('Income', 'OBESITY_CrudePrev')])\n",
      "(-13533.855350308624, [('Pop Density', 'OBESITY_CrudePrev'), ('Pop Density', 'Income'), ('Pop Density', 'label'), ('Income', 'label'), ('Income', 'OBESITY_CrudePrev')])\n",
      "(-13535.333847515885, [('Pop Density', 'OBESITY_CrudePrev'), ('Pop Density', 'Income'), ('label', 'Income'), ('Income', 'OBESITY_CrudePrev')])\n",
      "(-13544.542498324765, [('Pop Density', 'label'), ('OBESITY_CrudePrev', 'Pop Density'), ('OBESITY_CrudePrev', 'label'), ('Income', 'Pop Density')])\n",
      "(-13592.61127124037, [('OBESITY_CrudePrev', 'Pop Density'), ('OBESITY_CrudePrev', 'label'), ('Income', 'Pop Density'), ('Income', 'label')])\n",
      "(-13600.916512629363, [('Pop Density', 'OBESITY_CrudePrev'), ('Pop Density', 'label'), ('Income', 'label'), ('Income', 'OBESITY_CrudePrev')])\n",
      "(-13613.178425010454, [('OBESITY_CrudePrev', 'Pop Density'), ('OBESITY_CrudePrev', 'label'), ('label', 'Pop Density'), ('Income', 'label')])\n",
      "(-13689.11208046603, [('OBESITY_CrudePrev', 'Income'), ('label', 'Pop Density'), ('label', 'Income'), ('Income', 'Pop Density')])\n",
      "(-13711.219754632966, [('Pop Density', 'OBESITY_CrudePrev'), ('label', 'Pop Density'), ('Income', 'Pop Density'), ('Income', 'OBESITY_CrudePrev')])\n",
      "(-13718.751871696713, [('Pop Density', 'Income'), ('OBESITY_CrudePrev', 'Pop Density'), ('OBESITY_CrudePrev', 'Income'), ('label', 'Pop Density')])\n",
      "(-13766.82064461232, [('OBESITY_CrudePrev', 'Pop Density'), ('OBESITY_CrudePrev', 'Income'), ('label', 'Income'), ('Income', 'Pop Density')])\n",
      "(-13787.387798382404, [('OBESITY_CrudePrev', 'Pop Density'), ('OBESITY_CrudePrev', 'Income'), ('label', 'Pop Density'), ('label', 'Income')])\n",
      "(-13877.968873255408, [('Pop Density', 'Income'), ('OBESITY_CrudePrev', 'Pop Density'), ('label', 'Pop Density'), ('label', 'Income')])\n",
      "(-13922.9843845988, [('Pop Density', 'label'), ('OBESITY_CrudePrev', 'Pop Density'), ('Income', 'Pop Density'), ('Income', 'label')])\n",
      "(-18847.726851376134, [('Pop Density', 'Income'), ('Pop Density', 'label'), ('OBESITY_CrudePrev', 'label'), ('Income', 'label'), ('Income', 'OBESITY_CrudePrev')])\n",
      "(-18847.726851376134, [('Pop Density', 'label'), ('OBESITY_CrudePrev', 'label'), ('Income', 'Pop Density'), ('Income', 'label'), ('Income', 'OBESITY_CrudePrev')])\n",
      "(-18847.726851376137, [('Pop Density', 'label'), ('OBESITY_CrudePrev', 'Income'), ('OBESITY_CrudePrev', 'label'), ('Income', 'Pop Density'), ('Income', 'label')])\n",
      "(-18869.834525543069, [('OBESITY_CrudePrev', 'Pop Density'), ('OBESITY_CrudePrev', 'Income'), ('label', 'Pop Density'), ('label', 'OBESITY_CrudePrev'), ('Income', 'Pop Density')])\n",
      "(-18869.834525543069, [('OBESITY_CrudePrev', 'Pop Density'), ('OBESITY_CrudePrev', 'Income'), ('OBESITY_CrudePrev', 'label'), ('label', 'Pop Density'), ('Income', 'Pop Density')])\n",
      "(-18869.834525543069, [('OBESITY_CrudePrev', 'Pop Density'), ('OBESITY_CrudePrev', 'label'), ('label', 'Pop Density'), ('Income', 'Pop Density'), ('Income', 'OBESITY_CrudePrev')])\n",
      "(-18892.742362719528, [('Pop Density', 'Income'), ('OBESITY_CrudePrev', 'Income'), ('label', 'Pop Density'), ('label', 'OBESITY_CrudePrev'), ('label', 'Income')])\n",
      "(-18892.742362719528, [('Pop Density', 'Income'), ('Pop Density', 'label'), ('OBESITY_CrudePrev', 'Income'), ('label', 'OBESITY_CrudePrev'), ('label', 'Income')])\n",
      "(-18892.742362719528, [('Pop Density', 'Income'), ('OBESITY_CrudePrev', 'Income'), ('OBESITY_CrudePrev', 'label'), ('label', 'Pop Density'), ('label', 'Income')])\n",
      "(-18894.220859926791, [('Pop Density', 'Income'), ('OBESITY_CrudePrev', 'Income'), ('label', 'OBESITY_CrudePrev'), ('label', 'Income')])\n",
      "(-18894.220859926791, [('Pop Density', 'Income'), ('OBESITY_CrudePrev', 'Income'), ('OBESITY_CrudePrev', 'label'), ('label', 'Income')])\n",
      "(-18914.788013696874, [('Pop Density', 'label'), ('OBESITY_CrudePrev', 'Income'), ('OBESITY_CrudePrev', 'label'), ('Income', 'label')])\n",
      "(-18914.788013696874, [('Pop Density', 'label'), ('OBESITY_CrudePrev', 'label'), ('Income', 'label'), ('Income', 'OBESITY_CrudePrev')])\n",
      "(-18917.903298458677, [('Pop Density', 'Income'), ('OBESITY_CrudePrev', 'Pop Density'), ('OBESITY_CrudePrev', 'Income'), ('label', 'OBESITY_CrudePrev'), ('label', 'Income')])\n",
      "(-18917.903298458681, [('Pop Density', 'OBESITY_CrudePrev'), ('Pop Density', 'Income'), ('OBESITY_CrudePrev', 'Income'), ('OBESITY_CrudePrev', 'label'), ('label', 'Income')])\n",
      "(-18917.903298458681, [('Pop Density', 'Income'), ('OBESITY_CrudePrev', 'Pop Density'), ('OBESITY_CrudePrev', 'Income'), ('OBESITY_CrudePrev', 'label'), ('label', 'Income')])\n",
      "(-18925.435415522425, [('Pop Density', 'OBESITY_CrudePrev'), ('label', 'OBESITY_CrudePrev'), ('label', 'Income'), ('Income', 'Pop Density'), ('Income', 'OBESITY_CrudePrev')])\n",
      "(-18925.435415522425, [('Pop Density', 'OBESITY_CrudePrev'), ('label', 'OBESITY_CrudePrev'), ('Income', 'Pop Density'), ('Income', 'label'), ('Income', 'OBESITY_CrudePrev')])\n",
      "(-18925.435415522428, [('Pop Density', 'OBESITY_CrudePrev'), ('Pop Density', 'Income'), ('label', 'OBESITY_CrudePrev'), ('Income', 'label'), ('Income', 'OBESITY_CrudePrev')])\n",
      "(-18938.470452228761, [('Pop Density', 'label'), ('OBESITY_CrudePrev', 'Pop Density'), ('OBESITY_CrudePrev', 'label'), ('Income', 'label'), ('Income', 'OBESITY_CrudePrev')])\n",
      "(-18938.470452228765, [('Pop Density', 'OBESITY_CrudePrev'), ('Pop Density', 'label'), ('OBESITY_CrudePrev', 'Income'), ('OBESITY_CrudePrev', 'label'), ('Income', 'label')])\n",
      "(-18938.470452228765, [('Pop Density', 'label'), ('OBESITY_CrudePrev', 'Pop Density'), ('OBESITY_CrudePrev', 'Income'), ('OBESITY_CrudePrev', 'label'), ('Income', 'label')])\n",
      "(-18991.018080635902, [('Pop Density', 'OBESITY_CrudePrev'), ('label', 'Pop Density'), ('label', 'OBESITY_CrudePrev'), ('label', 'Income'), ('Income', 'OBESITY_CrudePrev')])\n",
      "(-18991.018080635902, [('Pop Density', 'OBESITY_CrudePrev'), ('Pop Density', 'label'), ('label', 'OBESITY_CrudePrev'), ('label', 'Income'), ('Income', 'OBESITY_CrudePrev')])\n",
      "(-18991.018080635906, [('Pop Density', 'OBESITY_CrudePrev'), ('label', 'Pop Density'), ('label', 'OBESITY_CrudePrev'), ('Income', 'label'), ('Income', 'OBESITY_CrudePrev')])\n",
      "(-18992.496577843165, [('Pop Density', 'OBESITY_CrudePrev'), ('label', 'OBESITY_CrudePrev'), ('label', 'Income'), ('Income', 'OBESITY_CrudePrev')])\n",
      "(-18992.496577843165, [('Pop Density', 'OBESITY_CrudePrev'), ('label', 'OBESITY_CrudePrev'), ('Income', 'label'), ('Income', 'OBESITY_CrudePrev')])\n",
      "(-19081.599155508902, [('OBESITY_CrudePrev', 'Pop Density'), ('label', 'Pop Density'), ('label', 'OBESITY_CrudePrev'), ('label', 'Income'), ('Income', 'Pop Density')])\n",
      "(-19081.599155508902, [('OBESITY_CrudePrev', 'Pop Density'), ('OBESITY_CrudePrev', 'label'), ('label', 'Pop Density'), ('label', 'Income'), ('Income', 'Pop Density')])\n",
      "(-19081.599155508902, [('OBESITY_CrudePrev', 'Pop Density'), ('label', 'Pop Density'), ('label', 'OBESITY_CrudePrev'), ('Income', 'Pop Density'), ('Income', 'label')])\n",
      "(-19101.321322639509, [('Pop Density', 'OBESITY_CrudePrev'), ('Pop Density', 'Income'), ('label', 'Pop Density'), ('label', 'OBESITY_CrudePrev'), ('Income', 'OBESITY_CrudePrev')])\n",
      "(-19101.321322639509, [('Pop Density', 'OBESITY_CrudePrev'), ('Pop Density', 'Income'), ('Pop Density', 'label'), ('label', 'OBESITY_CrudePrev'), ('Income', 'OBESITY_CrudePrev')])\n",
      "(-19101.321322639509, [('Pop Density', 'OBESITY_CrudePrev'), ('Pop Density', 'label'), ('label', 'OBESITY_CrudePrev'), ('Income', 'Pop Density'), ('Income', 'OBESITY_CrudePrev')])\n",
      "(-19102.799819846769, [('Pop Density', 'OBESITY_CrudePrev'), ('label', 'OBESITY_CrudePrev'), ('Income', 'Pop Density'), ('Income', 'OBESITY_CrudePrev')])\n",
      "(-19102.799819846772, [('Pop Density', 'OBESITY_CrudePrev'), ('Pop Density', 'Income'), ('label', 'OBESITY_CrudePrev'), ('Income', 'OBESITY_CrudePrev')])\n",
      "(-19168.382484960246, [('Pop Density', 'OBESITY_CrudePrev'), ('label', 'Pop Density'), ('label', 'OBESITY_CrudePrev'), ('Income', 'OBESITY_CrudePrev')])\n",
      "(-19168.382484960246, [('Pop Density', 'OBESITY_CrudePrev'), ('Pop Density', 'label'), ('label', 'OBESITY_CrudePrev'), ('Income', 'OBESITY_CrudePrev')])\n",
      "(-19169.860982167509, [('Pop Density', 'OBESITY_CrudePrev'), ('label', 'OBESITY_CrudePrev'), ('Income', 'OBESITY_CrudePrev')])\n",
      "(-19236.855885666311, [('Pop Density', 'label'), ('OBESITY_CrudePrev', 'label'), ('Income', 'Pop Density'), ('Income', 'label')])\n",
      "(-19236.855885666315, [('Pop Density', 'Income'), ('Pop Density', 'label'), ('OBESITY_CrudePrev', 'label'), ('Income', 'label')])\n",
      "(-19255.808528880851, [('OBESITY_CrudePrev', 'Pop Density'), ('OBESITY_CrudePrev', 'Income'), ('label', 'Pop Density'), ('Income', 'Pop Density'), ('Income', 'label')])\n",
      "(-19255.808528880851, [('OBESITY_CrudePrev', 'Pop Density'), ('label', 'Pop Density'), ('label', 'Income'), ('Income', 'Pop Density'), ('Income', 'OBESITY_CrudePrev')])\n",
      "(-19255.808528880851, [('OBESITY_CrudePrev', 'Pop Density'), ('label', 'Pop Density'), ('Income', 'Pop Density'), ('Income', 'label'), ('Income', 'OBESITY_CrudePrev')])\n",
      "(-19258.963559833246, [('OBESITY_CrudePrev', 'Pop Density'), ('label', 'Pop Density'), ('label', 'OBESITY_CrudePrev'), ('Income', 'Pop Density')])\n",
      "(-19258.963559833246, [('OBESITY_CrudePrev', 'Pop Density'), ('OBESITY_CrudePrev', 'label'), ('label', 'Pop Density'), ('Income', 'Pop Density')])\n",
      "(-19260.538324198198, [('Pop Density', 'OBESITY_CrudePrev'), ('Pop Density', 'label'), ('OBESITY_CrudePrev', 'label'), ('Income', 'Pop Density'), ('Income', 'label')])\n",
      "(-19260.538324198202, [('Pop Density', 'OBESITY_CrudePrev'), ('Pop Density', 'Income'), ('Pop Density', 'label'), ('OBESITY_CrudePrev', 'label'), ('Income', 'label')])\n",
      "(-19260.538324198202, [('Pop Density', 'Income'), ('Pop Density', 'label'), ('OBESITY_CrudePrev', 'Pop Density'), ('OBESITY_CrudePrev', 'label'), ('Income', 'label')])\n",
      "(-19303.917047987052, [('Pop Density', 'label'), ('OBESITY_CrudePrev', 'label'), ('Income', 'label')])\n",
      "(-19327.599486518939, [('Pop Density', 'OBESITY_CrudePrev'), ('Pop Density', 'label'), ('OBESITY_CrudePrev', 'label'), ('Income', 'label')])\n",
      "(-19327.599486518939, [('Pop Density', 'label'), ('OBESITY_CrudePrev', 'Pop Density'), ('OBESITY_CrudePrev', 'label'), ('Income', 'label')])\n",
      "(-19433.172933205195, [('OBESITY_CrudePrev', 'Pop Density'), ('label', 'Pop Density'), ('Income', 'Pop Density'), ('Income', 'OBESITY_CrudePrev')])\n",
      "(-19433.172933205198, [('OBESITY_CrudePrev', 'Pop Density'), ('OBESITY_CrudePrev', 'Income'), ('label', 'Pop Density'), ('Income', 'Pop Density')])\n",
      "(-19456.080770381654, [('Pop Density', 'Income'), ('OBESITY_CrudePrev', 'Income'), ('label', 'Pop Density'), ('label', 'Income')])\n",
      "(-19456.080770381654, [('Pop Density', 'Income'), ('Pop Density', 'label'), ('OBESITY_CrudePrev', 'Income'), ('label', 'Income')])\n",
      "(-19457.559267588917, [('Pop Density', 'Income'), ('OBESITY_CrudePrev', 'Income'), ('label', 'Income')])\n",
      "(-19479.763208913544, [('Pop Density', 'OBESITY_CrudePrev'), ('Pop Density', 'Income'), ('OBESITY_CrudePrev', 'Income'), ('label', 'Pop Density'), ('label', 'Income')])\n",
      "(-19479.763208913544, [('Pop Density', 'OBESITY_CrudePrev'), ('Pop Density', 'Income'), ('Pop Density', 'label'), ('OBESITY_CrudePrev', 'Income'), ('label', 'Income')])\n",
      "(-19479.763208913544, [('Pop Density', 'Income'), ('Pop Density', 'label'), ('OBESITY_CrudePrev', 'Pop Density'), ('OBESITY_CrudePrev', 'Income'), ('label', 'Income')])\n",
      "(-19481.241706120803, [('Pop Density', 'OBESITY_CrudePrev'), ('Pop Density', 'Income'), ('OBESITY_CrudePrev', 'Income'), ('label', 'Income')])\n",
      "(-19481.241706120803, [('Pop Density', 'Income'), ('OBESITY_CrudePrev', 'Pop Density'), ('OBESITY_CrudePrev', 'Income'), ('label', 'Income')])\n",
      "(-19631.932909930627, [('Pop Density', 'Income'), ('Pop Density', 'label'), ('OBESITY_CrudePrev', 'Income'), ('OBESITY_CrudePrev', 'label'), ('label', 'Income')])\n",
      "(-19631.932909930631, [('Pop Density', 'Income'), ('Pop Density', 'label'), ('OBESITY_CrudePrev', 'Income'), ('OBESITY_CrudePrev', 'label'), ('Income', 'label')])\n",
      "(-19644.937563171028, [('OBESITY_CrudePrev', 'Pop Density'), ('label', 'Pop Density'), ('label', 'Income'), ('Income', 'Pop Density')])\n",
      "(-19644.937563171028, [('OBESITY_CrudePrev', 'Pop Density'), ('label', 'Pop Density'), ('Income', 'Pop Density'), ('Income', 'label')])\n",
      "(-19655.615348462514, [('OBESITY_CrudePrev', 'Pop Density'), ('OBESITY_CrudePrev', 'label'), ('label', 'Pop Density'), ('Income', 'Pop Density'), ('Income', 'label'), ('Income', 'OBESITY_CrudePrev')])\n",
      "(-19655.615348462517, [('Pop Density', 'OBESITY_CrudePrev'), ('Pop Density', 'Income'), ('OBESITY_CrudePrev', 'Income'), ('label', 'Pop Density'), ('label', 'OBESITY_CrudePrev'), ('label', 'Income')])\n",
      "(-19655.615348462517, [('Pop Density', 'OBESITY_CrudePrev'), ('Pop Density', 'Income'), ('Pop Density', 'label'), ('OBESITY_CrudePrev', 'Income'), ('label', 'OBESITY_CrudePrev'), ('label', 'Income')])\n",
      "(-19655.615348462517, [('Pop Density', 'OBESITY_CrudePrev'), ('Pop Density', 'Income'), ('Pop Density', 'label'), ('OBESITY_CrudePrev', 'Income'), ('OBESITY_CrudePrev', 'label'), ('label', 'Income')])\n",
      "(-19655.615348462517, [('Pop Density', 'Income'), ('OBESITY_CrudePrev', 'Pop Density'), ('OBESITY_CrudePrev', 'Income'), ('label', 'Pop Density'), ('label', 'OBESITY_CrudePrev'), ('label', 'Income')])\n",
      "(-19655.615348462517, [('Pop Density', 'Income'), ('OBESITY_CrudePrev', 'Pop Density'), ('OBESITY_CrudePrev', 'Income'), ('OBESITY_CrudePrev', 'label'), ('label', 'Pop Density'), ('label', 'Income')])\n",
      "(-19655.615348462517, [('Pop Density', 'Income'), ('Pop Density', 'label'), ('OBESITY_CrudePrev', 'Pop Density'), ('OBESITY_CrudePrev', 'Income'), ('OBESITY_CrudePrev', 'label'), ('label', 'Income')])\n",
      "(-19655.615348462517, [('Pop Density', 'OBESITY_CrudePrev'), ('Pop Density', 'Income'), ('Pop Density', 'label'), ('OBESITY_CrudePrev', 'Income'), ('OBESITY_CrudePrev', 'label'), ('Income', 'label')])\n",
      "(-19655.615348462517, [('Pop Density', 'Income'), ('Pop Density', 'label'), ('OBESITY_CrudePrev', 'Pop Density'), ('OBESITY_CrudePrev', 'Income'), ('OBESITY_CrudePrev', 'label'), ('Income', 'label')])\n",
      "(-19655.615348462517, [('OBESITY_CrudePrev', 'Pop Density'), ('OBESITY_CrudePrev', 'Income'), ('label', 'Pop Density'), ('label', 'OBESITY_CrudePrev'), ('label', 'Income'), ('Income', 'Pop Density')])\n",
      "(-19655.615348462517, [('OBESITY_CrudePrev', 'Pop Density'), ('OBESITY_CrudePrev', 'Income'), ('OBESITY_CrudePrev', 'label'), ('label', 'Pop Density'), ('label', 'Income'), ('Income', 'Pop Density')])\n",
      "(-19655.615348462517, [('OBESITY_CrudePrev', 'Pop Density'), ('OBESITY_CrudePrev', 'Income'), ('OBESITY_CrudePrev', 'label'), ('label', 'Pop Density'), ('Income', 'Pop Density'), ('Income', 'label')])\n",
      "(-19655.615348462517, [('Pop Density', 'label'), ('OBESITY_CrudePrev', 'Pop Density'), ('OBESITY_CrudePrev', 'Income'), ('OBESITY_CrudePrev', 'label'), ('Income', 'Pop Density'), ('Income', 'label')])\n",
      "(-19655.615348462517, [('Pop Density', 'OBESITY_CrudePrev'), ('Pop Density', 'Income'), ('label', 'Pop Density'), ('label', 'OBESITY_CrudePrev'), ('label', 'Income'), ('Income', 'OBESITY_CrudePrev')])\n",
      "(-19655.615348462517, [('Pop Density', 'OBESITY_CrudePrev'), ('Pop Density', 'Income'), ('Pop Density', 'label'), ('label', 'OBESITY_CrudePrev'), ('label', 'Income'), ('Income', 'OBESITY_CrudePrev')])\n",
      "(-19655.615348462517, [('Pop Density', 'OBESITY_CrudePrev'), ('Pop Density', 'Income'), ('Pop Density', 'label'), ('OBESITY_CrudePrev', 'label'), ('Income', 'label'), ('Income', 'OBESITY_CrudePrev')])\n",
      "(-19655.615348462517, [('OBESITY_CrudePrev', 'Pop Density'), ('label', 'Pop Density'), ('label', 'OBESITY_CrudePrev'), ('label', 'Income'), ('Income', 'Pop Density'), ('Income', 'OBESITY_CrudePrev')])\n",
      "(-19655.615348462517, [('Pop Density', 'OBESITY_CrudePrev'), ('label', 'Pop Density'), ('label', 'OBESITY_CrudePrev'), ('Income', 'Pop Density'), ('Income', 'label'), ('Income', 'OBESITY_CrudePrev')])\n",
      "(-19655.615348462517, [('Pop Density', 'OBESITY_CrudePrev'), ('Pop Density', 'label'), ('label', 'OBESITY_CrudePrev'), ('Income', 'Pop Density'), ('Income', 'label'), ('Income', 'OBESITY_CrudePrev')])\n",
      "(-19655.615348462517, [('Pop Density', 'OBESITY_CrudePrev'), ('Pop Density', 'label'), ('OBESITY_CrudePrev', 'label'), ('Income', 'Pop Density'), ('Income', 'label'), ('Income', 'OBESITY_CrudePrev')])\n",
      "(-19655.615348462517, [('OBESITY_CrudePrev', 'Pop Density'), ('label', 'Pop Density'), ('label', 'OBESITY_CrudePrev'), ('Income', 'Pop Density'), ('Income', 'label'), ('Income', 'OBESITY_CrudePrev')])\n",
      "(-19655.615348462517, [('Pop Density', 'label'), ('OBESITY_CrudePrev', 'Pop Density'), ('OBESITY_CrudePrev', 'label'), ('Income', 'Pop Density'), ('Income', 'label'), ('Income', 'OBESITY_CrudePrev')])\n",
      "(-19655.615348462521, [('Pop Density', 'OBESITY_CrudePrev'), ('Pop Density', 'Income'), ('Pop Density', 'label'), ('label', 'OBESITY_CrudePrev'), ('Income', 'label'), ('Income', 'OBESITY_CrudePrev')])\n",
      "(-19655.615348462521, [('Pop Density', 'OBESITY_CrudePrev'), ('label', 'Pop Density'), ('label', 'OBESITY_CrudePrev'), ('label', 'Income'), ('Income', 'Pop Density'), ('Income', 'OBESITY_CrudePrev')])\n",
      "(-19657.093845669777, [('Pop Density', 'OBESITY_CrudePrev'), ('Pop Density', 'Income'), ('OBESITY_CrudePrev', 'Income'), ('label', 'OBESITY_CrudePrev'), ('label', 'Income')])\n",
      "(-19657.093845669784, [('Pop Density', 'OBESITY_CrudePrev'), ('Pop Density', 'Income'), ('label', 'OBESITY_CrudePrev'), ('label', 'Income'), ('Income', 'OBESITY_CrudePrev')])\n",
      "(-19722.676510783254, [('Pop Density', 'OBESITY_CrudePrev'), ('Pop Density', 'label'), ('OBESITY_CrudePrev', 'label'), ('Income', 'label'), ('Income', 'OBESITY_CrudePrev')])\n",
      "(-19722.676510783258, [('Pop Density', 'OBESITY_CrudePrev'), ('Pop Density', 'label'), ('label', 'OBESITY_CrudePrev'), ('Income', 'label'), ('Income', 'OBESITY_CrudePrev')])\n",
      "(-19822.301967495372, [('OBESITY_CrudePrev', 'Pop Density'), ('label', 'Pop Density'), ('Income', 'Pop Density')])\n",
      "(-19832.979752786861, [('OBESITY_CrudePrev', 'Pop Density'), ('label', 'Pop Density'), ('label', 'OBESITY_CrudePrev'), ('Income', 'Pop Density'), ('Income', 'OBESITY_CrudePrev')])\n",
      "(-19832.979752786865, [('Pop Density', 'OBESITY_CrudePrev'), ('label', 'Pop Density'), ('label', 'OBESITY_CrudePrev'), ('Income', 'Pop Density'), ('Income', 'OBESITY_CrudePrev')])\n",
      "(-20044.744382752691, [('OBESITY_CrudePrev', 'Pop Density'), ('OBESITY_CrudePrev', 'label'), ('label', 'Pop Density'), ('Income', 'Pop Density'), ('Income', 'label')])\n",
      "(-20044.744382752695, [('Pop Density', 'label'), ('OBESITY_CrudePrev', 'Pop Density'), ('OBESITY_CrudePrev', 'label'), ('Income', 'Pop Density'), ('Income', 'label')])\n",
      "(-20218.95375612464, [('OBESITY_CrudePrev', 'Pop Density'), ('OBESITY_CrudePrev', 'Income'), ('label', 'Pop Density'), ('label', 'Income'), ('Income', 'Pop Density')])\n",
      "(-20218.953756124643, [('Pop Density', 'Income'), ('OBESITY_CrudePrev', 'Pop Density'), ('OBESITY_CrudePrev', 'Income'), ('label', 'Pop Density'), ('label', 'Income')])\n"
     ]
    }
   ],
   "source": [
    "from pgmpy.estimators import ExhaustiveSearch\n",
    "\n",
    "bic = BicScore(X1)\n",
    "# Note: exhaustive search will be terribly expensive for more than a few variables\n",
    "es = ExhaustiveSearch(X1, scoring_method=bic)\n",
    "best_model = es.estimate()\n",
    "print(best_model.edges())\n",
    "\n",
    "print(\"\\nAll DAGs by score:\")\n",
    "for score, dag in reversed(es.all_scores()):\n",
    "    print(score, dag.edges())"
   ]
  },
  {
   "cell_type": "code",
   "execution_count": null,
   "metadata": {},
   "outputs": [],
   "source": []
  },
  {
   "cell_type": "code",
   "execution_count": null,
   "metadata": {},
   "outputs": [],
   "source": []
  },
  {
   "cell_type": "code",
   "execution_count": 52,
   "metadata": {
    "ExecuteTime": {
     "end_time": "2018-05-02T05:30:58.777404Z",
     "start_time": "2018-05-02T05:30:58.768093Z"
    }
   },
   "outputs": [],
   "source": [
    "X2 = X[[u'Pop Density', u'Income', u'Household Size',\n",
    "     u'OBESITY_CrudePrev',\n",
    "       u'label']]"
   ]
  },
  {
   "cell_type": "code",
   "execution_count": 53,
   "metadata": {
    "ExecuteTime": {
     "end_time": "2018-05-02T10:22:42.945134Z",
     "start_time": "2018-05-02T05:31:00.030946Z"
    }
   },
   "outputs": [
    {
     "name": "stdout",
     "output_type": "stream",
     "text": [
      "[('Household Size', 'label'), ('OBESITY_CrudePrev', 'Income'), ('label', 'OBESITY_CrudePrev'), ('Income', 'Pop Density')]\n",
      "\n",
      "All DAGs by score:\n",
      "(-13857.904369294631, [('Household Size', 'label'), ('OBESITY_CrudePrev', 'Income'), ('label', 'OBESITY_CrudePrev'), ('Income', 'Pop Density')])\n",
      "(-13857.904369294632, [('OBESITY_CrudePrev', 'Income'), ('label', 'Household Size'), ('label', 'OBESITY_CrudePrev'), ('Income', 'Pop Density')])\n",
      "(-13857.904369294632, [('OBESITY_CrudePrev', 'Income'), ('OBESITY_CrudePrev', 'label'), ('label', 'Household Size'), ('Income', 'Pop Density')])\n",
      "(-13857.904369294632, [('Pop Density', 'Income'), ('OBESITY_CrudePrev', 'label'), ('label', 'Household Size'), ('Income', 'OBESITY_CrudePrev')])\n",
      "(-13857.904369294632, [('OBESITY_CrudePrev', 'label'), ('label', 'Household Size'), ('Income', 'Pop Density'), ('Income', 'OBESITY_CrudePrev')])\n"
     ]
    }
   ],
   "source": [
    "bic = BicScore(X2)\n",
    "# Note: exhaustive search will be terribly expensive for more than a few variables\n",
    "es = ExhaustiveSearch(X2, scoring_method=bic)\n",
    "best_model = es.estimate()\n",
    "print(best_model.edges())\n",
    "\n",
    "print(\"\\nAll DAGs by score:\")\n",
    "i = 0\n",
    "for score, dag in reversed(es.all_scores()):\n",
    "    if i < 5:\n",
    "        print(score, dag.edges())\n",
    "        i += 1\n",
    "    else:\n",
    "        break"
   ]
  },
  {
   "cell_type": "code",
   "execution_count": null,
   "metadata": {},
   "outputs": [],
   "source": []
  }
 ],
 "metadata": {
  "kernelspec": {
   "display_name": "Python 2",
   "language": "python",
   "name": "python2"
  },
  "language_info": {
   "codemirror_mode": {
    "name": "ipython",
    "version": 2
   },
   "file_extension": ".py",
   "mimetype": "text/x-python",
   "name": "python",
   "nbconvert_exporter": "python",
   "pygments_lexer": "ipython2",
   "version": "2.7.14"
  }
 },
 "nbformat": 4,
 "nbformat_minor": 2
}

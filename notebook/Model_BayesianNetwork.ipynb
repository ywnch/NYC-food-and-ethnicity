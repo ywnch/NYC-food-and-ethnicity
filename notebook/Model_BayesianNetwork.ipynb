{
 "cells": [
  {
   "cell_type": "code",
   "execution_count": 54,
   "metadata": {
    "ExecuteTime": {
     "end_time": "2018-05-02T23:50:34.038966Z",
     "start_time": "2018-05-02T23:50:30.360621Z"
    }
   },
   "outputs": [
    {
     "name": "stdout",
     "output_type": "stream",
     "text": [
      "Populating the interactive namespace from numpy and matplotlib\n"
     ]
    }
   ],
   "source": [
    "from __future__ import division, print_function\n",
    "\n",
    "import numpy as np\n",
    "import pandas as pd\n",
    "import geopandas as gpd\n",
    "import matplotlib.pyplot as plt\n",
    "\n",
    "from sklearn import svm\n",
    "from sklearn.gaussian_process import GaussianProcessRegressor\n",
    "from sklearn.gaussian_process.kernels import RBF, ConstantKernel,WhiteKernel\n",
    "from sklearn.mixture import GaussianMixture\n",
    "from sklearn.neighbors import LocalOutlierFactor\n",
    "from sklearn.metrics import silhouette_score\n",
    "from sklearn.cluster import KMeans\n",
    "\n",
    "from pgmpy.estimators import HillClimbSearch\n",
    "from pgmpy.estimators import BicScore\n",
    "from pgmpy.estimators import MaximumLikelihoodEstimator\n",
    "from pgmpy.models import BayesianModel\n",
    "\n",
    "import shapely.wkt as shpwkt\n",
    "\n",
    "%pylab inline"
   ]
  },
  {
   "cell_type": "code",
   "execution_count": 55,
   "metadata": {
    "ExecuteTime": {
     "end_time": "2018-05-02T23:50:51.033274Z",
     "start_time": "2018-05-02T23:50:50.862928Z"
    }
   },
   "outputs": [
    {
     "data": {
      "text/html": [
       "<div>\n",
       "<table border=\"1\" class=\"dataframe\">\n",
       "  <thead>\n",
       "    <tr style=\"text-align: right;\">\n",
       "      <th></th>\n",
       "      <th>FIPS</th>\n",
       "      <th>geometry</th>\n",
       "      <th>Total</th>\n",
       "      <th>asian</th>\n",
       "      <th>european</th>\n",
       "      <th>halal</th>\n",
       "      <th>hispanic</th>\n",
       "      <th>midmed</th>\n",
       "      <th>Cambodian</th>\n",
       "      <th>Caribbean</th>\n",
       "      <th>...</th>\n",
       "      <th>Peruvian</th>\n",
       "      <th>Puerto Rican</th>\n",
       "      <th>Russian</th>\n",
       "      <th>Salvadoran</th>\n",
       "      <th>Shanghainese</th>\n",
       "      <th>Taiwanese</th>\n",
       "      <th>Thai</th>\n",
       "      <th>Turkish</th>\n",
       "      <th>Venezuelan</th>\n",
       "      <th>Vietnamese</th>\n",
       "    </tr>\n",
       "  </thead>\n",
       "  <tbody>\n",
       "    <tr>\n",
       "      <th>0</th>\n",
       "      <td>36085000900</td>\n",
       "      <td>POLYGON ((-74.07920577013245 40.64343078374567...</td>\n",
       "      <td>1</td>\n",
       "      <td>1</td>\n",
       "      <td>1</td>\n",
       "      <td>0</td>\n",
       "      <td>1</td>\n",
       "      <td>1</td>\n",
       "      <td>0</td>\n",
       "      <td>1</td>\n",
       "      <td>...</td>\n",
       "      <td>0</td>\n",
       "      <td>0</td>\n",
       "      <td>0</td>\n",
       "      <td>0</td>\n",
       "      <td>0</td>\n",
       "      <td>0</td>\n",
       "      <td>1</td>\n",
       "      <td>0</td>\n",
       "      <td>0</td>\n",
       "      <td>0</td>\n",
       "    </tr>\n",
       "    <tr>\n",
       "      <th>1</th>\n",
       "      <td>36061009800</td>\n",
       "      <td>POLYGON ((-73.96432543478758 40.75638153099091...</td>\n",
       "      <td>4</td>\n",
       "      <td>3</td>\n",
       "      <td>4</td>\n",
       "      <td>3</td>\n",
       "      <td>3</td>\n",
       "      <td>4</td>\n",
       "      <td>0</td>\n",
       "      <td>2</td>\n",
       "      <td>...</td>\n",
       "      <td>0</td>\n",
       "      <td>2</td>\n",
       "      <td>0</td>\n",
       "      <td>0</td>\n",
       "      <td>1</td>\n",
       "      <td>2</td>\n",
       "      <td>3</td>\n",
       "      <td>2</td>\n",
       "      <td>2</td>\n",
       "      <td>2</td>\n",
       "    </tr>\n",
       "    <tr>\n",
       "      <th>2</th>\n",
       "      <td>36061010000</td>\n",
       "      <td>POLYGON ((-73.96802436915851 40.75957814005282...</td>\n",
       "      <td>4</td>\n",
       "      <td>3</td>\n",
       "      <td>4</td>\n",
       "      <td>3</td>\n",
       "      <td>4</td>\n",
       "      <td>4</td>\n",
       "      <td>0</td>\n",
       "      <td>2</td>\n",
       "      <td>...</td>\n",
       "      <td>0</td>\n",
       "      <td>1</td>\n",
       "      <td>0</td>\n",
       "      <td>0</td>\n",
       "      <td>1</td>\n",
       "      <td>1</td>\n",
       "      <td>4</td>\n",
       "      <td>3</td>\n",
       "      <td>2</td>\n",
       "      <td>2</td>\n",
       "    </tr>\n",
       "    <tr>\n",
       "      <th>3</th>\n",
       "      <td>36061010200</td>\n",
       "      <td>POLYGON ((-73.97124277307127 40.76093641847906...</td>\n",
       "      <td>4</td>\n",
       "      <td>3</td>\n",
       "      <td>4</td>\n",
       "      <td>4</td>\n",
       "      <td>4</td>\n",
       "      <td>4</td>\n",
       "      <td>0</td>\n",
       "      <td>2</td>\n",
       "      <td>...</td>\n",
       "      <td>1</td>\n",
       "      <td>1</td>\n",
       "      <td>0</td>\n",
       "      <td>0</td>\n",
       "      <td>2</td>\n",
       "      <td>1</td>\n",
       "      <td>3</td>\n",
       "      <td>2</td>\n",
       "      <td>2</td>\n",
       "      <td>1</td>\n",
       "    </tr>\n",
       "    <tr>\n",
       "      <th>4</th>\n",
       "      <td>36061010400</td>\n",
       "      <td>POLYGON ((-73.97445730550224 40.76229308352487...</td>\n",
       "      <td>4</td>\n",
       "      <td>3</td>\n",
       "      <td>4</td>\n",
       "      <td>4</td>\n",
       "      <td>4</td>\n",
       "      <td>4</td>\n",
       "      <td>0</td>\n",
       "      <td>1</td>\n",
       "      <td>...</td>\n",
       "      <td>1</td>\n",
       "      <td>0</td>\n",
       "      <td>2</td>\n",
       "      <td>0</td>\n",
       "      <td>1</td>\n",
       "      <td>1</td>\n",
       "      <td>3</td>\n",
       "      <td>2</td>\n",
       "      <td>1</td>\n",
       "      <td>2</td>\n",
       "    </tr>\n",
       "  </tbody>\n",
       "</table>\n",
       "<p>5 rows × 41 columns</p>\n",
       "</div>"
      ],
      "text/plain": [
       "          FIPS                                           geometry  Total  \\\n",
       "0  36085000900  POLYGON ((-74.07920577013245 40.64343078374567...      1   \n",
       "1  36061009800  POLYGON ((-73.96432543478758 40.75638153099091...      4   \n",
       "2  36061010000  POLYGON ((-73.96802436915851 40.75957814005282...      4   \n",
       "3  36061010200  POLYGON ((-73.97124277307127 40.76093641847906...      4   \n",
       "4  36061010400  POLYGON ((-73.97445730550224 40.76229308352487...      4   \n",
       "\n",
       "   asian  european  halal  hispanic  midmed  Cambodian  Caribbean     ...      \\\n",
       "0      1         1      0         1       1          0          1     ...       \n",
       "1      3         4      3         3       4          0          2     ...       \n",
       "2      3         4      3         4       4          0          2     ...       \n",
       "3      3         4      4         4       4          0          2     ...       \n",
       "4      3         4      4         4       4          0          1     ...       \n",
       "\n",
       "   Peruvian  Puerto Rican  Russian  Salvadoran  Shanghainese  Taiwanese  Thai  \\\n",
       "0         0             0        0           0             0          0     1   \n",
       "1         0             2        0           0             1          2     3   \n",
       "2         0             1        0           0             1          1     4   \n",
       "3         1             1        0           0             2          1     3   \n",
       "4         1             0        2           0             1          1     3   \n",
       "\n",
       "   Turkish  Venezuelan  Vietnamese  \n",
       "0        0           0           0  \n",
       "1        2           2           2  \n",
       "2        3           2           2  \n",
       "3        2           2           1  \n",
       "4        2           1           2  \n",
       "\n",
       "[5 rows x 41 columns]"
      ]
     },
     "execution_count": 55,
     "metadata": {},
     "output_type": "execute_result"
    }
   ],
   "source": [
    "# yelp_cluster.to_csv(DATA + '/Yelp_Weights_subset.csv')\n",
    "yelp_cluster = pd.read_csv('../data/Yelp_Weights_subset.csv')\n",
    "yelp_cluster.drop(['Unnamed: 0','Unnamed: 0.1'],axis=1,inplace=True)\n",
    "yelp_cluster.head()"
   ]
  },
  {
   "cell_type": "code",
   "execution_count": 56,
   "metadata": {
    "ExecuteTime": {
     "end_time": "2018-05-02T23:50:53.986160Z",
     "start_time": "2018-05-02T23:50:53.355647Z"
    }
   },
   "outputs": [
    {
     "data": {
      "text/html": [
       "<div>\n",
       "<table border=\"1\" class=\"dataframe\">\n",
       "  <thead>\n",
       "    <tr style=\"text-align: right;\">\n",
       "      <th></th>\n",
       "      <th>FIPS</th>\n",
       "      <th>geometry</th>\n",
       "      <th>Total</th>\n",
       "      <th>asian</th>\n",
       "      <th>european</th>\n",
       "      <th>halal</th>\n",
       "      <th>hispanic</th>\n",
       "      <th>midmed</th>\n",
       "      <th>Cambodian</th>\n",
       "      <th>Caribbean</th>\n",
       "      <th>...</th>\n",
       "      <th>Peruvian</th>\n",
       "      <th>Puerto Rican</th>\n",
       "      <th>Russian</th>\n",
       "      <th>Salvadoran</th>\n",
       "      <th>Shanghainese</th>\n",
       "      <th>Taiwanese</th>\n",
       "      <th>Thai</th>\n",
       "      <th>Turkish</th>\n",
       "      <th>Venezuelan</th>\n",
       "      <th>Vietnamese</th>\n",
       "    </tr>\n",
       "  </thead>\n",
       "  <tbody>\n",
       "    <tr>\n",
       "      <th>0</th>\n",
       "      <td>36085000900</td>\n",
       "      <td>POLYGON ((-74.07920577013245 40.64343078374567...</td>\n",
       "      <td>1</td>\n",
       "      <td>1</td>\n",
       "      <td>1</td>\n",
       "      <td>0</td>\n",
       "      <td>1</td>\n",
       "      <td>1</td>\n",
       "      <td>0</td>\n",
       "      <td>1</td>\n",
       "      <td>...</td>\n",
       "      <td>0</td>\n",
       "      <td>0</td>\n",
       "      <td>0</td>\n",
       "      <td>0</td>\n",
       "      <td>0</td>\n",
       "      <td>0</td>\n",
       "      <td>1</td>\n",
       "      <td>0</td>\n",
       "      <td>0</td>\n",
       "      <td>0</td>\n",
       "    </tr>\n",
       "    <tr>\n",
       "      <th>1</th>\n",
       "      <td>36061009800</td>\n",
       "      <td>POLYGON ((-73.96432543478758 40.75638153099091...</td>\n",
       "      <td>4</td>\n",
       "      <td>3</td>\n",
       "      <td>4</td>\n",
       "      <td>3</td>\n",
       "      <td>3</td>\n",
       "      <td>4</td>\n",
       "      <td>0</td>\n",
       "      <td>2</td>\n",
       "      <td>...</td>\n",
       "      <td>0</td>\n",
       "      <td>2</td>\n",
       "      <td>0</td>\n",
       "      <td>0</td>\n",
       "      <td>1</td>\n",
       "      <td>2</td>\n",
       "      <td>3</td>\n",
       "      <td>2</td>\n",
       "      <td>2</td>\n",
       "      <td>2</td>\n",
       "    </tr>\n",
       "    <tr>\n",
       "      <th>2</th>\n",
       "      <td>36061010000</td>\n",
       "      <td>POLYGON ((-73.96802436915851 40.75957814005282...</td>\n",
       "      <td>4</td>\n",
       "      <td>3</td>\n",
       "      <td>4</td>\n",
       "      <td>3</td>\n",
       "      <td>4</td>\n",
       "      <td>4</td>\n",
       "      <td>0</td>\n",
       "      <td>2</td>\n",
       "      <td>...</td>\n",
       "      <td>0</td>\n",
       "      <td>1</td>\n",
       "      <td>0</td>\n",
       "      <td>0</td>\n",
       "      <td>1</td>\n",
       "      <td>1</td>\n",
       "      <td>4</td>\n",
       "      <td>3</td>\n",
       "      <td>2</td>\n",
       "      <td>2</td>\n",
       "    </tr>\n",
       "    <tr>\n",
       "      <th>3</th>\n",
       "      <td>36061010200</td>\n",
       "      <td>POLYGON ((-73.97124277307127 40.76093641847906...</td>\n",
       "      <td>4</td>\n",
       "      <td>3</td>\n",
       "      <td>4</td>\n",
       "      <td>4</td>\n",
       "      <td>4</td>\n",
       "      <td>4</td>\n",
       "      <td>0</td>\n",
       "      <td>2</td>\n",
       "      <td>...</td>\n",
       "      <td>1</td>\n",
       "      <td>1</td>\n",
       "      <td>0</td>\n",
       "      <td>0</td>\n",
       "      <td>2</td>\n",
       "      <td>1</td>\n",
       "      <td>3</td>\n",
       "      <td>2</td>\n",
       "      <td>2</td>\n",
       "      <td>1</td>\n",
       "    </tr>\n",
       "    <tr>\n",
       "      <th>4</th>\n",
       "      <td>36061010400</td>\n",
       "      <td>POLYGON ((-73.97445730550224 40.76229308352487...</td>\n",
       "      <td>4</td>\n",
       "      <td>3</td>\n",
       "      <td>4</td>\n",
       "      <td>4</td>\n",
       "      <td>4</td>\n",
       "      <td>4</td>\n",
       "      <td>0</td>\n",
       "      <td>1</td>\n",
       "      <td>...</td>\n",
       "      <td>1</td>\n",
       "      <td>0</td>\n",
       "      <td>2</td>\n",
       "      <td>0</td>\n",
       "      <td>1</td>\n",
       "      <td>1</td>\n",
       "      <td>3</td>\n",
       "      <td>2</td>\n",
       "      <td>1</td>\n",
       "      <td>2</td>\n",
       "    </tr>\n",
       "  </tbody>\n",
       "</table>\n",
       "<p>5 rows × 41 columns</p>\n",
       "</div>"
      ],
      "text/plain": [
       "          FIPS                                           geometry  Total  \\\n",
       "0  36085000900  POLYGON ((-74.07920577013245 40.64343078374567...      1   \n",
       "1  36061009800  POLYGON ((-73.96432543478758 40.75638153099091...      4   \n",
       "2  36061010000  POLYGON ((-73.96802436915851 40.75957814005282...      4   \n",
       "3  36061010200  POLYGON ((-73.97124277307127 40.76093641847906...      4   \n",
       "4  36061010400  POLYGON ((-73.97445730550224 40.76229308352487...      4   \n",
       "\n",
       "   asian  european  halal  hispanic  midmed  Cambodian  Caribbean     ...      \\\n",
       "0      1         1      0         1       1          0          1     ...       \n",
       "1      3         4      3         3       4          0          2     ...       \n",
       "2      3         4      3         4       4          0          2     ...       \n",
       "3      3         4      4         4       4          0          2     ...       \n",
       "4      3         4      4         4       4          0          1     ...       \n",
       "\n",
       "   Peruvian  Puerto Rican  Russian  Salvadoran  Shanghainese  Taiwanese  Thai  \\\n",
       "0         0             0        0           0             0          0     1   \n",
       "1         0             2        0           0             1          2     3   \n",
       "2         0             1        0           0             1          1     4   \n",
       "3         1             1        0           0             2          1     3   \n",
       "4         1             0        2           0             1          1     3   \n",
       "\n",
       "   Turkish  Venezuelan  Vietnamese  \n",
       "0        0           0           0  \n",
       "1        2           2           2  \n",
       "2        3           2           2  \n",
       "3        2           2           1  \n",
       "4        2           1           2  \n",
       "\n",
       "[5 rows x 41 columns]"
      ]
     },
     "execution_count": 56,
     "metadata": {},
     "output_type": "execute_result"
    }
   ],
   "source": [
    "df = gpd.GeoDataFrame(yelp_cluster)\n",
    "df['geometry'] = df['geometry'].apply(lambda x: shpwkt.loads(x))\n",
    "df = gpd.GeoDataFrame(yelp_cluster, geometry='geometry')\n",
    "df.crs = {'init': 'epsg:4326'}\n",
    "# df.crs = {'init': 'epsg:4326'} \n",
    "df.head()"
   ]
  },
  {
   "cell_type": "code",
   "execution_count": 57,
   "metadata": {
    "ExecuteTime": {
     "end_time": "2018-05-02T23:50:53.993628Z",
     "start_time": "2018-05-02T23:50:53.988618Z"
    }
   },
   "outputs": [],
   "source": [
    "X = df.iloc[:,8:41]"
   ]
  },
  {
   "cell_type": "code",
   "execution_count": 58,
   "metadata": {
    "ExecuteTime": {
     "end_time": "2018-05-02T23:50:57.522831Z",
     "start_time": "2018-05-02T23:50:54.770179Z"
    }
   },
   "outputs": [
    {
     "name": "stdout",
     "output_type": "stream",
     "text": [
      "For n_clusters = 2, the average silhouette_score is : 0.276359415651\n",
      "For n_clusters = 3, the average silhouette_score is : 0.136739672197\n",
      "For n_clusters = 4, the average silhouette_score is : 0.132684233607\n",
      "For n_clusters = 5, the average silhouette_score is : 0.112358250241\n",
      "For n_clusters = 6, the average silhouette_score is : 0.0984223957005\n",
      "For n_clusters = 7, the average silhouette_score is : 0.0850196993324\n",
      "For n_clusters = 8, the average silhouette_score is : 0.0575996831968\n",
      "For n_clusters = 9, the average silhouette_score is : 0.0321424041417\n"
     ]
    }
   ],
   "source": [
    "range_n_clusters = range(2,10)\n",
    "for n in range_n_clusters:\n",
    "    #19900\n",
    "    gmm = GaussianMixture(n_components=n,random_state=3391)\n",
    "    res = gmm.fit(X)\n",
    "    silhouette_avg = silhouette_score(X, res.predict(X))\n",
    "    print(\"For n_clusters = {},\".format(n)+\" the average silhouette_score is : {}\".format(silhouette_avg))"
   ]
  },
  {
   "cell_type": "code",
   "execution_count": null,
   "metadata": {},
   "outputs": [],
   "source": [
    "0.240221382689"
   ]
  },
  {
   "cell_type": "code",
   "execution_count": null,
   "metadata": {},
   "outputs": [],
   "source": []
  },
  {
   "cell_type": "code",
   "execution_count": null,
   "metadata": {},
   "outputs": [],
   "source": [
    "fig = plt.figure(figsize=(15,24))\n",
    "for n in range(2,8):\n",
    "    X = yelp_cluster.iloc[:,8:41]\n",
    "    km = KMeans(random_state=3391, n_clusters=n)\n",
    "    res = km.fit(X)\n",
    "\n",
    "    yelp_cluster['label'] = res.labels_\n",
    "    X['label'] = res.labels_\n",
    "    \n",
    "    ax = fig.add_subplot(319+n)\n",
    "    yelp_cluster.plot(ax=ax, column='label', cmap='viridis', legend=True, categorical=True, edgecolor='lightgray')"
   ]
  },
  {
   "cell_type": "code",
   "execution_count": null,
   "metadata": {
    "ExecuteTime": {
     "end_time": "2018-05-02T02:27:21.394441Z",
     "start_time": "2018-05-02T02:27:21.225359Z"
    }
   },
   "outputs": [],
   "source": [
    "X = yelp_cluster.iloc[:,8:41]\n",
    "X.head(1)\n",
    "km = KMeans(random_state=3391, n_clusters=7)\n",
    "res = km.fit(X)\n",
    "\n",
    "df['label'] = res.labels_\n",
    "X['label'] = res.labels_\n",
    "\n",
    "# fig = plt.figure(figsize=(15,12))\n",
    "# ax = fig.add_subplot(111)\n",
    "# df.plot(ax=ax, column='label', cmap='Reds', legend=True, categorical=True, edgecolor='lightgray')"
   ]
  },
  {
   "cell_type": "code",
   "execution_count": null,
   "metadata": {
    "ExecuteTime": {
     "end_time": "2018-05-01T00:26:23.922743Z",
     "start_time": "2018-05-01T00:26:22.601851Z"
    }
   },
   "outputs": [],
   "source": [
    "df.plot()"
   ]
  },
  {
   "cell_type": "code",
   "execution_count": null,
   "metadata": {
    "ExecuteTime": {
     "end_time": "2018-05-02T02:27:27.799970Z",
     "start_time": "2018-05-02T02:27:27.752238Z"
    }
   },
   "outputs": [],
   "source": [
    "dfs = []\n",
    "for i in range(7):\n",
    "    dfs.append(X[X['label'] == i].mean())\n",
    "label_df = pd.concat(dfs, axis=1)\n",
    "# label_df.columns = ['Domin/Latin', 'Manhattan', 'Cari/S.Asia', 'Cari/Black', 'UPPER/DTBL', 'Asian', 'Jewish']\n",
    "label_df"
   ]
  },
  {
   "cell_type": "code",
   "execution_count": null,
   "metadata": {
    "ExecuteTime": {
     "end_time": "2018-05-02T02:27:33.666092Z",
     "start_time": "2018-05-02T02:27:33.632965Z"
    }
   },
   "outputs": [],
   "source": [
    "yelp_cluster.head(1)"
   ]
  },
  {
   "cell_type": "code",
   "execution_count": null,
   "metadata": {
    "ExecuteTime": {
     "end_time": "2018-05-02T02:27:34.987860Z",
     "start_time": "2018-05-02T02:27:34.979102Z"
    }
   },
   "outputs": [],
   "source": [
    "y = yelp_cluster[['FIPS','label']]"
   ]
  },
  {
   "cell_type": "code",
   "execution_count": null,
   "metadata": {},
   "outputs": [],
   "source": []
  },
  {
   "cell_type": "code",
   "execution_count": null,
   "metadata": {},
   "outputs": [],
   "source": []
  },
  {
   "cell_type": "code",
   "execution_count": null,
   "metadata": {},
   "outputs": [],
   "source": [
    "import pandas as pd"
   ]
  },
  {
   "cell_type": "code",
   "execution_count": null,
   "metadata": {
    "ExecuteTime": {
     "end_time": "2018-05-02T02:27:42.194536Z",
     "start_time": "2018-05-02T02:27:42.188680Z"
    }
   },
   "outputs": [],
   "source": [
    "DATA = '../data'"
   ]
  },
  {
   "cell_type": "code",
   "execution_count": null,
   "metadata": {
    "ExecuteTime": {
     "end_time": "2018-05-02T02:27:42.957176Z",
     "start_time": "2018-05-02T02:27:42.916793Z"
    }
   },
   "outputs": [],
   "source": [
    "ACS = pd.read_csv(DATA + '/features/ACSselectedData.csv', index_col=0)\n",
    "Health = pd.read_csv(DATA + '/features/NYC_Health_Features.csv')\n",
    "# Yelp = pd.read_csv(DATA + '/yelp_counts_per_ct.csv', index_col=0)"
   ]
  },
  {
   "cell_type": "code",
   "execution_count": null,
   "metadata": {
    "ExecuteTime": {
     "end_time": "2018-05-02T02:27:52.863152Z",
     "start_time": "2018-05-02T02:27:52.801613Z"
    }
   },
   "outputs": [],
   "source": [
    "MergedData = ACS.merge(Health, left_on='FIPS', right_on='TractFIPS', how='outer')\n",
    "print(MergedData.shape)\n",
    "MergedData.head()"
   ]
  },
  {
   "cell_type": "code",
   "execution_count": null,
   "metadata": {
    "ExecuteTime": {
     "end_time": "2018-05-02T02:27:54.691511Z",
     "start_time": "2018-05-02T02:27:54.680292Z"
    }
   },
   "outputs": [],
   "source": [
    "list(MergedData.columns)"
   ]
  },
  {
   "cell_type": "code",
   "execution_count": null,
   "metadata": {
    "ExecuteTime": {
     "end_time": "2018-05-02T02:27:55.305516Z",
     "start_time": "2018-05-02T02:27:55.295161Z"
    }
   },
   "outputs": [],
   "source": [
    "MergedData = MergedData[['FIPS',\n",
    " 'Census Tract',\n",
    " 'Pop Density',\n",
    " 'Income',\n",
    " 'Age',\n",
    " 'Household Size',\n",
    " 'Total Pop',\n",
    " 'DIABETES_CrudePrev',\n",
    " 'HIGHCHOL_CrudePrev',\n",
    " 'OBESITY_CrudePrev']]"
   ]
  },
  {
   "cell_type": "code",
   "execution_count": null,
   "metadata": {
    "ExecuteTime": {
     "end_time": "2018-05-02T02:27:56.896209Z",
     "start_time": "2018-05-02T02:27:56.887159Z"
    }
   },
   "outputs": [],
   "source": [
    "MergedData.shape"
   ]
  },
  {
   "cell_type": "code",
   "execution_count": null,
   "metadata": {
    "ExecuteTime": {
     "end_time": "2018-05-02T02:27:58.483266Z",
     "start_time": "2018-05-02T02:27:58.462714Z"
    }
   },
   "outputs": [],
   "source": [
    "MergedData.head(1)"
   ]
  },
  {
   "cell_type": "code",
   "execution_count": null,
   "metadata": {
    "ExecuteTime": {
     "end_time": "2018-05-02T02:28:01.326614Z",
     "start_time": "2018-05-02T02:28:01.288105Z"
    }
   },
   "outputs": [],
   "source": [
    "MergedData = MergedData.merge(y, on='FIPS', how='outer')\n",
    "print(MergedData.shape)\n",
    "MergedData.head()"
   ]
  },
  {
   "cell_type": "code",
   "execution_count": null,
   "metadata": {
    "ExecuteTime": {
     "end_time": "2018-05-02T02:28:02.438134Z",
     "start_time": "2018-05-02T02:28:02.429554Z"
    }
   },
   "outputs": [],
   "source": [
    "MergedData.dropna(axis=0,how='any',inplace=True)"
   ]
  },
  {
   "cell_type": "code",
   "execution_count": null,
   "metadata": {
    "ExecuteTime": {
     "end_time": "2018-05-02T02:28:22.059805Z",
     "start_time": "2018-05-02T02:28:22.036359Z"
    }
   },
   "outputs": [],
   "source": [
    "MergedData.head(1)"
   ]
  },
  {
   "cell_type": "code",
   "execution_count": null,
   "metadata": {
    "ExecuteTime": {
     "end_time": "2018-05-02T02:28:34.387369Z",
     "start_time": "2018-05-02T02:28:34.378619Z"
    }
   },
   "outputs": [],
   "source": [
    "MergedData.shape"
   ]
  },
  {
   "cell_type": "code",
   "execution_count": null,
   "metadata": {},
   "outputs": [],
   "source": [
    "MergedData"
   ]
  },
  {
   "cell_type": "code",
   "execution_count": null,
   "metadata": {
    "ExecuteTime": {
     "end_time": "2018-05-02T02:28:37.165265Z",
     "start_time": "2018-05-02T02:28:37.159548Z"
    }
   },
   "outputs": [],
   "source": [
    "X = MergedData.iloc[:,2:]"
   ]
  },
  {
   "cell_type": "code",
   "execution_count": null,
   "metadata": {},
   "outputs": [],
   "source": []
  },
  {
   "cell_type": "code",
   "execution_count": 59,
   "metadata": {
    "ExecuteTime": {
     "end_time": "2018-05-02T23:51:09.599914Z",
     "start_time": "2018-05-02T23:51:09.594030Z"
    }
   },
   "outputs": [],
   "source": [
    "import pandas as pd"
   ]
  },
  {
   "cell_type": "code",
   "execution_count": 60,
   "metadata": {
    "ExecuteTime": {
     "end_time": "2018-05-02T23:51:10.275966Z",
     "start_time": "2018-05-02T23:51:10.245957Z"
    }
   },
   "outputs": [
    {
     "data": {
      "text/html": [
       "<div>\n",
       "<table border=\"1\" class=\"dataframe\">\n",
       "  <thead>\n",
       "    <tr style=\"text-align: right;\">\n",
       "      <th></th>\n",
       "      <th>FIPS</th>\n",
       "      <th>Census Tract</th>\n",
       "      <th>Pop Density</th>\n",
       "      <th>Income</th>\n",
       "      <th>Age</th>\n",
       "      <th>Household Size</th>\n",
       "      <th>Total Pop</th>\n",
       "      <th>DIABETES_CrudePrev</th>\n",
       "      <th>HIGHCHOL_CrudePrev</th>\n",
       "      <th>OBESITY_CrudePrev</th>\n",
       "      <th>label</th>\n",
       "    </tr>\n",
       "  </thead>\n",
       "  <tbody>\n",
       "    <tr>\n",
       "      <th>1</th>\n",
       "      <td>36005000200</td>\n",
       "      <td>200.0</td>\n",
       "      <td>28365.12</td>\n",
       "      <td>70893.0</td>\n",
       "      <td>38.6</td>\n",
       "      <td>3.94</td>\n",
       "      <td>5251.0</td>\n",
       "      <td>12.7</td>\n",
       "      <td>33.8</td>\n",
       "      <td>29.9</td>\n",
       "      <td>6.0</td>\n",
       "    </tr>\n",
       "  </tbody>\n",
       "</table>\n",
       "</div>"
      ],
      "text/plain": [
       "          FIPS  Census Tract  Pop Density   Income   Age  Household Size  \\\n",
       "1  36005000200         200.0     28365.12  70893.0  38.6            3.94   \n",
       "\n",
       "   Total Pop  DIABETES_CrudePrev  HIGHCHOL_CrudePrev  OBESITY_CrudePrev  label  \n",
       "1     5251.0                12.7                33.8               29.9    6.0  "
      ]
     },
     "execution_count": 60,
     "metadata": {},
     "output_type": "execute_result"
    }
   ],
   "source": [
    "df = pd.read_csv('dataformodel.csv', index_col=0)\n",
    "df.head(1)"
   ]
  },
  {
   "cell_type": "code",
   "execution_count": 61,
   "metadata": {
    "ExecuteTime": {
     "end_time": "2018-05-02T23:51:11.591171Z",
     "start_time": "2018-05-02T23:51:11.585653Z"
    }
   },
   "outputs": [],
   "source": [
    "X = df.iloc[:,2:]"
   ]
  },
  {
   "cell_type": "code",
   "execution_count": 62,
   "metadata": {
    "ExecuteTime": {
     "end_time": "2018-05-02T23:51:12.816290Z",
     "start_time": "2018-05-02T23:51:12.780907Z"
    }
   },
   "outputs": [
    {
     "data": {
      "text/html": [
       "<div>\n",
       "<table border=\"1\" class=\"dataframe\">\n",
       "  <thead>\n",
       "    <tr style=\"text-align: right;\">\n",
       "      <th></th>\n",
       "      <th>Pop Density</th>\n",
       "      <th>Income</th>\n",
       "      <th>Age</th>\n",
       "      <th>Household Size</th>\n",
       "      <th>Total Pop</th>\n",
       "      <th>DIABETES_CrudePrev</th>\n",
       "      <th>HIGHCHOL_CrudePrev</th>\n",
       "      <th>OBESITY_CrudePrev</th>\n",
       "      <th>label</th>\n",
       "    </tr>\n",
       "  </thead>\n",
       "  <tbody>\n",
       "    <tr>\n",
       "      <th>1</th>\n",
       "      <td>0</td>\n",
       "      <td>1</td>\n",
       "      <td>2</td>\n",
       "      <td>3</td>\n",
       "      <td>1</td>\n",
       "      <td>2</td>\n",
       "      <td>3</td>\n",
       "      <td>4</td>\n",
       "      <td>6.0</td>\n",
       "    </tr>\n",
       "    <tr>\n",
       "      <th>2</th>\n",
       "      <td>0</td>\n",
       "      <td>1</td>\n",
       "      <td>2</td>\n",
       "      <td>2</td>\n",
       "      <td>1</td>\n",
       "      <td>2</td>\n",
       "      <td>2</td>\n",
       "      <td>3</td>\n",
       "      <td>3.0</td>\n",
       "    </tr>\n",
       "    <tr>\n",
       "      <th>3</th>\n",
       "      <td>0</td>\n",
       "      <td>0</td>\n",
       "      <td>2</td>\n",
       "      <td>2</td>\n",
       "      <td>1</td>\n",
       "      <td>3</td>\n",
       "      <td>3</td>\n",
       "      <td>5</td>\n",
       "      <td>6.0</td>\n",
       "    </tr>\n",
       "    <tr>\n",
       "      <th>4</th>\n",
       "      <td>0</td>\n",
       "      <td>0</td>\n",
       "      <td>2</td>\n",
       "      <td>1</td>\n",
       "      <td>0</td>\n",
       "      <td>2</td>\n",
       "      <td>2</td>\n",
       "      <td>4</td>\n",
       "      <td>6.0</td>\n",
       "    </tr>\n",
       "    <tr>\n",
       "      <th>5</th>\n",
       "      <td>1</td>\n",
       "      <td>0</td>\n",
       "      <td>2</td>\n",
       "      <td>2</td>\n",
       "      <td>2</td>\n",
       "      <td>3</td>\n",
       "      <td>3</td>\n",
       "      <td>5</td>\n",
       "      <td>3.0</td>\n",
       "    </tr>\n",
       "  </tbody>\n",
       "</table>\n",
       "</div>"
      ],
      "text/plain": [
       "  Pop Density Income Age Household Size Total Pop DIABETES_CrudePrev  \\\n",
       "1           0      1   2              3         1                  2   \n",
       "2           0      1   2              2         1                  2   \n",
       "3           0      0   2              2         1                  3   \n",
       "4           0      0   2              1         0                  2   \n",
       "5           1      0   2              2         2                  3   \n",
       "\n",
       "  HIGHCHOL_CrudePrev OBESITY_CrudePrev  label  \n",
       "1                  3                 4    6.0  \n",
       "2                  2                 3    3.0  \n",
       "3                  3                 5    6.0  \n",
       "4                  2                 4    6.0  \n",
       "5                  3                 5    3.0  "
      ]
     },
     "execution_count": 62,
     "metadata": {},
     "output_type": "execute_result"
    }
   ],
   "source": [
    "for col in X.columns[:-1]:\n",
    "    X[col] = pd.cut(X[col],7,labels=[0,1,2,3,4,5,6])\n",
    "X.head()"
   ]
  },
  {
   "cell_type": "markdown",
   "metadata": {},
   "source": [
    "# HillClimbSearch + BdeuScore, K2Score, BicScore"
   ]
  },
  {
   "cell_type": "code",
   "execution_count": 17,
   "metadata": {
    "ExecuteTime": {
     "end_time": "2018-05-02T03:39:13.421542Z",
     "start_time": "2018-05-02T03:39:13.413911Z"
    }
   },
   "outputs": [],
   "source": [
    "# your answers here\n",
    "from pgmpy.estimators import HillClimbSearch\n",
    "from pgmpy.estimators import BdeuScore, K2Score, BicScore\n",
    "import numpy as np"
   ]
  },
  {
   "cell_type": "code",
   "execution_count": 15,
   "metadata": {
    "ExecuteTime": {
     "end_time": "2018-05-02T03:36:25.141501Z",
     "start_time": "2018-05-02T03:36:25.111382Z"
    }
   },
   "outputs": [],
   "source": [
    "np.random.seed(300)"
   ]
  },
  {
   "cell_type": "code",
   "execution_count": 16,
   "metadata": {
    "ExecuteTime": {
     "end_time": "2018-05-02T03:36:42.288425Z",
     "start_time": "2018-05-02T03:36:25.987646Z"
    }
   },
   "outputs": [
    {
     "name": "stdout",
     "output_type": "stream",
     "text": [
      "[('Pop Density', 'Total Pop'), ('OBESITY_CrudePrev', 'Age'), ('OBESITY_CrudePrev', 'label'), ('DIABETES_CrudePrev', 'HIGHCHOL_CrudePrev'), ('DIABETES_CrudePrev', 'OBESITY_CrudePrev'), ('Income', 'Pop Density'), ('Income', 'DIABETES_CrudePrev'), ('label', 'Household Size')]\n"
     ]
    }
   ],
   "source": [
    "hc = HillClimbSearch(X, scoring_method=BicScore(X))\n",
    "best_model = hc.estimate()\n",
    "print(best_model.edges())"
   ]
  },
  {
   "cell_type": "code",
   "execution_count": 18,
   "metadata": {
    "ExecuteTime": {
     "end_time": "2018-05-02T03:39:43.450370Z",
     "start_time": "2018-05-02T03:39:23.126400Z"
    }
   },
   "outputs": [
    {
     "name": "stdout",
     "output_type": "stream",
     "text": [
      "[('Pop Density', 'Total Pop'), ('Pop Density', 'Income'), ('HIGHCHOL_CrudePrev', 'Age'), ('OBESITY_CrudePrev', 'HIGHCHOL_CrudePrev'), ('OBESITY_CrudePrev', 'label'), ('DIABETES_CrudePrev', 'HIGHCHOL_CrudePrev'), ('DIABETES_CrudePrev', 'OBESITY_CrudePrev'), ('Income', 'Age'), ('Income', 'DIABETES_CrudePrev'), ('label', 'Household Size')]\n"
     ]
    }
   ],
   "source": [
    "hc = HillClimbSearch(X, scoring_method=BdeuScore(X))\n",
    "best_model = hc.estimate()\n",
    "print(best_model.edges())"
   ]
  },
  {
   "cell_type": "code",
   "execution_count": 19,
   "metadata": {
    "ExecuteTime": {
     "end_time": "2018-05-02T03:43:12.355522Z",
     "start_time": "2018-05-02T03:42:28.788506Z"
    }
   },
   "outputs": [
    {
     "name": "stdout",
     "output_type": "stream",
     "text": [
      "[('Pop Density', 'Total Pop'), ('HIGHCHOL_CrudePrev', 'Age'), ('HIGHCHOL_CrudePrev', 'label'), ('HIGHCHOL_CrudePrev', 'OBESITY_CrudePrev'), ('OBESITY_CrudePrev', 'label'), ('DIABETES_CrudePrev', 'label'), ('DIABETES_CrudePrev', 'Income'), ('DIABETES_CrudePrev', 'HIGHCHOL_CrudePrev'), ('DIABETES_CrudePrev', 'OBESITY_CrudePrev'), ('Income', 'Age'), ('Income', 'Pop Density'), ('label', 'Household Size')]\n"
     ]
    }
   ],
   "source": [
    "hc = HillClimbSearch(X, scoring_method=K2Score(X))\n",
    "best_model = hc.estimate()\n",
    "print(best_model.edges())"
   ]
  },
  {
   "cell_type": "code",
   "execution_count": 67,
   "metadata": {
    "ExecuteTime": {
     "end_time": "2018-05-02T23:53:05.802167Z",
     "start_time": "2018-05-02T23:53:05.793560Z"
    }
   },
   "outputs": [],
   "source": [
    "X1 = X[[u'Pop Density', u'Income', 'Household Size',\n",
    "     u'OBESITY_CrudePrev',\n",
    "       u'label']]"
   ]
  },
  {
   "cell_type": "code",
   "execution_count": 69,
   "metadata": {
    "ExecuteTime": {
     "end_time": "2018-05-02T23:53:24.079583Z",
     "start_time": "2018-05-02T23:53:21.892649Z"
    }
   },
   "outputs": [
    {
     "name": "stdout",
     "output_type": "stream",
     "text": [
      "[('label', 'Household Size'), ('label', 'OBESITY_CrudePrev'), ('Income', 'Pop Density'), ('OBESITY_CrudePrev', 'Income')]\n"
     ]
    }
   ],
   "source": [
    "hc = HillClimbSearch(X1, scoring_method=BicScore(X1))\n",
    "best_model = hc.estimate()\n",
    "print(best_model.edges())"
   ]
  },
  {
   "cell_type": "code",
   "execution_count": 74,
   "metadata": {
    "ExecuteTime": {
     "end_time": "2018-05-02T23:58:10.879147Z",
     "start_time": "2018-05-02T23:58:10.871258Z"
    }
   },
   "outputs": [],
   "source": [
    "X2 = X[[u'Pop Density', u'Income', 'Household Size','HIGHCHOL_CrudePrev',\n",
    "     u'OBESITY_CrudePrev',\n",
    "       u'label']]"
   ]
  },
  {
   "cell_type": "code",
   "execution_count": 75,
   "metadata": {
    "ExecuteTime": {
     "end_time": "2018-05-02T23:58:15.421198Z",
     "start_time": "2018-05-02T23:58:11.565797Z"
    }
   },
   "outputs": [
    {
     "name": "stdout",
     "output_type": "stream",
     "text": [
      "[('HIGHCHOL_CrudePrev', 'label'), ('OBESITY_CrudePrev', 'Income'), ('Income', 'Pop Density'), ('label', 'Household Size'), ('label', 'OBESITY_CrudePrev')]\n"
     ]
    }
   ],
   "source": [
    "hc = HillClimbSearch(X2, scoring_method=BicScore(X2))\n",
    "best_model = hc.estimate()\n",
    "print(best_model.edges())"
   ]
  },
  {
   "cell_type": "markdown",
   "metadata": {},
   "source": [
    "# ConstraintBasedEstimator"
   ]
  },
  {
   "cell_type": "code",
   "execution_count": 64,
   "metadata": {
    "ExecuteTime": {
     "end_time": "2018-05-02T23:51:23.330232Z",
     "start_time": "2018-05-02T23:51:23.321409Z"
    }
   },
   "outputs": [],
   "source": [
    "from pgmpy.estimators import ConstraintBasedEstimator"
   ]
  },
  {
   "cell_type": "code",
   "execution_count": 63,
   "metadata": {
    "ExecuteTime": {
     "end_time": "2018-05-02T23:51:21.453229Z",
     "start_time": "2018-05-02T23:51:21.442781Z"
    }
   },
   "outputs": [
    {
     "data": {
      "text/plain": [
       "Index([u'Pop Density', u'Income', u'Age', u'Household Size', u'Total Pop',\n",
       "       u'DIABETES_CrudePrev', u'HIGHCHOL_CrudePrev', u'OBESITY_CrudePrev',\n",
       "       u'label'],\n",
       "      dtype='object')"
      ]
     },
     "execution_count": 63,
     "metadata": {},
     "output_type": "execute_result"
    }
   ],
   "source": [
    "X.columns"
   ]
  },
  {
   "cell_type": "code",
   "execution_count": 65,
   "metadata": {
    "ExecuteTime": {
     "end_time": "2018-05-02T23:51:25.303983Z",
     "start_time": "2018-05-02T23:51:25.284625Z"
    }
   },
   "outputs": [],
   "source": [
    "est = ConstraintBasedEstimator(X)"
   ]
  },
  {
   "cell_type": "code",
   "execution_count": 66,
   "metadata": {
    "ExecuteTime": {
     "end_time": "2018-05-02T23:52:35.273989Z",
     "start_time": "2018-05-02T23:51:27.057931Z"
    }
   },
   "outputs": [
    {
     "ename": "KeyboardInterrupt",
     "evalue": "",
     "output_type": "error",
     "traceback": [
      "\u001b[0;31m---------------------------------------------------------------------------\u001b[0m",
      "\u001b[0;31mKeyboardInterrupt\u001b[0m                         Traceback (most recent call last)",
      "\u001b[0;32m<ipython-input-66-5fd669b6dced>\u001b[0m in \u001b[0;36m<module>\u001b[0;34m()\u001b[0m\n\u001b[0;32m----> 1\u001b[0;31m \u001b[0mskel\u001b[0m\u001b[0;34m,\u001b[0m \u001b[0mseparating_sets\u001b[0m \u001b[0;34m=\u001b[0m \u001b[0mest\u001b[0m\u001b[0;34m.\u001b[0m\u001b[0mestimate_skeleton\u001b[0m\u001b[0;34m(\u001b[0m\u001b[0msignificance_level\u001b[0m\u001b[0;34m=\u001b[0m\u001b[0;36m0.01\u001b[0m\u001b[0;34m)\u001b[0m\u001b[0;34m\u001b[0m\u001b[0m\n\u001b[0m\u001b[1;32m      2\u001b[0m \u001b[0;32mprint\u001b[0m\u001b[0;34m(\u001b[0m\u001b[0;34m\"Undirected edges: \"\u001b[0m\u001b[0;34m,\u001b[0m \u001b[0mskel\u001b[0m\u001b[0;34m.\u001b[0m\u001b[0medges\u001b[0m\u001b[0;34m(\u001b[0m\u001b[0;34m)\u001b[0m\u001b[0;34m)\u001b[0m\u001b[0;34m\u001b[0m\u001b[0m\n",
      "\u001b[0;32m/usr/local/lib/python2.7/site-packages/pgmpy/estimators/ConstraintBasedEstimator.pyc\u001b[0m in \u001b[0;36mestimate_skeleton\u001b[0;34m(self, significance_level)\u001b[0m\n\u001b[1;32m    179\u001b[0m             \u001b[0;32mreturn\u001b[0m \u001b[0mp_value\u001b[0m \u001b[0;34m>=\u001b[0m \u001b[0msignificance_level\u001b[0m\u001b[0;34m\u001b[0m\u001b[0m\n\u001b[1;32m    180\u001b[0m \u001b[0;34m\u001b[0m\u001b[0m\n\u001b[0;32m--> 181\u001b[0;31m         \u001b[0;32mreturn\u001b[0m \u001b[0mself\u001b[0m\u001b[0;34m.\u001b[0m\u001b[0mbuild_skeleton\u001b[0m\u001b[0;34m(\u001b[0m\u001b[0mnodes\u001b[0m\u001b[0;34m,\u001b[0m \u001b[0mis_independent\u001b[0m\u001b[0;34m)\u001b[0m\u001b[0;34m\u001b[0m\u001b[0m\n\u001b[0m\u001b[1;32m    182\u001b[0m \u001b[0;34m\u001b[0m\u001b[0m\n\u001b[1;32m    183\u001b[0m     \u001b[0;34m@\u001b[0m\u001b[0mstaticmethod\u001b[0m\u001b[0;34m\u001b[0m\u001b[0m\n",
      "\u001b[0;32m/usr/local/lib/python2.7/site-packages/pgmpy/estimators/ConstraintBasedEstimator.pyc\u001b[0m in \u001b[0;36mbuild_skeleton\u001b[0;34m(nodes, independencies)\u001b[0m\n\u001b[1;32m    526\u001b[0m                     \u001b[0;31m# that makes X and Y independent:\u001b[0m\u001b[0;34m\u001b[0m\u001b[0;34m\u001b[0m\u001b[0m\n\u001b[1;32m    527\u001b[0m                     \u001b[0;32mfor\u001b[0m \u001b[0mseparating_set\u001b[0m \u001b[0;32min\u001b[0m \u001b[0mcombinations\u001b[0m\u001b[0;34m(\u001b[0m\u001b[0mset\u001b[0m\u001b[0;34m(\u001b[0m\u001b[0mgraph\u001b[0m\u001b[0;34m.\u001b[0m\u001b[0mneighbors\u001b[0m\u001b[0;34m(\u001b[0m\u001b[0mnode\u001b[0m\u001b[0;34m)\u001b[0m\u001b[0;34m)\u001b[0m \u001b[0;34m-\u001b[0m \u001b[0mset\u001b[0m\u001b[0;34m(\u001b[0m\u001b[0;34m[\u001b[0m\u001b[0mneighbor\u001b[0m\u001b[0;34m]\u001b[0m\u001b[0;34m)\u001b[0m\u001b[0;34m,\u001b[0m \u001b[0mlim_neighbors\u001b[0m\u001b[0;34m)\u001b[0m\u001b[0;34m:\u001b[0m\u001b[0;34m\u001b[0m\u001b[0m\n\u001b[0;32m--> 528\u001b[0;31m                         \u001b[0;32mif\u001b[0m \u001b[0mis_independent\u001b[0m\u001b[0;34m(\u001b[0m\u001b[0mnode\u001b[0m\u001b[0;34m,\u001b[0m \u001b[0mneighbor\u001b[0m\u001b[0;34m,\u001b[0m \u001b[0mseparating_set\u001b[0m\u001b[0;34m)\u001b[0m\u001b[0;34m:\u001b[0m\u001b[0;34m\u001b[0m\u001b[0m\n\u001b[0m\u001b[1;32m    529\u001b[0m                             \u001b[0mseparating_sets\u001b[0m\u001b[0;34m[\u001b[0m\u001b[0mfrozenset\u001b[0m\u001b[0;34m(\u001b[0m\u001b[0;34m(\u001b[0m\u001b[0mnode\u001b[0m\u001b[0;34m,\u001b[0m \u001b[0mneighbor\u001b[0m\u001b[0;34m)\u001b[0m\u001b[0;34m)\u001b[0m\u001b[0;34m]\u001b[0m \u001b[0;34m=\u001b[0m \u001b[0mseparating_set\u001b[0m\u001b[0;34m\u001b[0m\u001b[0m\n\u001b[1;32m    530\u001b[0m                             \u001b[0mgraph\u001b[0m\u001b[0;34m.\u001b[0m\u001b[0mremove_edge\u001b[0m\u001b[0;34m(\u001b[0m\u001b[0mnode\u001b[0m\u001b[0;34m,\u001b[0m \u001b[0mneighbor\u001b[0m\u001b[0;34m)\u001b[0m\u001b[0;34m\u001b[0m\u001b[0m\n",
      "\u001b[0;32m/usr/local/lib/python2.7/site-packages/pgmpy/estimators/ConstraintBasedEstimator.pyc\u001b[0m in \u001b[0;36mis_independent\u001b[0;34m(X, Y, Zs)\u001b[0m\n\u001b[1;32m    176\u001b[0m             \u001b[0mX\u001b[0m \u001b[0m_\u001b[0m\u001b[0;34m|\u001b[0m\u001b[0m_\u001b[0m \u001b[0mY\u001b[0m \u001b[0;34m|\u001b[0m \u001b[0mZs\u001b[0m\u001b[0;34m,\u001b[0m \u001b[0musing\u001b[0m \u001b[0ma\u001b[0m \u001b[0mchi2\u001b[0m \u001b[0mstatistic\u001b[0m \u001b[0;32mand\u001b[0m \u001b[0mthreshold\u001b[0m \u001b[0;34m`\u001b[0m\u001b[0msignificance_level\u001b[0m\u001b[0;34m`\u001b[0m\u001b[0;34m.\u001b[0m\u001b[0;34m\u001b[0m\u001b[0m\n\u001b[1;32m    177\u001b[0m             \"\"\"\n\u001b[0;32m--> 178\u001b[0;31m             \u001b[0mchi2\u001b[0m\u001b[0;34m,\u001b[0m \u001b[0mp_value\u001b[0m\u001b[0;34m,\u001b[0m \u001b[0msufficient_data\u001b[0m \u001b[0;34m=\u001b[0m \u001b[0mself\u001b[0m\u001b[0;34m.\u001b[0m\u001b[0mtest_conditional_independence\u001b[0m\u001b[0;34m(\u001b[0m\u001b[0mX\u001b[0m\u001b[0;34m,\u001b[0m \u001b[0mY\u001b[0m\u001b[0;34m,\u001b[0m \u001b[0mZs\u001b[0m\u001b[0;34m)\u001b[0m\u001b[0;34m\u001b[0m\u001b[0m\n\u001b[0m\u001b[1;32m    179\u001b[0m             \u001b[0;32mreturn\u001b[0m \u001b[0mp_value\u001b[0m \u001b[0;34m>=\u001b[0m \u001b[0msignificance_level\u001b[0m\u001b[0;34m\u001b[0m\u001b[0m\n\u001b[1;32m    180\u001b[0m \u001b[0;34m\u001b[0m\u001b[0m\n",
      "\u001b[0;32m/usr/local/lib/python2.7/site-packages/pgmpy/estimators/base.pyc\u001b[0m in \u001b[0;36mtest_conditional_independence\u001b[0;34m(self, X, Y, Zs)\u001b[0m\n\u001b[1;32m    228\u001b[0m                     XYZ_expected.loc[X_val, Y_val] = (XZ_state_counts.loc[X_val] *\n\u001b[1;32m    229\u001b[0m                                                       \u001b[0mYZ_state_counts\u001b[0m\u001b[0;34m.\u001b[0m\u001b[0mloc\u001b[0m\u001b[0;34m[\u001b[0m\u001b[0mY_val\u001b[0m\u001b[0;34m]\u001b[0m \u001b[0;34m/\u001b[0m\u001b[0;34m\u001b[0m\u001b[0m\n\u001b[0;32m--> 230\u001b[0;31m                                                       Z_state_counts).values\n\u001b[0m\u001b[1;32m    231\u001b[0m             \u001b[0;32melse\u001b[0m\u001b[0;34m:\u001b[0m\u001b[0;34m\u001b[0m\u001b[0m\n\u001b[1;32m    232\u001b[0m                 \u001b[0;32mfor\u001b[0m \u001b[0mY_val\u001b[0m \u001b[0;32min\u001b[0m \u001b[0mXYZ_expected\u001b[0m\u001b[0;34m.\u001b[0m\u001b[0mcolumns\u001b[0m\u001b[0;34m:\u001b[0m\u001b[0;34m\u001b[0m\u001b[0m\n",
      "\u001b[0;32m/usr/local/lib/python2.7/site-packages/pandas/core/indexing.pyc\u001b[0m in \u001b[0;36m__setitem__\u001b[0;34m(self, key, value)\u001b[0m\n\u001b[1;32m    139\u001b[0m             \u001b[0mkey\u001b[0m \u001b[0;34m=\u001b[0m \u001b[0mcom\u001b[0m\u001b[0;34m.\u001b[0m\u001b[0m_apply_if_callable\u001b[0m\u001b[0;34m(\u001b[0m\u001b[0mkey\u001b[0m\u001b[0;34m,\u001b[0m \u001b[0mself\u001b[0m\u001b[0;34m.\u001b[0m\u001b[0mobj\u001b[0m\u001b[0;34m)\u001b[0m\u001b[0;34m\u001b[0m\u001b[0m\n\u001b[1;32m    140\u001b[0m         \u001b[0mindexer\u001b[0m \u001b[0;34m=\u001b[0m \u001b[0mself\u001b[0m\u001b[0;34m.\u001b[0m\u001b[0m_get_setitem_indexer\u001b[0m\u001b[0;34m(\u001b[0m\u001b[0mkey\u001b[0m\u001b[0;34m)\u001b[0m\u001b[0;34m\u001b[0m\u001b[0m\n\u001b[0;32m--> 141\u001b[0;31m         \u001b[0mself\u001b[0m\u001b[0;34m.\u001b[0m\u001b[0m_setitem_with_indexer\u001b[0m\u001b[0;34m(\u001b[0m\u001b[0mindexer\u001b[0m\u001b[0;34m,\u001b[0m \u001b[0mvalue\u001b[0m\u001b[0;34m)\u001b[0m\u001b[0;34m\u001b[0m\u001b[0m\n\u001b[0m\u001b[1;32m    142\u001b[0m \u001b[0;34m\u001b[0m\u001b[0m\n\u001b[1;32m    143\u001b[0m     \u001b[0;32mdef\u001b[0m \u001b[0m_has_valid_type\u001b[0m\u001b[0;34m(\u001b[0m\u001b[0mself\u001b[0m\u001b[0;34m,\u001b[0m \u001b[0mk\u001b[0m\u001b[0;34m,\u001b[0m \u001b[0maxis\u001b[0m\u001b[0;34m)\u001b[0m\u001b[0;34m:\u001b[0m\u001b[0;34m\u001b[0m\u001b[0m\n",
      "\u001b[0;32m/usr/local/lib/python2.7/site-packages/pandas/core/indexing.pyc\u001b[0m in \u001b[0;36m_setitem_with_indexer\u001b[0;34m(self, indexer, value)\u001b[0m\n\u001b[1;32m    541\u001b[0m \u001b[0;34m\u001b[0m\u001b[0m\n\u001b[1;32m    542\u001b[0m                     \u001b[0;32mfor\u001b[0m \u001b[0mitem\u001b[0m\u001b[0;34m,\u001b[0m \u001b[0mv\u001b[0m \u001b[0;32min\u001b[0m \u001b[0mzip\u001b[0m\u001b[0;34m(\u001b[0m\u001b[0mlabels\u001b[0m\u001b[0;34m,\u001b[0m \u001b[0mvalue\u001b[0m\u001b[0;34m)\u001b[0m\u001b[0;34m:\u001b[0m\u001b[0;34m\u001b[0m\u001b[0m\n\u001b[0;32m--> 543\u001b[0;31m                         \u001b[0msetter\u001b[0m\u001b[0;34m(\u001b[0m\u001b[0mitem\u001b[0m\u001b[0;34m,\u001b[0m \u001b[0mv\u001b[0m\u001b[0;34m)\u001b[0m\u001b[0;34m\u001b[0m\u001b[0m\n\u001b[0m\u001b[1;32m    544\u001b[0m             \u001b[0;32melse\u001b[0m\u001b[0;34m:\u001b[0m\u001b[0;34m\u001b[0m\u001b[0m\n\u001b[1;32m    545\u001b[0m \u001b[0;34m\u001b[0m\u001b[0m\n",
      "\u001b[0;32m/usr/local/lib/python2.7/site-packages/pandas/core/indexing.pyc\u001b[0m in \u001b[0;36msetter\u001b[0;34m(item, v)\u001b[0m\n\u001b[1;32m    471\u001b[0m                     \u001b[0ms\u001b[0m\u001b[0;34m.\u001b[0m\u001b[0m_consolidate_inplace\u001b[0m\u001b[0;34m(\u001b[0m\u001b[0;34m)\u001b[0m\u001b[0;34m\u001b[0m\u001b[0m\n\u001b[1;32m    472\u001b[0m                     \u001b[0ms\u001b[0m \u001b[0;34m=\u001b[0m \u001b[0ms\u001b[0m\u001b[0;34m.\u001b[0m\u001b[0mcopy\u001b[0m\u001b[0;34m(\u001b[0m\u001b[0;34m)\u001b[0m\u001b[0;34m\u001b[0m\u001b[0m\n\u001b[0;32m--> 473\u001b[0;31m                     \u001b[0ms\u001b[0m\u001b[0;34m.\u001b[0m\u001b[0m_data\u001b[0m \u001b[0;34m=\u001b[0m \u001b[0ms\u001b[0m\u001b[0;34m.\u001b[0m\u001b[0m_data\u001b[0m\u001b[0;34m.\u001b[0m\u001b[0msetitem\u001b[0m\u001b[0;34m(\u001b[0m\u001b[0mindexer\u001b[0m\u001b[0;34m=\u001b[0m\u001b[0mpi\u001b[0m\u001b[0;34m,\u001b[0m \u001b[0mvalue\u001b[0m\u001b[0;34m=\u001b[0m\u001b[0mv\u001b[0m\u001b[0;34m)\u001b[0m\u001b[0;34m\u001b[0m\u001b[0m\n\u001b[0m\u001b[1;32m    474\u001b[0m                     \u001b[0ms\u001b[0m\u001b[0;34m.\u001b[0m\u001b[0m_maybe_update_cacher\u001b[0m\u001b[0;34m(\u001b[0m\u001b[0mclear\u001b[0m\u001b[0;34m=\u001b[0m\u001b[0mTrue\u001b[0m\u001b[0;34m)\u001b[0m\u001b[0;34m\u001b[0m\u001b[0m\n\u001b[1;32m    475\u001b[0m \u001b[0;34m\u001b[0m\u001b[0m\n",
      "\u001b[0;32m/usr/local/lib/python2.7/site-packages/pandas/core/internals.pyc\u001b[0m in \u001b[0;36msetitem\u001b[0;34m(self, **kwargs)\u001b[0m\n\u001b[1;32m   3166\u001b[0m \u001b[0;34m\u001b[0m\u001b[0m\n\u001b[1;32m   3167\u001b[0m     \u001b[0;32mdef\u001b[0m \u001b[0msetitem\u001b[0m\u001b[0;34m(\u001b[0m\u001b[0mself\u001b[0m\u001b[0;34m,\u001b[0m \u001b[0;34m**\u001b[0m\u001b[0mkwargs\u001b[0m\u001b[0;34m)\u001b[0m\u001b[0;34m:\u001b[0m\u001b[0;34m\u001b[0m\u001b[0m\n\u001b[0;32m-> 3168\u001b[0;31m         \u001b[0;32mreturn\u001b[0m \u001b[0mself\u001b[0m\u001b[0;34m.\u001b[0m\u001b[0mapply\u001b[0m\u001b[0;34m(\u001b[0m\u001b[0;34m'setitem'\u001b[0m\u001b[0;34m,\u001b[0m \u001b[0;34m**\u001b[0m\u001b[0mkwargs\u001b[0m\u001b[0;34m)\u001b[0m\u001b[0;34m\u001b[0m\u001b[0m\n\u001b[0m\u001b[1;32m   3169\u001b[0m \u001b[0;34m\u001b[0m\u001b[0m\n\u001b[1;32m   3170\u001b[0m     \u001b[0;32mdef\u001b[0m \u001b[0mputmask\u001b[0m\u001b[0;34m(\u001b[0m\u001b[0mself\u001b[0m\u001b[0;34m,\u001b[0m \u001b[0;34m**\u001b[0m\u001b[0mkwargs\u001b[0m\u001b[0;34m)\u001b[0m\u001b[0;34m:\u001b[0m\u001b[0;34m\u001b[0m\u001b[0m\n",
      "\u001b[0;32m/usr/local/lib/python2.7/site-packages/pandas/core/internals.pyc\u001b[0m in \u001b[0;36mapply\u001b[0;34m(self, f, axes, filter, do_integrity_check, consolidate, **kwargs)\u001b[0m\n\u001b[1;32m   3054\u001b[0m \u001b[0;34m\u001b[0m\u001b[0m\n\u001b[1;32m   3055\u001b[0m             \u001b[0mkwargs\u001b[0m\u001b[0;34m[\u001b[0m\u001b[0;34m'mgr'\u001b[0m\u001b[0;34m]\u001b[0m \u001b[0;34m=\u001b[0m \u001b[0mself\u001b[0m\u001b[0;34m\u001b[0m\u001b[0m\n\u001b[0;32m-> 3056\u001b[0;31m             \u001b[0mapplied\u001b[0m \u001b[0;34m=\u001b[0m \u001b[0mgetattr\u001b[0m\u001b[0;34m(\u001b[0m\u001b[0mb\u001b[0m\u001b[0;34m,\u001b[0m \u001b[0mf\u001b[0m\u001b[0;34m)\u001b[0m\u001b[0;34m(\u001b[0m\u001b[0;34m**\u001b[0m\u001b[0mkwargs\u001b[0m\u001b[0;34m)\u001b[0m\u001b[0;34m\u001b[0m\u001b[0m\n\u001b[0m\u001b[1;32m   3057\u001b[0m             \u001b[0mresult_blocks\u001b[0m \u001b[0;34m=\u001b[0m \u001b[0m_extend_blocks\u001b[0m\u001b[0;34m(\u001b[0m\u001b[0mapplied\u001b[0m\u001b[0;34m,\u001b[0m \u001b[0mresult_blocks\u001b[0m\u001b[0;34m)\u001b[0m\u001b[0;34m\u001b[0m\u001b[0m\n\u001b[1;32m   3058\u001b[0m \u001b[0;34m\u001b[0m\u001b[0m\n",
      "\u001b[0;32m/usr/local/lib/python2.7/site-packages/pandas/core/internals.pyc\u001b[0m in \u001b[0;36msetitem\u001b[0;34m(self, indexer, value, mgr)\u001b[0m\n\u001b[1;32m    748\u001b[0m             \u001b[0;32melse\u001b[0m\u001b[0;34m:\u001b[0m\u001b[0;34m\u001b[0m\u001b[0m\n\u001b[1;32m    749\u001b[0m                 \u001b[0mdtype\u001b[0m \u001b[0;34m=\u001b[0m \u001b[0;34m'infer'\u001b[0m\u001b[0;34m\u001b[0m\u001b[0m\n\u001b[0;32m--> 750\u001b[0;31m             \u001b[0mvalues\u001b[0m \u001b[0;34m=\u001b[0m \u001b[0mself\u001b[0m\u001b[0;34m.\u001b[0m\u001b[0m_try_coerce_and_cast_result\u001b[0m\u001b[0;34m(\u001b[0m\u001b[0mvalues\u001b[0m\u001b[0;34m,\u001b[0m \u001b[0mdtype\u001b[0m\u001b[0;34m)\u001b[0m\u001b[0;34m\u001b[0m\u001b[0m\n\u001b[0m\u001b[1;32m    751\u001b[0m             \u001b[0mblock\u001b[0m \u001b[0;34m=\u001b[0m \u001b[0mself\u001b[0m\u001b[0;34m.\u001b[0m\u001b[0mmake_block\u001b[0m\u001b[0;34m(\u001b[0m\u001b[0mtransf\u001b[0m\u001b[0;34m(\u001b[0m\u001b[0mvalues\u001b[0m\u001b[0;34m)\u001b[0m\u001b[0;34m,\u001b[0m \u001b[0mfastpath\u001b[0m\u001b[0;34m=\u001b[0m\u001b[0mTrue\u001b[0m\u001b[0;34m)\u001b[0m\u001b[0;34m\u001b[0m\u001b[0m\n\u001b[1;32m    752\u001b[0m \u001b[0;34m\u001b[0m\u001b[0m\n",
      "\u001b[0;32m/usr/local/lib/python2.7/site-packages/pandas/core/internals.pyc\u001b[0m in \u001b[0;36m_try_coerce_and_cast_result\u001b[0;34m(self, result, dtype)\u001b[0m\n\u001b[1;32m    582\u001b[0m     \u001b[0;32mdef\u001b[0m \u001b[0m_try_coerce_and_cast_result\u001b[0m\u001b[0;34m(\u001b[0m\u001b[0mself\u001b[0m\u001b[0;34m,\u001b[0m \u001b[0mresult\u001b[0m\u001b[0;34m,\u001b[0m \u001b[0mdtype\u001b[0m\u001b[0;34m=\u001b[0m\u001b[0mNone\u001b[0m\u001b[0;34m)\u001b[0m\u001b[0;34m:\u001b[0m\u001b[0;34m\u001b[0m\u001b[0m\n\u001b[1;32m    583\u001b[0m         \u001b[0mresult\u001b[0m \u001b[0;34m=\u001b[0m \u001b[0mself\u001b[0m\u001b[0;34m.\u001b[0m\u001b[0m_try_coerce_result\u001b[0m\u001b[0;34m(\u001b[0m\u001b[0mresult\u001b[0m\u001b[0;34m)\u001b[0m\u001b[0;34m\u001b[0m\u001b[0m\n\u001b[0;32m--> 584\u001b[0;31m         \u001b[0mresult\u001b[0m \u001b[0;34m=\u001b[0m \u001b[0mself\u001b[0m\u001b[0;34m.\u001b[0m\u001b[0m_try_cast_result\u001b[0m\u001b[0;34m(\u001b[0m\u001b[0mresult\u001b[0m\u001b[0;34m,\u001b[0m \u001b[0mdtype\u001b[0m\u001b[0;34m=\u001b[0m\u001b[0mdtype\u001b[0m\u001b[0;34m)\u001b[0m\u001b[0;34m\u001b[0m\u001b[0m\n\u001b[0m\u001b[1;32m    585\u001b[0m         \u001b[0;32mreturn\u001b[0m \u001b[0mresult\u001b[0m\u001b[0;34m\u001b[0m\u001b[0m\n\u001b[1;32m    586\u001b[0m \u001b[0;34m\u001b[0m\u001b[0m\n",
      "\u001b[0;32m/usr/local/lib/python2.7/site-packages/pandas/core/internals.pyc\u001b[0m in \u001b[0;36m_try_cast_result\u001b[0;34m(self, result, dtype)\u001b[0m\n\u001b[1;32m    566\u001b[0m \u001b[0;34m\u001b[0m\u001b[0m\n\u001b[1;32m    567\u001b[0m         \u001b[0;31m# may need to change the dtype here\u001b[0m\u001b[0;34m\u001b[0m\u001b[0;34m\u001b[0m\u001b[0m\n\u001b[0;32m--> 568\u001b[0;31m         \u001b[0;32mreturn\u001b[0m \u001b[0m_possibly_downcast_to_dtype\u001b[0m\u001b[0;34m(\u001b[0m\u001b[0mresult\u001b[0m\u001b[0;34m,\u001b[0m \u001b[0mdtype\u001b[0m\u001b[0;34m)\u001b[0m\u001b[0;34m\u001b[0m\u001b[0m\n\u001b[0m\u001b[1;32m    569\u001b[0m \u001b[0;34m\u001b[0m\u001b[0m\n\u001b[1;32m    570\u001b[0m     \u001b[0;32mdef\u001b[0m \u001b[0m_try_operate\u001b[0m\u001b[0;34m(\u001b[0m\u001b[0mself\u001b[0m\u001b[0;34m,\u001b[0m \u001b[0mvalues\u001b[0m\u001b[0;34m)\u001b[0m\u001b[0;34m:\u001b[0m\u001b[0;34m\u001b[0m\u001b[0m\n",
      "\u001b[0;32m/usr/local/lib/python2.7/site-packages/pandas/types/cast.pyc\u001b[0m in \u001b[0;36m_possibly_downcast_to_dtype\u001b[0;34m(result, dtype)\u001b[0m\n\u001b[1;32m     49\u001b[0m     \"\"\"\n\u001b[1;32m     50\u001b[0m \u001b[0;34m\u001b[0m\u001b[0m\n\u001b[0;32m---> 51\u001b[0;31m     \u001b[0;32mif\u001b[0m \u001b[0mis_scalar\u001b[0m\u001b[0;34m(\u001b[0m\u001b[0mresult\u001b[0m\u001b[0;34m)\u001b[0m\u001b[0;34m:\u001b[0m\u001b[0;34m\u001b[0m\u001b[0m\n\u001b[0m\u001b[1;32m     52\u001b[0m         \u001b[0;32mreturn\u001b[0m \u001b[0mresult\u001b[0m\u001b[0;34m\u001b[0m\u001b[0m\n\u001b[1;32m     53\u001b[0m \u001b[0;34m\u001b[0m\u001b[0m\n",
      "\u001b[0;31mKeyboardInterrupt\u001b[0m: "
     ]
    }
   ],
   "source": [
    "skel, separating_sets = est.estimate_skeleton(significance_level=0.01)\n",
    "print(\"Undirected edges: \", skel.edges())"
   ]
  },
  {
   "cell_type": "code",
   "execution_count": 37,
   "metadata": {
    "ExecuteTime": {
     "end_time": "2018-05-02T04:03:10.498384Z",
     "start_time": "2018-05-02T04:03:10.487972Z"
    }
   },
   "outputs": [
    {
     "name": "stdout",
     "output_type": "stream",
     "text": [
      "('PDAG edges:       ', [('OBESITY_CrudePrev', 'Pop Density'), ('OBESITY_CrudePrev', 'label'), ('OBESITY_CrudePrev', 'Income'), ('Pop Density', 'OBESITY_CrudePrev'), ('Pop Density', 'label'), ('label', 'Pop Density'), ('label', 'OBESITY_CrudePrev'), ('label', 'Income'), ('Income', 'OBESITY_CrudePrev'), ('Income', 'label')])\n"
     ]
    }
   ],
   "source": [
    "pdag = est.skeleton_to_pdag(skel, separating_sets)\n",
    "print(\"PDAG edges:       \", pdag.edges())"
   ]
  },
  {
   "cell_type": "code",
   "execution_count": 38,
   "metadata": {
    "ExecuteTime": {
     "end_time": "2018-05-02T04:03:33.086400Z",
     "start_time": "2018-05-02T04:03:33.076399Z"
    }
   },
   "outputs": [
    {
     "name": "stdout",
     "output_type": "stream",
     "text": [
      "('DAG edges:        ', [('OBESITY_CrudePrev', 'Pop Density'), ('OBESITY_CrudePrev', 'label'), ('OBESITY_CrudePrev', 'Income'), ('label', 'Pop Density'), ('label', 'Income')])\n"
     ]
    }
   ],
   "source": [
    "model = est.pdag_to_dag(pdag)\n",
    "print(\"DAG edges:        \", model.edges())"
   ]
  },
  {
   "cell_type": "code",
   "execution_count": null,
   "metadata": {},
   "outputs": [],
   "source": []
  },
  {
   "cell_type": "markdown",
   "metadata": {},
   "source": [
    "# ExhaustiveSearch"
   ]
  },
  {
   "cell_type": "code",
   "execution_count": 45,
   "metadata": {
    "ExecuteTime": {
     "end_time": "2018-05-02T05:13:54.066834Z",
     "start_time": "2018-05-02T05:13:54.058898Z"
    }
   },
   "outputs": [],
   "source": [
    "X1 = X[[u'Pop Density', u'Income', \n",
    "     u'OBESITY_CrudePrev',\n",
    "       u'label']]"
   ]
  },
  {
   "cell_type": "code",
   "execution_count": 48,
   "metadata": {
    "ExecuteTime": {
     "end_time": "2018-05-02T05:17:44.654618Z",
     "start_time": "2018-05-02T05:16:26.127503Z"
    },
    "scrolled": false
   },
   "outputs": [
    {
     "name": "stdout",
     "output_type": "stream",
     "text": [
      "[('OBESITY_CrudePrev', 'label'), ('Income', 'Pop Density'), ('Income', 'OBESITY_CrudePrev')]\n",
      "\n",
      "All DAGs by score:\n",
      "(-11609.812916944364, [('OBESITY_CrudePrev', 'label'), ('Income', 'Pop Density'), ('Income', 'OBESITY_CrudePrev')])\n",
      "(-11609.812916944365, [('OBESITY_CrudePrev', 'Income'), ('label', 'OBESITY_CrudePrev'), ('Income', 'Pop Density')])\n",
      "(-11609.812916944365, [('OBESITY_CrudePrev', 'Income'), ('OBESITY_CrudePrev', 'label'), ('Income', 'Pop Density')])\n",
      "(-11609.812916944365, [('Pop Density', 'Income'), ('OBESITY_CrudePrev', 'label'), ('Income', 'OBESITY_CrudePrev')])\n",
      "(-11675.395582057841, [('OBESITY_CrudePrev', 'label'), ('label', 'Pop Density'), ('Income', 'OBESITY_CrudePrev')])\n",
      "(-11675.395582057843, [('OBESITY_CrudePrev', 'Income'), ('label', 'Pop Density'), ('label', 'OBESITY_CrudePrev')])\n",
      "(-11675.395582057843, [('Pop Density', 'label'), ('OBESITY_CrudePrev', 'Income'), ('label', 'OBESITY_CrudePrev')])\n",
      "(-11675.395582057843, [('OBESITY_CrudePrev', 'Income'), ('OBESITY_CrudePrev', 'label'), ('label', 'Pop Density')])\n",
      "(-11676.874079265104, [('OBESITY_CrudePrev', 'Income'), ('label', 'OBESITY_CrudePrev')])\n",
      "(-11676.874079265104, [('OBESITY_CrudePrev', 'label'), ('Income', 'OBESITY_CrudePrev')])\n",
      "(-11676.874079265106, [('OBESITY_CrudePrev', 'Income'), ('OBESITY_CrudePrev', 'label')])\n",
      "(-11700.556517796991, [('OBESITY_CrudePrev', 'Pop Density'), ('OBESITY_CrudePrev', 'label'), ('Income', 'OBESITY_CrudePrev')])\n",
      "(-11700.556517796993, [('OBESITY_CrudePrev', 'Pop Density'), ('OBESITY_CrudePrev', 'Income'), ('label', 'OBESITY_CrudePrev')])\n",
      "(-11700.556517796995, [('Pop Density', 'OBESITY_CrudePrev'), ('OBESITY_CrudePrev', 'Income'), ('OBESITY_CrudePrev', 'label')])\n",
      "(-11700.556517796995, [('OBESITY_CrudePrev', 'Pop Density'), ('OBESITY_CrudePrev', 'Income'), ('OBESITY_CrudePrev', 'label')])\n",
      "(-11821.577546910197, [('label', 'OBESITY_CrudePrev'), ('label', 'Income'), ('Income', 'Pop Density')])\n",
      "(-11821.577546910197, [('OBESITY_CrudePrev', 'label'), ('label', 'Income'), ('Income', 'Pop Density')])\n",
      "(-11821.577546910197, [('label', 'OBESITY_CrudePrev'), ('Income', 'Pop Density'), ('Income', 'label')])\n",
      "(-11821.577546910199, [('Pop Density', 'Income'), ('label', 'OBESITY_CrudePrev'), ('Income', 'label')])\n",
      "(-11887.160212023675, [('label', 'Pop Density'), ('label', 'OBESITY_CrudePrev'), ('label', 'Income')])\n",
      "(-11887.160212023675, [('Pop Density', 'label'), ('label', 'OBESITY_CrudePrev'), ('label', 'Income')])\n",
      "(-11887.160212023675, [('OBESITY_CrudePrev', 'label'), ('label', 'Pop Density'), ('label', 'Income')])\n",
      "(-11887.160212023675, [('label', 'Pop Density'), ('label', 'OBESITY_CrudePrev'), ('Income', 'label')])\n",
      "(-11888.638709230938, [('label', 'OBESITY_CrudePrev'), ('label', 'Income')])\n",
      "(-11888.638709230938, [('OBESITY_CrudePrev', 'label'), ('label', 'Income')])\n",
      "(-11888.638709230938, [('label', 'OBESITY_CrudePrev'), ('Income', 'label')])\n",
      "(-11912.321147762825, [('OBESITY_CrudePrev', 'Pop Density'), ('label', 'OBESITY_CrudePrev'), ('label', 'Income')])\n",
      "(-11912.321147762825, [('OBESITY_CrudePrev', 'Pop Density'), ('label', 'OBESITY_CrudePrev'), ('Income', 'label')])\n",
      "(-11912.321147762828, [('Pop Density', 'OBESITY_CrudePrev'), ('OBESITY_CrudePrev', 'label'), ('label', 'Income')])\n",
      "(-11912.321147762828, [('OBESITY_CrudePrev', 'Pop Density'), ('OBESITY_CrudePrev', 'label'), ('label', 'Income')])\n",
      "(-11995.786920282146, [('label', 'Income'), ('Income', 'Pop Density'), ('Income', 'OBESITY_CrudePrev')])\n",
      "(-11995.786920282146, [('Income', 'Pop Density'), ('Income', 'label'), ('Income', 'OBESITY_CrudePrev')])\n",
      "(-11995.786920282148, [('OBESITY_CrudePrev', 'Income'), ('Income', 'Pop Density'), ('Income', 'label')])\n",
      "(-11995.786920282148, [('Pop Density', 'Income'), ('Income', 'label'), ('Income', 'OBESITY_CrudePrev')])\n",
      "(-11997.463454027282, [('Pop Density', 'Income'), ('label', 'Pop Density'), ('label', 'OBESITY_CrudePrev')])\n",
      "(-11997.463454027282, [('Pop Density', 'Income'), ('Pop Density', 'label'), ('label', 'OBESITY_CrudePrev')])\n",
      "(-11997.463454027282, [('Pop Density', 'Income'), ('OBESITY_CrudePrev', 'label'), ('label', 'Pop Density')])\n",
      "(-11997.463454027282, [('Pop Density', 'label'), ('label', 'OBESITY_CrudePrev'), ('Income', 'Pop Density')])\n",
      "(-11998.941951234541, [('label', 'OBESITY_CrudePrev'), ('Income', 'Pop Density')])\n",
      "(-11998.941951234541, [('OBESITY_CrudePrev', 'label'), ('Income', 'Pop Density')])\n",
      "(-11998.941951234543, [('Pop Density', 'Income'), ('label', 'OBESITY_CrudePrev')])\n",
      "(-11998.941951234545, [('Pop Density', 'Income'), ('OBESITY_CrudePrev', 'label')])\n",
      "(-12022.624389766432, [('Pop Density', 'Income'), ('OBESITY_CrudePrev', 'Pop Density'), ('label', 'OBESITY_CrudePrev')])\n",
      "(-12022.624389766432, [('Pop Density', 'OBESITY_CrudePrev'), ('OBESITY_CrudePrev', 'label'), ('Income', 'Pop Density')])\n",
      "(-12022.624389766434, [('Pop Density', 'OBESITY_CrudePrev'), ('Pop Density', 'Income'), ('OBESITY_CrudePrev', 'label')])\n",
      "(-12022.624389766434, [('Pop Density', 'Income'), ('OBESITY_CrudePrev', 'Pop Density'), ('OBESITY_CrudePrev', 'label')])\n",
      "(-12061.369585395623, [('label', 'Pop Density'), ('label', 'Income'), ('Income', 'OBESITY_CrudePrev')])\n",
      "(-12061.369585395623, [('Pop Density', 'label'), ('label', 'Income'), ('Income', 'OBESITY_CrudePrev')])\n",
      "(-12061.369585395623, [('label', 'Pop Density'), ('Income', 'label'), ('Income', 'OBESITY_CrudePrev')])\n",
      "(-12061.369585395625, [('OBESITY_CrudePrev', 'Income'), ('label', 'Pop Density'), ('Income', 'label')])\n",
      "(-12062.848082602886, [('OBESITY_CrudePrev', 'Income'), ('Income', 'label')])\n",
      "(-12062.848082602886, [('label', 'Income'), ('Income', 'OBESITY_CrudePrev')])\n",
      "(-12062.848082602886, [('Income', 'label'), ('Income', 'OBESITY_CrudePrev')])\n",
      "(-12064.524616348019, [('label', 'Pop Density'), ('label', 'OBESITY_CrudePrev')])\n",
      "(-12064.524616348019, [('Pop Density', 'label'), ('label', 'OBESITY_CrudePrev')])\n",
      "(-12064.524616348019, [('OBESITY_CrudePrev', 'label'), ('label', 'Pop Density')])\n",
      "(-12066.003113555282, [('label', 'OBESITY_CrudePrev')])\n",
      "(-12066.003113555282, [('OBESITY_CrudePrev', 'label')])\n",
      "(-12086.530521134773, [('OBESITY_CrudePrev', 'Pop Density'), ('label', 'Income'), ('Income', 'OBESITY_CrudePrev')])\n",
      "(-12086.530521134773, [('OBESITY_CrudePrev', 'Pop Density'), ('Income', 'label'), ('Income', 'OBESITY_CrudePrev')])\n",
      "(-12086.530521134775, [('Pop Density', 'OBESITY_CrudePrev'), ('OBESITY_CrudePrev', 'Income'), ('Income', 'label')])\n",
      "(-12086.530521134775, [('OBESITY_CrudePrev', 'Pop Density'), ('OBESITY_CrudePrev', 'Income'), ('Income', 'label')])\n",
      "(-12089.685552087169, [('OBESITY_CrudePrev', 'Pop Density'), ('label', 'OBESITY_CrudePrev')])\n",
      "(-12089.685552087172, [('Pop Density', 'OBESITY_CrudePrev'), ('OBESITY_CrudePrev', 'label')])\n",
      "(-12089.685552087172, [('OBESITY_CrudePrev', 'Pop Density'), ('OBESITY_CrudePrev', 'label')])\n",
      "(-12171.67282739923, [('Pop Density', 'label'), ('OBESITY_CrudePrev', 'Income'), ('Income', 'Pop Density')])\n",
      "(-12171.67282739923, [('Pop Density', 'Income'), ('label', 'Pop Density'), ('Income', 'OBESITY_CrudePrev')])\n",
      "(-12171.67282739923, [('Pop Density', 'Income'), ('Pop Density', 'label'), ('Income', 'OBESITY_CrudePrev')])\n",
      "(-12171.67282739923, [('Pop Density', 'label'), ('Income', 'Pop Density'), ('Income', 'OBESITY_CrudePrev')])\n",
      "(-12173.15132460649, [('Income', 'Pop Density'), ('Income', 'OBESITY_CrudePrev')])\n",
      "(-12173.151324606491, [('OBESITY_CrudePrev', 'Income'), ('Income', 'Pop Density')])\n",
      "(-12173.151324606491, [('Pop Density', 'Income'), ('Income', 'OBESITY_CrudePrev')])\n",
      "(-12238.733989719967, [('label', 'Pop Density'), ('Income', 'OBESITY_CrudePrev')])\n",
      "(-12238.733989719967, [('Pop Density', 'label'), ('Income', 'OBESITY_CrudePrev')])\n",
      "(-12238.733989719969, [('OBESITY_CrudePrev', 'Income'), ('label', 'Pop Density')])\n",
      "(-12238.733989719969, [('Pop Density', 'label'), ('OBESITY_CrudePrev', 'Income')])\n",
      "(-12240.21248692723, [('Income', 'OBESITY_CrudePrev')])\n",
      "(-12240.212486927232, [('OBESITY_CrudePrev', 'Income')])\n",
      "(-12262.416428251858, [('Pop Density', 'OBESITY_CrudePrev'), ('OBESITY_CrudePrev', 'Income'), ('label', 'Pop Density')])\n",
      "(-12262.416428251858, [('Pop Density', 'label'), ('OBESITY_CrudePrev', 'Pop Density'), ('Income', 'OBESITY_CrudePrev')])\n",
      "(-12262.41642825186, [('Pop Density', 'OBESITY_CrudePrev'), ('Pop Density', 'label'), ('OBESITY_CrudePrev', 'Income')])\n",
      "(-12262.41642825186, [('Pop Density', 'label'), ('OBESITY_CrudePrev', 'Pop Density'), ('OBESITY_CrudePrev', 'Income')])\n",
      "(-12263.894925459117, [('OBESITY_CrudePrev', 'Pop Density'), ('Income', 'OBESITY_CrudePrev')])\n",
      "(-12263.894925459119, [('Pop Density', 'OBESITY_CrudePrev'), ('OBESITY_CrudePrev', 'Income')])\n",
      "(-12263.894925459119, [('OBESITY_CrudePrev', 'Pop Density'), ('OBESITY_CrudePrev', 'Income')])\n",
      "(-12339.992849884457, [('OBESITY_CrudePrev', 'label'), ('label', 'Pop Density'), ('Income', 'Pop Density'), ('Income', 'OBESITY_CrudePrev')])\n",
      "(-12339.992849884458, [('OBESITY_CrudePrev', 'Income'), ('label', 'Pop Density'), ('label', 'OBESITY_CrudePrev'), ('Income', 'Pop Density')])\n",
      "(-12339.992849884458, [('OBESITY_CrudePrev', 'Income'), ('OBESITY_CrudePrev', 'label'), ('label', 'Pop Density'), ('Income', 'Pop Density')])\n",
      "(-12347.524966948204, [('Pop Density', 'label'), ('OBESITY_CrudePrev', 'Income'), ('OBESITY_CrudePrev', 'label'), ('Income', 'Pop Density')])\n",
      "(-12347.524966948204, [('Pop Density', 'Income'), ('Pop Density', 'label'), ('OBESITY_CrudePrev', 'label'), ('Income', 'OBESITY_CrudePrev')])\n",
      "(-12347.524966948204, [('Pop Density', 'label'), ('OBESITY_CrudePrev', 'label'), ('Income', 'Pop Density'), ('Income', 'OBESITY_CrudePrev')])\n",
      "(-12384.915954572323, [('label', 'Income'), ('Income', 'Pop Density')])\n",
      "(-12384.915954572323, [('Income', 'Pop Density'), ('Income', 'label')])\n",
      "(-12384.915954572325, [('Pop Density', 'Income'), ('Income', 'label')])\n",
      "(-12392.540478291598, [('Pop Density', 'Income'), ('OBESITY_CrudePrev', 'Income'), ('label', 'Pop Density'), ('label', 'OBESITY_CrudePrev')])\n",
      "(-12392.540478291598, [('Pop Density', 'Income'), ('Pop Density', 'label'), ('OBESITY_CrudePrev', 'Income'), ('label', 'OBESITY_CrudePrev')])\n",
      "(-12392.540478291598, [('Pop Density', 'Income'), ('OBESITY_CrudePrev', 'Income'), ('OBESITY_CrudePrev', 'label'), ('label', 'Pop Density')])\n",
      "(-12394.018975498859, [('Pop Density', 'Income'), ('OBESITY_CrudePrev', 'Income'), ('label', 'OBESITY_CrudePrev')])\n",
      "(-12394.018975498861, [('Pop Density', 'Income'), ('OBESITY_CrudePrev', 'Income'), ('OBESITY_CrudePrev', 'label')])\n",
      "(-12395.593739863809, [('OBESITY_CrudePrev', 'label'), ('Income', 'Pop Density'), ('Income', 'label'), ('Income', 'OBESITY_CrudePrev')])\n",
      "(-12395.593739863811, [('OBESITY_CrudePrev', 'Income'), ('label', 'OBESITY_CrudePrev'), ('label', 'Income'), ('Income', 'Pop Density')])\n",
      "(-12395.593739863811, [('OBESITY_CrudePrev', 'Income'), ('OBESITY_CrudePrev', 'label'), ('label', 'Income'), ('Income', 'Pop Density')])\n",
      "(-12395.593739863811, [('OBESITY_CrudePrev', 'Income'), ('OBESITY_CrudePrev', 'label'), ('Income', 'Pop Density'), ('Income', 'label')])\n",
      "(-12395.593739863813, [('Pop Density', 'Income'), ('OBESITY_CrudePrev', 'label'), ('Income', 'label'), ('Income', 'OBESITY_CrudePrev')])\n",
      "(-12395.593739863813, [('label', 'OBESITY_CrudePrev'), ('label', 'Income'), ('Income', 'Pop Density'), ('Income', 'OBESITY_CrudePrev')])\n",
      "(-12395.593739863813, [('label', 'OBESITY_CrudePrev'), ('Income', 'Pop Density'), ('Income', 'label'), ('Income', 'OBESITY_CrudePrev')])\n",
      "(-12395.593739863814, [('Pop Density', 'Income'), ('label', 'OBESITY_CrudePrev'), ('Income', 'label'), ('Income', 'OBESITY_CrudePrev')])\n",
      "(-12408.598393104214, [('Pop Density', 'OBESITY_CrudePrev'), ('Pop Density', 'Income'), ('Income', 'label')])\n",
      "(-12408.598393104214, [('Pop Density', 'Income'), ('OBESITY_CrudePrev', 'Pop Density'), ('Income', 'label')])\n",
      "(-12408.598393104214, [('Pop Density', 'OBESITY_CrudePrev'), ('label', 'Income'), ('Income', 'Pop Density')])\n",
      "(-12408.598393104214, [('Pop Density', 'OBESITY_CrudePrev'), ('Income', 'Pop Density'), ('Income', 'label')])\n",
      "(-12414.586129268941, [('Pop Density', 'label'), ('OBESITY_CrudePrev', 'label'), ('Income', 'OBESITY_CrudePrev')])\n",
      "(-12414.586129268944, [('Pop Density', 'label'), ('OBESITY_CrudePrev', 'Income'), ('OBESITY_CrudePrev', 'label')])\n",
      "(-12417.701414030747, [('Pop Density', 'Income'), ('OBESITY_CrudePrev', 'Pop Density'), ('OBESITY_CrudePrev', 'Income'), ('label', 'OBESITY_CrudePrev')])\n",
      "(-12417.701414030747, [('Pop Density', 'OBESITY_CrudePrev'), ('OBESITY_CrudePrev', 'label'), ('Income', 'Pop Density'), ('Income', 'OBESITY_CrudePrev')])\n",
      "(-12417.701414030747, [('OBESITY_CrudePrev', 'Pop Density'), ('OBESITY_CrudePrev', 'label'), ('Income', 'Pop Density'), ('Income', 'OBESITY_CrudePrev')])\n",
      "(-12417.701414030749, [('Pop Density', 'OBESITY_CrudePrev'), ('Pop Density', 'Income'), ('OBESITY_CrudePrev', 'Income'), ('OBESITY_CrudePrev', 'label')])\n",
      "(-12417.701414030749, [('Pop Density', 'Income'), ('OBESITY_CrudePrev', 'Pop Density'), ('OBESITY_CrudePrev', 'Income'), ('OBESITY_CrudePrev', 'label')])\n",
      "(-12417.701414030749, [('OBESITY_CrudePrev', 'Pop Density'), ('OBESITY_CrudePrev', 'Income'), ('label', 'OBESITY_CrudePrev'), ('Income', 'Pop Density')])\n",
      "(-12417.701414030749, [('OBESITY_CrudePrev', 'Pop Density'), ('OBESITY_CrudePrev', 'Income'), ('OBESITY_CrudePrev', 'label'), ('Income', 'Pop Density')])\n",
      "(-12417.701414030749, [('Pop Density', 'OBESITY_CrudePrev'), ('Pop Density', 'Income'), ('OBESITY_CrudePrev', 'label'), ('Income', 'OBESITY_CrudePrev')])\n",
      "(-12438.268567800831, [('Pop Density', 'OBESITY_CrudePrev'), ('OBESITY_CrudePrev', 'Income'), ('label', 'Pop Density'), ('label', 'OBESITY_CrudePrev')])\n",
      "(-12438.268567800831, [('Pop Density', 'OBESITY_CrudePrev'), ('Pop Density', 'label'), ('OBESITY_CrudePrev', 'Income'), ('label', 'OBESITY_CrudePrev')])\n",
      "(-12438.268567800831, [('OBESITY_CrudePrev', 'Pop Density'), ('OBESITY_CrudePrev', 'label'), ('label', 'Pop Density'), ('Income', 'OBESITY_CrudePrev')])\n",
      "(-12438.268567800831, [('Pop Density', 'label'), ('OBESITY_CrudePrev', 'Pop Density'), ('OBESITY_CrudePrev', 'label'), ('Income', 'OBESITY_CrudePrev')])\n",
      "(-12438.268567800833, [('Pop Density', 'OBESITY_CrudePrev'), ('Pop Density', 'label'), ('OBESITY_CrudePrev', 'Income'), ('OBESITY_CrudePrev', 'label')])\n",
      "(-12438.268567800833, [('OBESITY_CrudePrev', 'Pop Density'), ('OBESITY_CrudePrev', 'Income'), ('label', 'Pop Density'), ('label', 'OBESITY_CrudePrev')])\n",
      "(-12438.268567800833, [('OBESITY_CrudePrev', 'Pop Density'), ('OBESITY_CrudePrev', 'Income'), ('OBESITY_CrudePrev', 'label'), ('label', 'Pop Density')])\n",
      "(-12438.268567800833, [('Pop Density', 'label'), ('OBESITY_CrudePrev', 'Pop Density'), ('OBESITY_CrudePrev', 'Income'), ('OBESITY_CrudePrev', 'label')])\n",
      "(-12439.747065008092, [('Pop Density', 'OBESITY_CrudePrev'), ('OBESITY_CrudePrev', 'Income'), ('label', 'OBESITY_CrudePrev')])\n",
      "(-12450.498619685801, [('label', 'Pop Density'), ('label', 'Income')])\n",
      "(-12450.498619685801, [('Pop Density', 'label'), ('label', 'Income')])\n",
      "(-12450.498619685801, [('label', 'Pop Density'), ('Income', 'label')])\n",
      "(-12451.977116893064, [('label', 'Income')])\n",
      "(-12451.977116893064, [('Income', 'label')])\n",
      "(-12461.176404977286, [('OBESITY_CrudePrev', 'label'), ('label', 'Pop Density'), ('Income', 'label'), ('Income', 'OBESITY_CrudePrev')])\n",
      "(-12461.176404977288, [('OBESITY_CrudePrev', 'Income'), ('label', 'Pop Density'), ('label', 'OBESITY_CrudePrev'), ('label', 'Income')])\n",
      "(-12461.176404977288, [('Pop Density', 'label'), ('OBESITY_CrudePrev', 'Income'), ('label', 'OBESITY_CrudePrev'), ('label', 'Income')])\n",
      "(-12461.176404977288, [('OBESITY_CrudePrev', 'Income'), ('OBESITY_CrudePrev', 'label'), ('label', 'Pop Density'), ('label', 'Income')])\n",
      "(-12461.176404977288, [('OBESITY_CrudePrev', 'Income'), ('OBESITY_CrudePrev', 'label'), ('label', 'Pop Density'), ('Income', 'label')])\n",
      "(-12461.17640497729, [('label', 'Pop Density'), ('label', 'OBESITY_CrudePrev'), ('label', 'Income'), ('Income', 'OBESITY_CrudePrev')])\n",
      "(-12461.17640497729, [('Pop Density', 'label'), ('label', 'OBESITY_CrudePrev'), ('label', 'Income'), ('Income', 'OBESITY_CrudePrev')])\n",
      "(-12461.17640497729, [('label', 'Pop Density'), ('label', 'OBESITY_CrudePrev'), ('Income', 'label'), ('Income', 'OBESITY_CrudePrev')])\n",
      "(-12462.654902184549, [('OBESITY_CrudePrev', 'Income'), ('label', 'OBESITY_CrudePrev'), ('label', 'Income')])\n",
      "(-12462.654902184549, [('OBESITY_CrudePrev', 'label'), ('Income', 'label'), ('Income', 'OBESITY_CrudePrev')])\n",
      "(-12462.654902184551, [('OBESITY_CrudePrev', 'Income'), ('OBESITY_CrudePrev', 'label'), ('label', 'Income')])\n",
      "(-12462.654902184551, [('OBESITY_CrudePrev', 'Income'), ('OBESITY_CrudePrev', 'label'), ('Income', 'label')])\n",
      "(-12462.654902184553, [('label', 'OBESITY_CrudePrev'), ('label', 'Income'), ('Income', 'OBESITY_CrudePrev')])\n",
      "(-12462.654902184553, [('label', 'OBESITY_CrudePrev'), ('Income', 'label'), ('Income', 'OBESITY_CrudePrev')])\n",
      "(-12474.181058217691, [('Pop Density', 'OBESITY_CrudePrev'), ('label', 'Pop Density'), ('label', 'Income')])\n",
      "(-12474.181058217691, [('Pop Density', 'OBESITY_CrudePrev'), ('Pop Density', 'label'), ('label', 'Income')])\n",
      "(-12474.181058217691, [('Pop Density', 'label'), ('OBESITY_CrudePrev', 'Pop Density'), ('label', 'Income')])\n",
      "(-12474.181058217691, [('Pop Density', 'OBESITY_CrudePrev'), ('label', 'Pop Density'), ('Income', 'label')])\n",
      "(-12475.659555424951, [('Pop Density', 'OBESITY_CrudePrev'), ('label', 'Income')])\n",
      "(-12475.659555424951, [('OBESITY_CrudePrev', 'Pop Density'), ('label', 'Income')])\n",
      "(-12475.659555424951, [('Pop Density', 'OBESITY_CrudePrev'), ('Income', 'label')])\n",
      "(-12475.659555424951, [('OBESITY_CrudePrev', 'Pop Density'), ('Income', 'label')])\n",
      "(-12484.762576351488, [('Pop Density', 'OBESITY_CrudePrev'), ('OBESITY_CrudePrev', 'label'), ('Income', 'OBESITY_CrudePrev')])\n",
      "(-12486.337340716436, [('OBESITY_CrudePrev', 'Pop Density'), ('OBESITY_CrudePrev', 'label'), ('Income', 'label'), ('Income', 'OBESITY_CrudePrev')])\n",
      "(-12486.337340716438, [('OBESITY_CrudePrev', 'Pop Density'), ('OBESITY_CrudePrev', 'Income'), ('label', 'OBESITY_CrudePrev'), ('label', 'Income')])\n",
      "(-12486.33734071644, [('Pop Density', 'OBESITY_CrudePrev'), ('OBESITY_CrudePrev', 'Income'), ('OBESITY_CrudePrev', 'label'), ('label', 'Income')])\n",
      "(-12486.33734071644, [('OBESITY_CrudePrev', 'Pop Density'), ('OBESITY_CrudePrev', 'Income'), ('OBESITY_CrudePrev', 'label'), ('label', 'Income')])\n",
      "(-12486.33734071644, [('Pop Density', 'OBESITY_CrudePrev'), ('OBESITY_CrudePrev', 'Income'), ('OBESITY_CrudePrev', 'label'), ('Income', 'label')])\n",
      "(-12486.33734071644, [('OBESITY_CrudePrev', 'Pop Density'), ('OBESITY_CrudePrev', 'Income'), ('OBESITY_CrudePrev', 'label'), ('Income', 'label')])\n",
      "(-12486.33734071644, [('OBESITY_CrudePrev', 'Pop Density'), ('label', 'OBESITY_CrudePrev'), ('label', 'Income'), ('Income', 'OBESITY_CrudePrev')])\n",
      "(-12486.33734071644, [('OBESITY_CrudePrev', 'Pop Density'), ('label', 'OBESITY_CrudePrev'), ('Income', 'label'), ('Income', 'OBESITY_CrudePrev')])\n",
      "(-12551.75747985029, [('label', 'Pop Density'), ('label', 'OBESITY_CrudePrev'), ('label', 'Income'), ('Income', 'Pop Density')])\n",
      "(-12551.75747985029, [('OBESITY_CrudePrev', 'label'), ('label', 'Pop Density'), ('label', 'Income'), ('Income', 'Pop Density')])\n",
      "(-12551.75747985029, [('label', 'Pop Density'), ('label', 'OBESITY_CrudePrev'), ('Income', 'Pop Density'), ('Income', 'label')])\n",
      "(-12551.75747985029, [('Pop Density', 'label'), ('label', 'OBESITY_CrudePrev'), ('Income', 'Pop Density'), ('Income', 'label')])\n",
      "(-12551.757479850292, [('Pop Density', 'Income'), ('label', 'Pop Density'), ('label', 'OBESITY_CrudePrev'), ('label', 'Income')])\n",
      "(-12551.757479850292, [('Pop Density', 'Income'), ('Pop Density', 'label'), ('label', 'OBESITY_CrudePrev'), ('label', 'Income')])\n",
      "(-12551.757479850292, [('Pop Density', 'Income'), ('OBESITY_CrudePrev', 'label'), ('label', 'Pop Density'), ('label', 'Income')])\n",
      "(-12551.757479850292, [('Pop Density', 'Income'), ('Pop Density', 'label'), ('label', 'OBESITY_CrudePrev'), ('Income', 'label')])\n",
      "(-12553.235977057553, [('Pop Density', 'Income'), ('label', 'OBESITY_CrudePrev'), ('label', 'Income')])\n",
      "(-12553.235977057555, [('Pop Density', 'Income'), ('OBESITY_CrudePrev', 'label'), ('label', 'Income')])\n",
      "(-12560.801861689408, [('Pop Density', 'Income'), ('label', 'Pop Density')])\n",
      "(-12560.801861689408, [('Pop Density', 'Income'), ('Pop Density', 'label')])\n",
      "(-12560.801861689408, [('Pop Density', 'label'), ('Income', 'Pop Density')])\n",
      "(-12562.280358896667, [('Income', 'Pop Density')])\n",
      "(-12562.280358896671, [('Pop Density', 'Income')])\n",
      "(-12571.479646980893, [('Pop Density', 'label'), ('label', 'OBESITY_CrudePrev'), ('Income', 'Pop Density'), ('Income', 'OBESITY_CrudePrev')])\n",
      "(-12571.479646980897, [('Pop Density', 'Income'), ('label', 'Pop Density'), ('label', 'OBESITY_CrudePrev'), ('Income', 'OBESITY_CrudePrev')])\n",
      "(-12571.479646980897, [('Pop Density', 'Income'), ('Pop Density', 'label'), ('label', 'OBESITY_CrudePrev'), ('Income', 'OBESITY_CrudePrev')])\n",
      "(-12572.958144188156, [('label', 'OBESITY_CrudePrev'), ('Income', 'Pop Density'), ('Income', 'OBESITY_CrudePrev')])\n",
      "(-12572.958144188158, [('Pop Density', 'Income'), ('label', 'OBESITY_CrudePrev'), ('Income', 'OBESITY_CrudePrev')])\n",
      "(-12576.918415589442, [('Pop Density', 'Income'), ('OBESITY_CrudePrev', 'Pop Density'), ('label', 'OBESITY_CrudePrev'), ('label', 'Income')])\n",
      "(-12576.918415589444, [('Pop Density', 'OBESITY_CrudePrev'), ('Pop Density', 'Income'), ('OBESITY_CrudePrev', 'label'), ('label', 'Income')])\n",
      "(-12576.918415589444, [('Pop Density', 'Income'), ('OBESITY_CrudePrev', 'Pop Density'), ('OBESITY_CrudePrev', 'label'), ('label', 'Income')])\n",
      "(-12584.450532653187, [('Pop Density', 'OBESITY_CrudePrev'), ('Pop Density', 'Income'), ('label', 'OBESITY_CrudePrev'), ('Income', 'label')])\n",
      "(-12584.450532653187, [('Pop Density', 'OBESITY_CrudePrev'), ('label', 'OBESITY_CrudePrev'), ('label', 'Income'), ('Income', 'Pop Density')])\n",
      "(-12584.450532653187, [('Pop Density', 'OBESITY_CrudePrev'), ('label', 'OBESITY_CrudePrev'), ('Income', 'Pop Density'), ('Income', 'label')])\n",
      "(-12584.484300221295, [('Pop Density', 'OBESITY_CrudePrev'), ('Pop Density', 'label'), ('Income', 'Pop Density')])\n",
      "(-12584.484300221297, [('Pop Density', 'OBESITY_CrudePrev'), ('Pop Density', 'Income'), ('label', 'Pop Density')])\n",
      "(-12584.484300221298, [('Pop Density', 'OBESITY_CrudePrev'), ('Pop Density', 'Income'), ('Pop Density', 'label')])\n",
      "(-12584.484300221298, [('Pop Density', 'Income'), ('Pop Density', 'label'), ('OBESITY_CrudePrev', 'Pop Density')])\n",
      "(-12585.962797428558, [('Pop Density', 'OBESITY_CrudePrev'), ('Pop Density', 'Income')])\n",
      "(-12585.962797428558, [('Pop Density', 'Income'), ('OBESITY_CrudePrev', 'Pop Density')])\n",
      "(-12585.962797428558, [('Pop Density', 'OBESITY_CrudePrev'), ('Income', 'Pop Density')])\n",
      "(-12618.818642171031, [('Pop Density', 'label'), ('label', 'OBESITY_CrudePrev'), ('Income', 'label')])\n",
      "(-12626.350759234778, [('Pop Density', 'label'), ('OBESITY_CrudePrev', 'label'), ('label', 'Income')])\n",
      "(-12627.863024010145, [('label', 'Pop Density')])\n",
      "(-12627.863024010145, [('Pop Density', 'label')])\n",
      "(-12629.341521217408, [])\n",
      "(-12629.466043996581, [('OBESITY_CrudePrev', 'Pop Density'), ('label', 'OBESITY_CrudePrev'), ('label', 'Income'), ('Income', 'Pop Density')])\n",
      "(-12629.466043996581, [('OBESITY_CrudePrev', 'Pop Density'), ('OBESITY_CrudePrev', 'label'), ('label', 'Income'), ('Income', 'Pop Density')])\n",
      "(-12629.466043996581, [('OBESITY_CrudePrev', 'Pop Density'), ('label', 'OBESITY_CrudePrev'), ('Income', 'Pop Density'), ('Income', 'label')])\n",
      "(-12638.540809301634, [('label', 'Pop Density'), ('label', 'OBESITY_CrudePrev'), ('Income', 'OBESITY_CrudePrev')])\n",
      "(-12638.540809301634, [('Pop Density', 'label'), ('label', 'OBESITY_CrudePrev'), ('Income', 'OBESITY_CrudePrev')])\n",
      "(-12640.019306508897, [('label', 'OBESITY_CrudePrev'), ('Income', 'OBESITY_CrudePrev')])\n",
      "(-12650.033197766665, [('Pop Density', 'OBESITY_CrudePrev'), ('label', 'Pop Density'), ('label', 'OBESITY_CrudePrev'), ('label', 'Income')])\n",
      "(-12650.033197766665, [('Pop Density', 'OBESITY_CrudePrev'), ('Pop Density', 'label'), ('label', 'OBESITY_CrudePrev'), ('label', 'Income')])\n",
      "(-12650.033197766665, [('Pop Density', 'OBESITY_CrudePrev'), ('Pop Density', 'label'), ('OBESITY_CrudePrev', 'label'), ('label', 'Income')])\n",
      "(-12650.033197766665, [('OBESITY_CrudePrev', 'Pop Density'), ('label', 'Pop Density'), ('label', 'OBESITY_CrudePrev'), ('label', 'Income')])\n",
      "(-12650.033197766665, [('OBESITY_CrudePrev', 'Pop Density'), ('OBESITY_CrudePrev', 'label'), ('label', 'Pop Density'), ('label', 'Income')])\n",
      "(-12650.033197766665, [('Pop Density', 'label'), ('OBESITY_CrudePrev', 'Pop Density'), ('OBESITY_CrudePrev', 'label'), ('label', 'Income')])\n",
      "(-12650.033197766665, [('Pop Density', 'OBESITY_CrudePrev'), ('label', 'Pop Density'), ('label', 'OBESITY_CrudePrev'), ('Income', 'label')])\n",
      "(-12650.033197766665, [('OBESITY_CrudePrev', 'Pop Density'), ('label', 'Pop Density'), ('label', 'OBESITY_CrudePrev'), ('Income', 'label')])\n",
      "(-12651.511694973924, [('Pop Density', 'OBESITY_CrudePrev'), ('label', 'OBESITY_CrudePrev'), ('label', 'Income')])\n",
      "(-12651.511694973924, [('Pop Density', 'OBESITY_CrudePrev'), ('label', 'OBESITY_CrudePrev'), ('Income', 'label')])\n",
      "(-12651.545462542035, [('Pop Density', 'OBESITY_CrudePrev'), ('label', 'Pop Density')])\n",
      "(-12651.545462542035, [('Pop Density', 'OBESITY_CrudePrev'), ('Pop Density', 'label')])\n",
      "(-12651.545462542035, [('Pop Density', 'label'), ('OBESITY_CrudePrev', 'Pop Density')])\n",
      "(-12653.023959749295, [('Pop Density', 'OBESITY_CrudePrev')])\n",
      "(-12653.023959749295, [('OBESITY_CrudePrev', 'Pop Density')])\n",
      "(-12663.701745040784, [('OBESITY_CrudePrev', 'Pop Density'), ('label', 'OBESITY_CrudePrev'), ('Income', 'OBESITY_CrudePrev')])\n",
      "(-12725.966853222239, [('label', 'Pop Density'), ('label', 'Income'), ('Income', 'Pop Density'), ('Income', 'OBESITY_CrudePrev')])\n",
      "(-12725.966853222239, [('label', 'Pop Density'), ('Income', 'Pop Density'), ('Income', 'label'), ('Income', 'OBESITY_CrudePrev')])\n",
      "(-12725.966853222239, [('Pop Density', 'label'), ('Income', 'Pop Density'), ('Income', 'label'), ('Income', 'OBESITY_CrudePrev')])\n",
      "(-12725.96685322224, [('OBESITY_CrudePrev', 'Income'), ('label', 'Pop Density'), ('Income', 'Pop Density'), ('Income', 'label')])\n",
      "(-12725.96685322224, [('Pop Density', 'label'), ('OBESITY_CrudePrev', 'Income'), ('Income', 'Pop Density'), ('Income', 'label')])\n",
      "(-12725.96685322224, [('Pop Density', 'Income'), ('label', 'Pop Density'), ('label', 'Income'), ('Income', 'OBESITY_CrudePrev')])\n",
      "(-12725.96685322224, [('Pop Density', 'Income'), ('Pop Density', 'label'), ('label', 'Income'), ('Income', 'OBESITY_CrudePrev')])\n",
      "(-12725.96685322224, [('Pop Density', 'Income'), ('Pop Density', 'label'), ('Income', 'label'), ('Income', 'OBESITY_CrudePrev')])\n",
      "(-12727.445350429502, [('Pop Density', 'Income'), ('label', 'Income'), ('Income', 'OBESITY_CrudePrev')])\n",
      "(-12729.121884174634, [('label', 'Pop Density'), ('label', 'OBESITY_CrudePrev'), ('Income', 'Pop Density')])\n",
      "(-12729.121884174634, [('OBESITY_CrudePrev', 'label'), ('label', 'Pop Density'), ('Income', 'Pop Density')])\n",
      "(-12736.654001238381, [('Pop Density', 'label'), ('OBESITY_CrudePrev', 'label'), ('Income', 'Pop Density')])\n",
      "(-12736.654001238383, [('Pop Density', 'Income'), ('Pop Density', 'label'), ('OBESITY_CrudePrev', 'label')])\n",
      "(-12760.336439770268, [('Pop Density', 'OBESITY_CrudePrev'), ('Pop Density', 'label'), ('label', 'OBESITY_CrudePrev'), ('Income', 'Pop Density')])\n",
      "(-12760.336439770268, [('Pop Density', 'OBESITY_CrudePrev'), ('Pop Density', 'label'), ('OBESITY_CrudePrev', 'label'), ('Income', 'Pop Density')])\n",
      "(-12760.33643977027, [('Pop Density', 'OBESITY_CrudePrev'), ('Pop Density', 'Income'), ('label', 'Pop Density'), ('label', 'OBESITY_CrudePrev')])\n",
      "(-12760.33643977027, [('Pop Density', 'OBESITY_CrudePrev'), ('Pop Density', 'Income'), ('Pop Density', 'label'), ('label', 'OBESITY_CrudePrev')])\n",
      "(-12760.336439770272, [('Pop Density', 'OBESITY_CrudePrev'), ('Pop Density', 'Income'), ('Pop Density', 'label'), ('OBESITY_CrudePrev', 'label')])\n",
      "(-12760.336439770272, [('Pop Density', 'Income'), ('OBESITY_CrudePrev', 'Pop Density'), ('label', 'Pop Density'), ('label', 'OBESITY_CrudePrev')])\n",
      "(-12760.336439770272, [('Pop Density', 'Income'), ('OBESITY_CrudePrev', 'Pop Density'), ('OBESITY_CrudePrev', 'label'), ('label', 'Pop Density')])\n",
      "(-12760.336439770272, [('Pop Density', 'Income'), ('Pop Density', 'label'), ('OBESITY_CrudePrev', 'Pop Density'), ('OBESITY_CrudePrev', 'label')])\n",
      "(-12761.814936977531, [('Pop Density', 'OBESITY_CrudePrev'), ('Pop Density', 'Income'), ('label', 'OBESITY_CrudePrev')])\n",
      "(-12761.814936977531, [('Pop Density', 'OBESITY_CrudePrev'), ('label', 'OBESITY_CrudePrev'), ('Income', 'Pop Density')])\n",
      "(-12779.992978836641, [('Pop Density', 'Income'), ('OBESITY_CrudePrev', 'Income'), ('Income', 'label')])\n",
      "(-12784.722774153986, [('OBESITY_CrudePrev', 'label'), ('Income', 'Pop Density'), ('Income', 'label')])\n",
      "(-12784.72277415399, [('Pop Density', 'Income'), ('OBESITY_CrudePrev', 'label'), ('Income', 'label')])\n",
      "(-12793.028015542979, [('Pop Density', 'label'), ('Income', 'label'), ('Income', 'OBESITY_CrudePrev')])\n",
      "(-12793.028015542981, [('Pop Density', 'label'), ('OBESITY_CrudePrev', 'Income'), ('Income', 'label')])\n",
      "(-12803.675417368529, [('Pop Density', 'OBESITY_CrudePrev'), ('Pop Density', 'Income'), ('OBESITY_CrudePrev', 'Income'), ('Income', 'label')])\n",
      "(-12803.675417368529, [('Pop Density', 'Income'), ('OBESITY_CrudePrev', 'Pop Density'), ('OBESITY_CrudePrev', 'Income'), ('Income', 'label')])\n",
      "(-12803.675417368529, [('Pop Density', 'OBESITY_CrudePrev'), ('label', 'Income'), ('Income', 'Pop Density'), ('Income', 'OBESITY_CrudePrev')])\n",
      "(-12803.675417368529, [('OBESITY_CrudePrev', 'Pop Density'), ('label', 'Income'), ('Income', 'Pop Density'), ('Income', 'OBESITY_CrudePrev')])\n",
      "(-12803.675417368529, [('Pop Density', 'OBESITY_CrudePrev'), ('Income', 'Pop Density'), ('Income', 'label'), ('Income', 'OBESITY_CrudePrev')])\n",
      "(-12803.675417368529, [('OBESITY_CrudePrev', 'Pop Density'), ('Income', 'Pop Density'), ('Income', 'label'), ('Income', 'OBESITY_CrudePrev')])\n",
      "(-12803.675417368531, [('OBESITY_CrudePrev', 'Pop Density'), ('OBESITY_CrudePrev', 'Income'), ('Income', 'Pop Density'), ('Income', 'label')])\n",
      "(-12803.675417368531, [('Pop Density', 'OBESITY_CrudePrev'), ('Pop Density', 'Income'), ('Income', 'label'), ('Income', 'OBESITY_CrudePrev')])\n",
      "(-12803.715163559122, [('Pop Density', 'label'), ('OBESITY_CrudePrev', 'label')])\n",
      "(-12806.830448320925, [('OBESITY_CrudePrev', 'Pop Density'), ('label', 'OBESITY_CrudePrev'), ('Income', 'Pop Density')])\n",
      "(-12806.830448320925, [('OBESITY_CrudePrev', 'Pop Density'), ('OBESITY_CrudePrev', 'label'), ('Income', 'Pop Density')])\n",
      "(-12808.405212685877, [('Pop Density', 'OBESITY_CrudePrev'), ('OBESITY_CrudePrev', 'label'), ('Income', 'Pop Density'), ('Income', 'label')])\n",
      "(-12808.405212685879, [('Pop Density', 'OBESITY_CrudePrev'), ('Pop Density', 'Income'), ('OBESITY_CrudePrev', 'label'), ('Income', 'label')])\n",
      "(-12808.405212685879, [('Pop Density', 'Income'), ('OBESITY_CrudePrev', 'Pop Density'), ('OBESITY_CrudePrev', 'label'), ('Income', 'label')])\n",
      "(-12816.710454074866, [('Pop Density', 'label'), ('OBESITY_CrudePrev', 'Pop Density'), ('Income', 'label'), ('Income', 'OBESITY_CrudePrev')])\n",
      "(-12816.710454074868, [('Pop Density', 'OBESITY_CrudePrev'), ('Pop Density', 'label'), ('OBESITY_CrudePrev', 'Income'), ('Income', 'label')])\n",
      "(-12816.710454074868, [('Pop Density', 'label'), ('OBESITY_CrudePrev', 'Pop Density'), ('OBESITY_CrudePrev', 'Income'), ('Income', 'label')])\n",
      "(-12824.242571138613, [('OBESITY_CrudePrev', 'Pop Density'), ('label', 'Pop Density'), ('label', 'Income'), ('Income', 'OBESITY_CrudePrev')])\n",
      "(-12824.242571138613, [('OBESITY_CrudePrev', 'Pop Density'), ('label', 'Pop Density'), ('Income', 'label'), ('Income', 'OBESITY_CrudePrev')])\n",
      "(-12824.242571138615, [('OBESITY_CrudePrev', 'Pop Density'), ('OBESITY_CrudePrev', 'Income'), ('label', 'Pop Density'), ('Income', 'label')])\n",
      "(-12827.397602091009, [('Pop Density', 'OBESITY_CrudePrev'), ('label', 'Pop Density'), ('label', 'OBESITY_CrudePrev')])\n",
      "(-12827.397602091009, [('Pop Density', 'OBESITY_CrudePrev'), ('Pop Density', 'label'), ('label', 'OBESITY_CrudePrev')])\n",
      "(-12827.397602091009, [('Pop Density', 'OBESITY_CrudePrev'), ('Pop Density', 'label'), ('OBESITY_CrudePrev', 'label')])\n",
      "(-12827.397602091009, [('OBESITY_CrudePrev', 'Pop Density'), ('label', 'Pop Density'), ('label', 'OBESITY_CrudePrev')])\n",
      "(-12827.397602091009, [('OBESITY_CrudePrev', 'Pop Density'), ('OBESITY_CrudePrev', 'label'), ('label', 'Pop Density')])\n",
      "(-12827.397602091009, [('Pop Density', 'label'), ('OBESITY_CrudePrev', 'Pop Density'), ('OBESITY_CrudePrev', 'label')])\n",
      "(-12828.876099298268, [('Pop Density', 'OBESITY_CrudePrev'), ('label', 'OBESITY_CrudePrev')])\n",
      "(-12850.305439267464, [('OBESITY_CrudePrev', 'label'), ('label', 'Pop Density'), ('Income', 'label')])\n",
      "(-12851.783936474727, [('OBESITY_CrudePrev', 'label'), ('Income', 'label')])\n",
      "(-12869.258082482007, [('Pop Density', 'OBESITY_CrudePrev'), ('label', 'Pop Density'), ('label', 'Income'), ('Income', 'OBESITY_CrudePrev')])\n",
      "(-12869.258082482007, [('Pop Density', 'OBESITY_CrudePrev'), ('Pop Density', 'label'), ('label', 'Income'), ('Income', 'OBESITY_CrudePrev')])\n",
      "(-12869.258082482007, [('Pop Density', 'OBESITY_CrudePrev'), ('label', 'Pop Density'), ('Income', 'label'), ('Income', 'OBESITY_CrudePrev')])\n",
      "(-12870.73657968927, [('Pop Density', 'OBESITY_CrudePrev'), ('label', 'Income'), ('Income', 'OBESITY_CrudePrev')])\n",
      "(-12870.73657968927, [('Pop Density', 'OBESITY_CrudePrev'), ('Income', 'label'), ('Income', 'OBESITY_CrudePrev')])\n",
      "(-12875.466375006617, [('Pop Density', 'OBESITY_CrudePrev'), ('OBESITY_CrudePrev', 'label'), ('Income', 'label')])\n",
      "(-12875.466375006617, [('OBESITY_CrudePrev', 'Pop Density'), ('OBESITY_CrudePrev', 'label'), ('Income', 'label')])\n",
      "(-12903.331257546582, [('label', 'Pop Density'), ('Income', 'Pop Density'), ('Income', 'OBESITY_CrudePrev')])\n",
      "(-12903.331257546584, [('OBESITY_CrudePrev', 'Income'), ('label', 'Pop Density'), ('Income', 'Pop Density')])\n",
      "(-12955.878885953724, [('Pop Density', 'Income'), ('OBESITY_CrudePrev', 'Income'), ('label', 'Pop Density')])\n",
      "(-12955.878885953724, [('Pop Density', 'Income'), ('Pop Density', 'label'), ('OBESITY_CrudePrev', 'Income')])\n",
      "(-12957.357383160987, [('Pop Density', 'Income'), ('OBESITY_CrudePrev', 'Income')])\n",
      "(-12958.932147525937, [('OBESITY_CrudePrev', 'Income'), ('label', 'Income'), ('Income', 'Pop Density')])\n",
      "(-12979.56132448561, [('Pop Density', 'OBESITY_CrudePrev'), ('Pop Density', 'label'), ('Income', 'Pop Density'), ('Income', 'OBESITY_CrudePrev')])\n",
      "(-12979.561324485612, [('Pop Density', 'OBESITY_CrudePrev'), ('Pop Density', 'Income'), ('OBESITY_CrudePrev', 'Income'), ('label', 'Pop Density')])\n",
      "(-12979.561324485614, [('Pop Density', 'OBESITY_CrudePrev'), ('Pop Density', 'Income'), ('Pop Density', 'label'), ('OBESITY_CrudePrev', 'Income')])\n",
      "(-12979.561324485614, [('Pop Density', 'Income'), ('Pop Density', 'label'), ('OBESITY_CrudePrev', 'Pop Density'), ('OBESITY_CrudePrev', 'Income')])\n",
      "(-12979.561324485614, [('Pop Density', 'label'), ('OBESITY_CrudePrev', 'Pop Density'), ('OBESITY_CrudePrev', 'Income'), ('Income', 'Pop Density')])\n",
      "(-12979.561324485614, [('Pop Density', 'OBESITY_CrudePrev'), ('Pop Density', 'Income'), ('label', 'Pop Density'), ('Income', 'OBESITY_CrudePrev')])\n",
      "(-12979.561324485614, [('Pop Density', 'OBESITY_CrudePrev'), ('Pop Density', 'Income'), ('Pop Density', 'label'), ('Income', 'OBESITY_CrudePrev')])\n",
      "(-12979.561324485614, [('Pop Density', 'label'), ('OBESITY_CrudePrev', 'Pop Density'), ('Income', 'Pop Density'), ('Income', 'OBESITY_CrudePrev')])\n",
      "(-12981.039821692873, [('Pop Density', 'OBESITY_CrudePrev'), ('Pop Density', 'Income'), ('OBESITY_CrudePrev', 'Income')])\n",
      "(-12981.039821692873, [('Pop Density', 'Income'), ('OBESITY_CrudePrev', 'Pop Density'), ('OBESITY_CrudePrev', 'Income')])\n",
      "(-12981.039821692873, [('Pop Density', 'OBESITY_CrudePrev'), ('Income', 'Pop Density'), ('Income', 'OBESITY_CrudePrev')])\n",
      "(-12981.039821692873, [('OBESITY_CrudePrev', 'Pop Density'), ('Income', 'Pop Density'), ('Income', 'OBESITY_CrudePrev')])\n",
      "(-12981.039821692875, [('OBESITY_CrudePrev', 'Pop Density'), ('OBESITY_CrudePrev', 'Income'), ('Income', 'Pop Density')])\n",
      "(-12981.039821692875, [('Pop Density', 'OBESITY_CrudePrev'), ('Pop Density', 'Income'), ('Income', 'OBESITY_CrudePrev')])\n",
      "(-13001.606975462957, [('OBESITY_CrudePrev', 'Pop Density'), ('label', 'Pop Density'), ('Income', 'OBESITY_CrudePrev')])\n",
      "(-13001.606975462959, [('OBESITY_CrudePrev', 'Pop Density'), ('OBESITY_CrudePrev', 'Income'), ('label', 'Pop Density')])\n",
      "(-13024.514812639414, [('OBESITY_CrudePrev', 'Income'), ('label', 'Pop Density'), ('label', 'Income')])\n",
      "(-13024.514812639414, [('Pop Density', 'label'), ('OBESITY_CrudePrev', 'Income'), ('label', 'Income')])\n",
      "(-13025.993309846677, [('OBESITY_CrudePrev', 'Income'), ('label', 'Income')])\n",
      "(-13046.622486806351, [('Pop Density', 'OBESITY_CrudePrev'), ('label', 'Pop Density'), ('Income', 'OBESITY_CrudePrev')])\n",
      "(-13046.622486806351, [('Pop Density', 'OBESITY_CrudePrev'), ('Pop Density', 'label'), ('Income', 'OBESITY_CrudePrev')])\n",
      "(-13048.100984013614, [('Pop Density', 'OBESITY_CrudePrev'), ('Income', 'OBESITY_CrudePrev')])\n",
      "(-13048.197251171303, [('Pop Density', 'OBESITY_CrudePrev'), ('OBESITY_CrudePrev', 'Income'), ('label', 'Pop Density'), ('label', 'Income')])\n",
      "(-13048.197251171305, [('Pop Density', 'OBESITY_CrudePrev'), ('Pop Density', 'label'), ('OBESITY_CrudePrev', 'Income'), ('label', 'Income')])\n",
      "(-13048.197251171305, [('Pop Density', 'label'), ('OBESITY_CrudePrev', 'Pop Density'), ('OBESITY_CrudePrev', 'Income'), ('label', 'Income')])\n",
      "(-13049.675748378564, [('Pop Density', 'OBESITY_CrudePrev'), ('OBESITY_CrudePrev', 'Income'), ('label', 'Income')])\n",
      "(-13049.675748378564, [('OBESITY_CrudePrev', 'Pop Density'), ('OBESITY_CrudePrev', 'Income'), ('label', 'Income')])\n",
      "(-13115.095887512416, [('label', 'Pop Density'), ('label', 'Income'), ('Income', 'Pop Density')])\n",
      "(-13115.095887512416, [('label', 'Pop Density'), ('Income', 'Pop Density'), ('Income', 'label')])\n",
      "(-13115.095887512416, [('Pop Density', 'label'), ('Income', 'Pop Density'), ('Income', 'label')])\n",
      "(-13115.095887512418, [('Pop Density', 'Income'), ('label', 'Pop Density'), ('label', 'Income')])\n",
      "(-13115.095887512418, [('Pop Density', 'Income'), ('Pop Density', 'label'), ('label', 'Income')])\n",
      "(-13115.09588751242, [('Pop Density', 'Income'), ('Pop Density', 'label'), ('Income', 'label')])\n",
      "(-13116.574384719681, [('Pop Density', 'Income'), ('label', 'Income')])\n",
      "(-13125.773672803902, [('OBESITY_CrudePrev', 'label'), ('label', 'Pop Density'), ('Income', 'Pop Density'), ('Income', 'label'), ('Income', 'OBESITY_CrudePrev')])\n",
      "(-13125.773672803904, [('OBESITY_CrudePrev', 'Income'), ('label', 'Pop Density'), ('label', 'OBESITY_CrudePrev'), ('label', 'Income'), ('Income', 'Pop Density')])\n",
      "(-13125.773672803904, [('OBESITY_CrudePrev', 'Income'), ('OBESITY_CrudePrev', 'label'), ('label', 'Pop Density'), ('label', 'Income'), ('Income', 'Pop Density')])\n",
      "(-13125.773672803904, [('OBESITY_CrudePrev', 'Income'), ('OBESITY_CrudePrev', 'label'), ('label', 'Pop Density'), ('Income', 'Pop Density'), ('Income', 'label')])\n",
      "(-13125.773672803905, [('label', 'Pop Density'), ('label', 'OBESITY_CrudePrev'), ('label', 'Income'), ('Income', 'Pop Density'), ('Income', 'OBESITY_CrudePrev')])\n",
      "(-13125.773672803905, [('label', 'Pop Density'), ('label', 'OBESITY_CrudePrev'), ('Income', 'Pop Density'), ('Income', 'label'), ('Income', 'OBESITY_CrudePrev')])\n",
      "(-13125.773672803905, [('Pop Density', 'label'), ('label', 'OBESITY_CrudePrev'), ('Income', 'Pop Density'), ('Income', 'label'), ('Income', 'OBESITY_CrudePrev')])\n",
      "(-13125.773672803907, [('Pop Density', 'Income'), ('label', 'Pop Density'), ('label', 'OBESITY_CrudePrev'), ('label', 'Income'), ('Income', 'OBESITY_CrudePrev')])\n",
      "(-13125.773672803907, [('Pop Density', 'Income'), ('Pop Density', 'label'), ('label', 'OBESITY_CrudePrev'), ('label', 'Income'), ('Income', 'OBESITY_CrudePrev')])\n",
      "(-13125.773672803907, [('Pop Density', 'Income'), ('Pop Density', 'label'), ('label', 'OBESITY_CrudePrev'), ('Income', 'label'), ('Income', 'OBESITY_CrudePrev')])\n",
      "(-13127.252170011168, [('Pop Density', 'Income'), ('label', 'OBESITY_CrudePrev'), ('label', 'Income'), ('Income', 'OBESITY_CrudePrev')])\n",
      "(-13131.731025502699, [('Pop Density', 'Income'), ('Pop Density', 'label'), ('OBESITY_CrudePrev', 'Income'), ('OBESITY_CrudePrev', 'label')])\n",
      "(-13138.778326044307, [('Pop Density', 'OBESITY_CrudePrev'), ('Pop Density', 'Income'), ('label', 'Pop Density'), ('label', 'Income')])\n",
      "(-13138.778326044307, [('Pop Density', 'OBESITY_CrudePrev'), ('Pop Density', 'Income'), ('Pop Density', 'label'), ('Income', 'label')])\n",
      "(-13138.778326044307, [('Pop Density', 'Income'), ('Pop Density', 'label'), ('OBESITY_CrudePrev', 'Pop Density'), ('Income', 'label')])\n",
      "(-13138.778326044307, [('Pop Density', 'OBESITY_CrudePrev'), ('label', 'Pop Density'), ('label', 'Income'), ('Income', 'Pop Density')])\n",
      "(-13138.778326044307, [('Pop Density', 'OBESITY_CrudePrev'), ('label', 'Pop Density'), ('Income', 'Pop Density'), ('Income', 'label')])\n",
      "(-13138.778326044307, [('Pop Density', 'OBESITY_CrudePrev'), ('Pop Density', 'label'), ('Income', 'Pop Density'), ('Income', 'label')])\n",
      "(-13138.778326044308, [('Pop Density', 'OBESITY_CrudePrev'), ('Pop Density', 'Income'), ('Pop Density', 'label'), ('label', 'Income')])\n",
      "(-13138.778326044308, [('Pop Density', 'Income'), ('Pop Density', 'label'), ('OBESITY_CrudePrev', 'Pop Density'), ('label', 'Income')])\n",
      "(-13140.256823251568, [('Pop Density', 'OBESITY_CrudePrev'), ('Pop Density', 'Income'), ('label', 'Income')])\n",
      "(-13140.256823251568, [('Pop Density', 'Income'), ('OBESITY_CrudePrev', 'Pop Density'), ('label', 'Income')])\n",
      "(-13155.413464034586, [('Pop Density', 'OBESITY_CrudePrev'), ('Pop Density', 'Income'), ('OBESITY_CrudePrev', 'Income'), ('label', 'Pop Density'), ('label', 'OBESITY_CrudePrev')])\n",
      "(-13155.413464034586, [('Pop Density', 'OBESITY_CrudePrev'), ('Pop Density', 'Income'), ('Pop Density', 'label'), ('OBESITY_CrudePrev', 'Income'), ('label', 'OBESITY_CrudePrev')])\n",
      "(-13155.413464034587, [('Pop Density', 'OBESITY_CrudePrev'), ('Pop Density', 'Income'), ('Pop Density', 'label'), ('OBESITY_CrudePrev', 'Income'), ('OBESITY_CrudePrev', 'label')])\n",
      "(-13155.413464034587, [('Pop Density', 'Income'), ('OBESITY_CrudePrev', 'Pop Density'), ('OBESITY_CrudePrev', 'Income'), ('label', 'Pop Density'), ('label', 'OBESITY_CrudePrev')])\n",
      "(-13155.413464034587, [('Pop Density', 'Income'), ('OBESITY_CrudePrev', 'Pop Density'), ('OBESITY_CrudePrev', 'Income'), ('OBESITY_CrudePrev', 'label'), ('label', 'Pop Density')])\n",
      "(-13155.413464034587, [('Pop Density', 'Income'), ('Pop Density', 'label'), ('OBESITY_CrudePrev', 'Pop Density'), ('OBESITY_CrudePrev', 'Income'), ('OBESITY_CrudePrev', 'label')])\n",
      "(-13155.413464034587, [('Pop Density', 'label'), ('OBESITY_CrudePrev', 'Pop Density'), ('OBESITY_CrudePrev', 'Income'), ('OBESITY_CrudePrev', 'label'), ('Income', 'Pop Density')])\n",
      "(-13155.413464034587, [('Pop Density', 'OBESITY_CrudePrev'), ('Pop Density', 'Income'), ('Pop Density', 'label'), ('OBESITY_CrudePrev', 'label'), ('Income', 'OBESITY_CrudePrev')])\n",
      "(-13155.413464034587, [('Pop Density', 'OBESITY_CrudePrev'), ('Pop Density', 'label'), ('OBESITY_CrudePrev', 'label'), ('Income', 'Pop Density'), ('Income', 'OBESITY_CrudePrev')])\n",
      "(-13155.413464034587, [('Pop Density', 'label'), ('OBESITY_CrudePrev', 'Pop Density'), ('OBESITY_CrudePrev', 'label'), ('Income', 'Pop Density'), ('Income', 'OBESITY_CrudePrev')])\n",
      "(-13156.891961241847, [('Pop Density', 'OBESITY_CrudePrev'), ('Pop Density', 'Income'), ('OBESITY_CrudePrev', 'Income'), ('label', 'OBESITY_CrudePrev')])\n",
      "(-13179.799798418306, [('Pop Density', 'Income'), ('OBESITY_CrudePrev', 'Income'), ('OBESITY_CrudePrev', 'label'), ('Income', 'label')])\n",
      "(-13182.157049833157, [('Pop Density', 'label'), ('Income', 'label')])\n",
      "(-13192.804451658707, [('OBESITY_CrudePrev', 'Pop Density'), ('label', 'Income'), ('Income', 'Pop Density')])\n",
      "(-13192.804451658707, [('OBESITY_CrudePrev', 'Pop Density'), ('Income', 'Pop Density'), ('Income', 'label')])\n",
      "(-13192.834835124646, [('Pop Density', 'label'), ('label', 'OBESITY_CrudePrev'), ('Income', 'label'), ('Income', 'OBESITY_CrudePrev')])\n",
      "(-13200.366952188389, [('Pop Density', 'label'), ('OBESITY_CrudePrev', 'Income'), ('OBESITY_CrudePrev', 'label'), ('label', 'Income')])\n",
      "(-13203.482236950193, [('Pop Density', 'OBESITY_CrudePrev'), ('OBESITY_CrudePrev', 'label'), ('Income', 'Pop Density'), ('Income', 'label'), ('Income', 'OBESITY_CrudePrev')])\n",
      "(-13203.482236950193, [('OBESITY_CrudePrev', 'Pop Density'), ('OBESITY_CrudePrev', 'label'), ('Income', 'Pop Density'), ('Income', 'label'), ('Income', 'OBESITY_CrudePrev')])\n",
      "(-13203.482236950194, [('Pop Density', 'OBESITY_CrudePrev'), ('Pop Density', 'Income'), ('OBESITY_CrudePrev', 'Income'), ('OBESITY_CrudePrev', 'label'), ('Income', 'label')])\n",
      "(-13203.482236950194, [('Pop Density', 'Income'), ('OBESITY_CrudePrev', 'Pop Density'), ('OBESITY_CrudePrev', 'Income'), ('OBESITY_CrudePrev', 'label'), ('Income', 'label')])\n",
      "(-13203.482236950194, [('OBESITY_CrudePrev', 'Pop Density'), ('OBESITY_CrudePrev', 'Income'), ('label', 'OBESITY_CrudePrev'), ('label', 'Income'), ('Income', 'Pop Density')])\n",
      "(-13203.482236950194, [('OBESITY_CrudePrev', 'Pop Density'), ('OBESITY_CrudePrev', 'Income'), ('OBESITY_CrudePrev', 'label'), ('label', 'Income'), ('Income', 'Pop Density')])\n",
      "(-13203.482236950194, [('OBESITY_CrudePrev', 'Pop Density'), ('OBESITY_CrudePrev', 'Income'), ('OBESITY_CrudePrev', 'label'), ('Income', 'Pop Density'), ('Income', 'label')])\n",
      "(-13203.482236950196, [('Pop Density', 'OBESITY_CrudePrev'), ('Pop Density', 'Income'), ('OBESITY_CrudePrev', 'label'), ('Income', 'label'), ('Income', 'OBESITY_CrudePrev')])\n",
      "(-13203.482236950196, [('OBESITY_CrudePrev', 'Pop Density'), ('label', 'OBESITY_CrudePrev'), ('label', 'Income'), ('Income', 'Pop Density'), ('Income', 'OBESITY_CrudePrev')])\n",
      "(-13203.482236950196, [('OBESITY_CrudePrev', 'Pop Density'), ('label', 'OBESITY_CrudePrev'), ('Income', 'Pop Density'), ('Income', 'label'), ('Income', 'OBESITY_CrudePrev')])\n",
      "(-13205.839488365044, [('Pop Density', 'OBESITY_CrudePrev'), ('Pop Density', 'label'), ('Income', 'label')])\n",
      "(-13205.839488365044, [('Pop Density', 'label'), ('OBESITY_CrudePrev', 'Pop Density'), ('Income', 'label')])\n",
      "(-13213.371605428791, [('OBESITY_CrudePrev', 'Pop Density'), ('label', 'Pop Density'), ('label', 'Income')])\n",
      "(-13213.371605428791, [('OBESITY_CrudePrev', 'Pop Density'), ('label', 'Pop Density'), ('Income', 'label')])\n",
      "(-13222.474626355324, [('Pop Density', 'OBESITY_CrudePrev'), ('Pop Density', 'label'), ('OBESITY_CrudePrev', 'label'), ('Income', 'OBESITY_CrudePrev')])\n",
      "(-13224.049390720276, [('Pop Density', 'OBESITY_CrudePrev'), ('OBESITY_CrudePrev', 'Income'), ('label', 'Pop Density'), ('label', 'OBESITY_CrudePrev'), ('label', 'Income')])\n",
      "(-13224.049390720276, [('Pop Density', 'OBESITY_CrudePrev'), ('Pop Density', 'label'), ('OBESITY_CrudePrev', 'Income'), ('label', 'OBESITY_CrudePrev'), ('label', 'Income')])\n",
      "(-13224.049390720276, [('OBESITY_CrudePrev', 'Pop Density'), ('OBESITY_CrudePrev', 'label'), ('label', 'Pop Density'), ('Income', 'label'), ('Income', 'OBESITY_CrudePrev')])\n",
      "(-13224.049390720278, [('Pop Density', 'OBESITY_CrudePrev'), ('Pop Density', 'label'), ('OBESITY_CrudePrev', 'Income'), ('OBESITY_CrudePrev', 'label'), ('label', 'Income')])\n",
      "(-13224.049390720278, [('OBESITY_CrudePrev', 'Pop Density'), ('OBESITY_CrudePrev', 'Income'), ('label', 'Pop Density'), ('label', 'OBESITY_CrudePrev'), ('label', 'Income')])\n",
      "(-13224.049390720278, [('OBESITY_CrudePrev', 'Pop Density'), ('OBESITY_CrudePrev', 'Income'), ('OBESITY_CrudePrev', 'label'), ('label', 'Pop Density'), ('label', 'Income')])\n",
      "(-13224.049390720278, [('Pop Density', 'label'), ('OBESITY_CrudePrev', 'Pop Density'), ('OBESITY_CrudePrev', 'Income'), ('OBESITY_CrudePrev', 'label'), ('label', 'Income')])\n",
      "(-13224.049390720278, [('OBESITY_CrudePrev', 'Pop Density'), ('OBESITY_CrudePrev', 'Income'), ('OBESITY_CrudePrev', 'label'), ('label', 'Pop Density'), ('Income', 'label')])\n",
      "(-13224.04939072028, [('OBESITY_CrudePrev', 'Pop Density'), ('label', 'Pop Density'), ('label', 'OBESITY_CrudePrev'), ('label', 'Income'), ('Income', 'OBESITY_CrudePrev')])\n",
      "(-13224.04939072028, [('OBESITY_CrudePrev', 'Pop Density'), ('label', 'Pop Density'), ('label', 'OBESITY_CrudePrev'), ('Income', 'label'), ('Income', 'OBESITY_CrudePrev')])\n",
      "(-13225.527887927537, [('Pop Density', 'OBESITY_CrudePrev'), ('OBESITY_CrudePrev', 'Income'), ('label', 'OBESITY_CrudePrev'), ('label', 'Income')])\n",
      "(-13270.543399270933, [('Pop Density', 'OBESITY_CrudePrev'), ('OBESITY_CrudePrev', 'label'), ('Income', 'label'), ('Income', 'OBESITY_CrudePrev')])\n",
      "(-13290.948027061393, [('Pop Density', 'Income'), ('Pop Density', 'label'), ('OBESITY_CrudePrev', 'label'), ('label', 'Income')])\n",
      "(-13292.46029183676, [('label', 'Pop Density'), ('Income', 'Pop Density')])\n",
      "(-13303.138077128249, [('label', 'Pop Density'), ('label', 'OBESITY_CrudePrev'), ('Income', 'Pop Density'), ('Income', 'OBESITY_CrudePrev')])\n",
      "(-13314.63046559328, [('Pop Density', 'OBESITY_CrudePrev'), ('Pop Density', 'Income'), ('label', 'Pop Density'), ('label', 'OBESITY_CrudePrev'), ('label', 'Income')])\n",
      "(-13314.63046559328, [('Pop Density', 'OBESITY_CrudePrev'), ('Pop Density', 'Income'), ('Pop Density', 'label'), ('label', 'OBESITY_CrudePrev'), ('label', 'Income')])\n",
      "(-13314.63046559328, [('Pop Density', 'OBESITY_CrudePrev'), ('Pop Density', 'Income'), ('Pop Density', 'label'), ('label', 'OBESITY_CrudePrev'), ('Income', 'label')])\n",
      "(-13314.63046559328, [('Pop Density', 'OBESITY_CrudePrev'), ('label', 'Pop Density'), ('label', 'OBESITY_CrudePrev'), ('label', 'Income'), ('Income', 'Pop Density')])\n",
      "(-13314.63046559328, [('Pop Density', 'OBESITY_CrudePrev'), ('label', 'Pop Density'), ('label', 'OBESITY_CrudePrev'), ('Income', 'Pop Density'), ('Income', 'label')])\n",
      "(-13314.63046559328, [('Pop Density', 'OBESITY_CrudePrev'), ('Pop Density', 'label'), ('label', 'OBESITY_CrudePrev'), ('Income', 'Pop Density'), ('Income', 'label')])\n",
      "(-13314.630465593282, [('Pop Density', 'OBESITY_CrudePrev'), ('Pop Density', 'Income'), ('Pop Density', 'label'), ('OBESITY_CrudePrev', 'label'), ('label', 'Income')])\n",
      "(-13314.630465593282, [('Pop Density', 'Income'), ('OBESITY_CrudePrev', 'Pop Density'), ('label', 'Pop Density'), ('label', 'OBESITY_CrudePrev'), ('label', 'Income')])\n",
      "(-13314.630465593282, [('Pop Density', 'Income'), ('OBESITY_CrudePrev', 'Pop Density'), ('OBESITY_CrudePrev', 'label'), ('label', 'Pop Density'), ('label', 'Income')])\n",
      "(-13314.630465593282, [('Pop Density', 'Income'), ('Pop Density', 'label'), ('OBESITY_CrudePrev', 'Pop Density'), ('OBESITY_CrudePrev', 'label'), ('label', 'Income')])\n",
      "(-13316.108962800541, [('Pop Density', 'OBESITY_CrudePrev'), ('Pop Density', 'Income'), ('label', 'OBESITY_CrudePrev'), ('label', 'Income')])\n",
      "(-13316.142730368651, [('Pop Density', 'OBESITY_CrudePrev'), ('label', 'Pop Density'), ('Income', 'Pop Density')])\n",
      "(-13323.674847432398, [('Pop Density', 'Income'), ('OBESITY_CrudePrev', 'Pop Density'), ('label', 'Pop Density')])\n",
      "(-13368.690358775792, [('Pop Density', 'label'), ('OBESITY_CrudePrev', 'Pop Density'), ('Income', 'Pop Density')])\n",
      "(-13370.168855983051, [('OBESITY_CrudePrev', 'Pop Density'), ('Income', 'Pop Density')])\n",
      "(-13380.84664127454, [('OBESITY_CrudePrev', 'Pop Density'), ('label', 'OBESITY_CrudePrev'), ('Income', 'Pop Density'), ('Income', 'OBESITY_CrudePrev')])\n",
      "(-13381.691627914017, [('Pop Density', 'OBESITY_CrudePrev'), ('Pop Density', 'label'), ('label', 'OBESITY_CrudePrev'), ('Income', 'label')])\n",
      "(-13390.736009753135, [('OBESITY_CrudePrev', 'Pop Density'), ('label', 'Pop Density')])\n",
      "(-13401.413795044624, [('OBESITY_CrudePrev', 'Pop Density'), ('label', 'Pop Density'), ('label', 'OBESITY_CrudePrev'), ('Income', 'OBESITY_CrudePrev')])\n",
      "(-13491.994869917624, [('Pop Density', 'OBESITY_CrudePrev'), ('label', 'Pop Density'), ('label', 'OBESITY_CrudePrev'), ('Income', 'Pop Density')])\n",
      "(-13510.172911776735, [('Pop Density', 'Income'), ('Pop Density', 'label'), ('OBESITY_CrudePrev', 'Income'), ('Income', 'label')])\n",
      "(-13514.902707094079, [('OBESITY_CrudePrev', 'label'), ('label', 'Pop Density'), ('Income', 'Pop Density'), ('Income', 'label')])\n",
      "(-13533.855350308622, [('Pop Density', 'OBESITY_CrudePrev'), ('Pop Density', 'Income'), ('Pop Density', 'label'), ('OBESITY_CrudePrev', 'Income'), ('Income', 'label')])\n",
      "(-13533.855350308622, [('Pop Density', 'Income'), ('Pop Density', 'label'), ('OBESITY_CrudePrev', 'Pop Density'), ('OBESITY_CrudePrev', 'Income'), ('Income', 'label')])\n",
      "(-13533.855350308622, [('Pop Density', 'OBESITY_CrudePrev'), ('label', 'Pop Density'), ('label', 'Income'), ('Income', 'Pop Density'), ('Income', 'OBESITY_CrudePrev')])\n",
      "(-13533.855350308622, [('Pop Density', 'OBESITY_CrudePrev'), ('label', 'Pop Density'), ('Income', 'Pop Density'), ('Income', 'label'), ('Income', 'OBESITY_CrudePrev')])\n",
      "(-13533.855350308622, [('Pop Density', 'OBESITY_CrudePrev'), ('Pop Density', 'label'), ('Income', 'Pop Density'), ('Income', 'label'), ('Income', 'OBESITY_CrudePrev')])\n",
      "(-13533.855350308622, [('Pop Density', 'label'), ('OBESITY_CrudePrev', 'Pop Density'), ('Income', 'Pop Density'), ('Income', 'label'), ('Income', 'OBESITY_CrudePrev')])\n",
      "(-13533.855350308624, [('Pop Density', 'label'), ('OBESITY_CrudePrev', 'Pop Density'), ('OBESITY_CrudePrev', 'Income'), ('Income', 'Pop Density'), ('Income', 'label')])\n",
      "(-13533.855350308624, [('Pop Density', 'OBESITY_CrudePrev'), ('Pop Density', 'Income'), ('label', 'Pop Density'), ('label', 'Income'), ('Income', 'OBESITY_CrudePrev')])\n",
      "(-13533.855350308624, [('Pop Density', 'OBESITY_CrudePrev'), ('Pop Density', 'Income'), ('Pop Density', 'label'), ('label', 'Income'), ('Income', 'OBESITY_CrudePrev')])\n",
      "(-13533.855350308624, [('Pop Density', 'OBESITY_CrudePrev'), ('Pop Density', 'Income'), ('Pop Density', 'label'), ('Income', 'label'), ('Income', 'OBESITY_CrudePrev')])\n",
      "(-13535.333847515885, [('Pop Density', 'OBESITY_CrudePrev'), ('Pop Density', 'Income'), ('label', 'Income'), ('Income', 'OBESITY_CrudePrev')])\n",
      "(-13544.542498324765, [('Pop Density', 'label'), ('OBESITY_CrudePrev', 'Pop Density'), ('OBESITY_CrudePrev', 'label'), ('Income', 'Pop Density')])\n",
      "(-13592.61127124037, [('OBESITY_CrudePrev', 'Pop Density'), ('OBESITY_CrudePrev', 'label'), ('Income', 'Pop Density'), ('Income', 'label')])\n",
      "(-13600.916512629363, [('Pop Density', 'OBESITY_CrudePrev'), ('Pop Density', 'label'), ('Income', 'label'), ('Income', 'OBESITY_CrudePrev')])\n",
      "(-13613.178425010454, [('OBESITY_CrudePrev', 'Pop Density'), ('OBESITY_CrudePrev', 'label'), ('label', 'Pop Density'), ('Income', 'label')])\n",
      "(-13689.11208046603, [('OBESITY_CrudePrev', 'Income'), ('label', 'Pop Density'), ('label', 'Income'), ('Income', 'Pop Density')])\n",
      "(-13711.219754632966, [('Pop Density', 'OBESITY_CrudePrev'), ('label', 'Pop Density'), ('Income', 'Pop Density'), ('Income', 'OBESITY_CrudePrev')])\n",
      "(-13718.751871696713, [('Pop Density', 'Income'), ('OBESITY_CrudePrev', 'Pop Density'), ('OBESITY_CrudePrev', 'Income'), ('label', 'Pop Density')])\n",
      "(-13766.82064461232, [('OBESITY_CrudePrev', 'Pop Density'), ('OBESITY_CrudePrev', 'Income'), ('label', 'Income'), ('Income', 'Pop Density')])\n",
      "(-13787.387798382404, [('OBESITY_CrudePrev', 'Pop Density'), ('OBESITY_CrudePrev', 'Income'), ('label', 'Pop Density'), ('label', 'Income')])\n",
      "(-13877.968873255408, [('Pop Density', 'Income'), ('OBESITY_CrudePrev', 'Pop Density'), ('label', 'Pop Density'), ('label', 'Income')])\n",
      "(-13922.9843845988, [('Pop Density', 'label'), ('OBESITY_CrudePrev', 'Pop Density'), ('Income', 'Pop Density'), ('Income', 'label')])\n",
      "(-18847.726851376134, [('Pop Density', 'Income'), ('Pop Density', 'label'), ('OBESITY_CrudePrev', 'label'), ('Income', 'label'), ('Income', 'OBESITY_CrudePrev')])\n",
      "(-18847.726851376134, [('Pop Density', 'label'), ('OBESITY_CrudePrev', 'label'), ('Income', 'Pop Density'), ('Income', 'label'), ('Income', 'OBESITY_CrudePrev')])\n",
      "(-18847.726851376137, [('Pop Density', 'label'), ('OBESITY_CrudePrev', 'Income'), ('OBESITY_CrudePrev', 'label'), ('Income', 'Pop Density'), ('Income', 'label')])\n",
      "(-18869.834525543069, [('OBESITY_CrudePrev', 'Pop Density'), ('OBESITY_CrudePrev', 'Income'), ('label', 'Pop Density'), ('label', 'OBESITY_CrudePrev'), ('Income', 'Pop Density')])\n",
      "(-18869.834525543069, [('OBESITY_CrudePrev', 'Pop Density'), ('OBESITY_CrudePrev', 'Income'), ('OBESITY_CrudePrev', 'label'), ('label', 'Pop Density'), ('Income', 'Pop Density')])\n",
      "(-18869.834525543069, [('OBESITY_CrudePrev', 'Pop Density'), ('OBESITY_CrudePrev', 'label'), ('label', 'Pop Density'), ('Income', 'Pop Density'), ('Income', 'OBESITY_CrudePrev')])\n",
      "(-18892.742362719528, [('Pop Density', 'Income'), ('OBESITY_CrudePrev', 'Income'), ('label', 'Pop Density'), ('label', 'OBESITY_CrudePrev'), ('label', 'Income')])\n",
      "(-18892.742362719528, [('Pop Density', 'Income'), ('Pop Density', 'label'), ('OBESITY_CrudePrev', 'Income'), ('label', 'OBESITY_CrudePrev'), ('label', 'Income')])\n",
      "(-18892.742362719528, [('Pop Density', 'Income'), ('OBESITY_CrudePrev', 'Income'), ('OBESITY_CrudePrev', 'label'), ('label', 'Pop Density'), ('label', 'Income')])\n",
      "(-18894.220859926791, [('Pop Density', 'Income'), ('OBESITY_CrudePrev', 'Income'), ('label', 'OBESITY_CrudePrev'), ('label', 'Income')])\n",
      "(-18894.220859926791, [('Pop Density', 'Income'), ('OBESITY_CrudePrev', 'Income'), ('OBESITY_CrudePrev', 'label'), ('label', 'Income')])\n",
      "(-18914.788013696874, [('Pop Density', 'label'), ('OBESITY_CrudePrev', 'Income'), ('OBESITY_CrudePrev', 'label'), ('Income', 'label')])\n",
      "(-18914.788013696874, [('Pop Density', 'label'), ('OBESITY_CrudePrev', 'label'), ('Income', 'label'), ('Income', 'OBESITY_CrudePrev')])\n",
      "(-18917.903298458677, [('Pop Density', 'Income'), ('OBESITY_CrudePrev', 'Pop Density'), ('OBESITY_CrudePrev', 'Income'), ('label', 'OBESITY_CrudePrev'), ('label', 'Income')])\n",
      "(-18917.903298458681, [('Pop Density', 'OBESITY_CrudePrev'), ('Pop Density', 'Income'), ('OBESITY_CrudePrev', 'Income'), ('OBESITY_CrudePrev', 'label'), ('label', 'Income')])\n",
      "(-18917.903298458681, [('Pop Density', 'Income'), ('OBESITY_CrudePrev', 'Pop Density'), ('OBESITY_CrudePrev', 'Income'), ('OBESITY_CrudePrev', 'label'), ('label', 'Income')])\n",
      "(-18925.435415522425, [('Pop Density', 'OBESITY_CrudePrev'), ('label', 'OBESITY_CrudePrev'), ('label', 'Income'), ('Income', 'Pop Density'), ('Income', 'OBESITY_CrudePrev')])\n",
      "(-18925.435415522425, [('Pop Density', 'OBESITY_CrudePrev'), ('label', 'OBESITY_CrudePrev'), ('Income', 'Pop Density'), ('Income', 'label'), ('Income', 'OBESITY_CrudePrev')])\n",
      "(-18925.435415522428, [('Pop Density', 'OBESITY_CrudePrev'), ('Pop Density', 'Income'), ('label', 'OBESITY_CrudePrev'), ('Income', 'label'), ('Income', 'OBESITY_CrudePrev')])\n",
      "(-18938.470452228761, [('Pop Density', 'label'), ('OBESITY_CrudePrev', 'Pop Density'), ('OBESITY_CrudePrev', 'label'), ('Income', 'label'), ('Income', 'OBESITY_CrudePrev')])\n",
      "(-18938.470452228765, [('Pop Density', 'OBESITY_CrudePrev'), ('Pop Density', 'label'), ('OBESITY_CrudePrev', 'Income'), ('OBESITY_CrudePrev', 'label'), ('Income', 'label')])\n",
      "(-18938.470452228765, [('Pop Density', 'label'), ('OBESITY_CrudePrev', 'Pop Density'), ('OBESITY_CrudePrev', 'Income'), ('OBESITY_CrudePrev', 'label'), ('Income', 'label')])\n",
      "(-18991.018080635902, [('Pop Density', 'OBESITY_CrudePrev'), ('label', 'Pop Density'), ('label', 'OBESITY_CrudePrev'), ('label', 'Income'), ('Income', 'OBESITY_CrudePrev')])\n",
      "(-18991.018080635902, [('Pop Density', 'OBESITY_CrudePrev'), ('Pop Density', 'label'), ('label', 'OBESITY_CrudePrev'), ('label', 'Income'), ('Income', 'OBESITY_CrudePrev')])\n",
      "(-18991.018080635906, [('Pop Density', 'OBESITY_CrudePrev'), ('label', 'Pop Density'), ('label', 'OBESITY_CrudePrev'), ('Income', 'label'), ('Income', 'OBESITY_CrudePrev')])\n",
      "(-18992.496577843165, [('Pop Density', 'OBESITY_CrudePrev'), ('label', 'OBESITY_CrudePrev'), ('label', 'Income'), ('Income', 'OBESITY_CrudePrev')])\n",
      "(-18992.496577843165, [('Pop Density', 'OBESITY_CrudePrev'), ('label', 'OBESITY_CrudePrev'), ('Income', 'label'), ('Income', 'OBESITY_CrudePrev')])\n",
      "(-19081.599155508902, [('OBESITY_CrudePrev', 'Pop Density'), ('label', 'Pop Density'), ('label', 'OBESITY_CrudePrev'), ('label', 'Income'), ('Income', 'Pop Density')])\n",
      "(-19081.599155508902, [('OBESITY_CrudePrev', 'Pop Density'), ('OBESITY_CrudePrev', 'label'), ('label', 'Pop Density'), ('label', 'Income'), ('Income', 'Pop Density')])\n",
      "(-19081.599155508902, [('OBESITY_CrudePrev', 'Pop Density'), ('label', 'Pop Density'), ('label', 'OBESITY_CrudePrev'), ('Income', 'Pop Density'), ('Income', 'label')])\n",
      "(-19101.321322639509, [('Pop Density', 'OBESITY_CrudePrev'), ('Pop Density', 'Income'), ('label', 'Pop Density'), ('label', 'OBESITY_CrudePrev'), ('Income', 'OBESITY_CrudePrev')])\n",
      "(-19101.321322639509, [('Pop Density', 'OBESITY_CrudePrev'), ('Pop Density', 'Income'), ('Pop Density', 'label'), ('label', 'OBESITY_CrudePrev'), ('Income', 'OBESITY_CrudePrev')])\n",
      "(-19101.321322639509, [('Pop Density', 'OBESITY_CrudePrev'), ('Pop Density', 'label'), ('label', 'OBESITY_CrudePrev'), ('Income', 'Pop Density'), ('Income', 'OBESITY_CrudePrev')])\n",
      "(-19102.799819846769, [('Pop Density', 'OBESITY_CrudePrev'), ('label', 'OBESITY_CrudePrev'), ('Income', 'Pop Density'), ('Income', 'OBESITY_CrudePrev')])\n",
      "(-19102.799819846772, [('Pop Density', 'OBESITY_CrudePrev'), ('Pop Density', 'Income'), ('label', 'OBESITY_CrudePrev'), ('Income', 'OBESITY_CrudePrev')])\n",
      "(-19168.382484960246, [('Pop Density', 'OBESITY_CrudePrev'), ('label', 'Pop Density'), ('label', 'OBESITY_CrudePrev'), ('Income', 'OBESITY_CrudePrev')])\n",
      "(-19168.382484960246, [('Pop Density', 'OBESITY_CrudePrev'), ('Pop Density', 'label'), ('label', 'OBESITY_CrudePrev'), ('Income', 'OBESITY_CrudePrev')])\n",
      "(-19169.860982167509, [('Pop Density', 'OBESITY_CrudePrev'), ('label', 'OBESITY_CrudePrev'), ('Income', 'OBESITY_CrudePrev')])\n",
      "(-19236.855885666311, [('Pop Density', 'label'), ('OBESITY_CrudePrev', 'label'), ('Income', 'Pop Density'), ('Income', 'label')])\n",
      "(-19236.855885666315, [('Pop Density', 'Income'), ('Pop Density', 'label'), ('OBESITY_CrudePrev', 'label'), ('Income', 'label')])\n",
      "(-19255.808528880851, [('OBESITY_CrudePrev', 'Pop Density'), ('OBESITY_CrudePrev', 'Income'), ('label', 'Pop Density'), ('Income', 'Pop Density'), ('Income', 'label')])\n",
      "(-19255.808528880851, [('OBESITY_CrudePrev', 'Pop Density'), ('label', 'Pop Density'), ('label', 'Income'), ('Income', 'Pop Density'), ('Income', 'OBESITY_CrudePrev')])\n",
      "(-19255.808528880851, [('OBESITY_CrudePrev', 'Pop Density'), ('label', 'Pop Density'), ('Income', 'Pop Density'), ('Income', 'label'), ('Income', 'OBESITY_CrudePrev')])\n",
      "(-19258.963559833246, [('OBESITY_CrudePrev', 'Pop Density'), ('label', 'Pop Density'), ('label', 'OBESITY_CrudePrev'), ('Income', 'Pop Density')])\n",
      "(-19258.963559833246, [('OBESITY_CrudePrev', 'Pop Density'), ('OBESITY_CrudePrev', 'label'), ('label', 'Pop Density'), ('Income', 'Pop Density')])\n",
      "(-19260.538324198198, [('Pop Density', 'OBESITY_CrudePrev'), ('Pop Density', 'label'), ('OBESITY_CrudePrev', 'label'), ('Income', 'Pop Density'), ('Income', 'label')])\n",
      "(-19260.538324198202, [('Pop Density', 'OBESITY_CrudePrev'), ('Pop Density', 'Income'), ('Pop Density', 'label'), ('OBESITY_CrudePrev', 'label'), ('Income', 'label')])\n",
      "(-19260.538324198202, [('Pop Density', 'Income'), ('Pop Density', 'label'), ('OBESITY_CrudePrev', 'Pop Density'), ('OBESITY_CrudePrev', 'label'), ('Income', 'label')])\n",
      "(-19303.917047987052, [('Pop Density', 'label'), ('OBESITY_CrudePrev', 'label'), ('Income', 'label')])\n",
      "(-19327.599486518939, [('Pop Density', 'OBESITY_CrudePrev'), ('Pop Density', 'label'), ('OBESITY_CrudePrev', 'label'), ('Income', 'label')])\n",
      "(-19327.599486518939, [('Pop Density', 'label'), ('OBESITY_CrudePrev', 'Pop Density'), ('OBESITY_CrudePrev', 'label'), ('Income', 'label')])\n",
      "(-19433.172933205195, [('OBESITY_CrudePrev', 'Pop Density'), ('label', 'Pop Density'), ('Income', 'Pop Density'), ('Income', 'OBESITY_CrudePrev')])\n",
      "(-19433.172933205198, [('OBESITY_CrudePrev', 'Pop Density'), ('OBESITY_CrudePrev', 'Income'), ('label', 'Pop Density'), ('Income', 'Pop Density')])\n",
      "(-19456.080770381654, [('Pop Density', 'Income'), ('OBESITY_CrudePrev', 'Income'), ('label', 'Pop Density'), ('label', 'Income')])\n",
      "(-19456.080770381654, [('Pop Density', 'Income'), ('Pop Density', 'label'), ('OBESITY_CrudePrev', 'Income'), ('label', 'Income')])\n",
      "(-19457.559267588917, [('Pop Density', 'Income'), ('OBESITY_CrudePrev', 'Income'), ('label', 'Income')])\n",
      "(-19479.763208913544, [('Pop Density', 'OBESITY_CrudePrev'), ('Pop Density', 'Income'), ('OBESITY_CrudePrev', 'Income'), ('label', 'Pop Density'), ('label', 'Income')])\n",
      "(-19479.763208913544, [('Pop Density', 'OBESITY_CrudePrev'), ('Pop Density', 'Income'), ('Pop Density', 'label'), ('OBESITY_CrudePrev', 'Income'), ('label', 'Income')])\n",
      "(-19479.763208913544, [('Pop Density', 'Income'), ('Pop Density', 'label'), ('OBESITY_CrudePrev', 'Pop Density'), ('OBESITY_CrudePrev', 'Income'), ('label', 'Income')])\n",
      "(-19481.241706120803, [('Pop Density', 'OBESITY_CrudePrev'), ('Pop Density', 'Income'), ('OBESITY_CrudePrev', 'Income'), ('label', 'Income')])\n",
      "(-19481.241706120803, [('Pop Density', 'Income'), ('OBESITY_CrudePrev', 'Pop Density'), ('OBESITY_CrudePrev', 'Income'), ('label', 'Income')])\n",
      "(-19631.932909930627, [('Pop Density', 'Income'), ('Pop Density', 'label'), ('OBESITY_CrudePrev', 'Income'), ('OBESITY_CrudePrev', 'label'), ('label', 'Income')])\n",
      "(-19631.932909930631, [('Pop Density', 'Income'), ('Pop Density', 'label'), ('OBESITY_CrudePrev', 'Income'), ('OBESITY_CrudePrev', 'label'), ('Income', 'label')])\n",
      "(-19644.937563171028, [('OBESITY_CrudePrev', 'Pop Density'), ('label', 'Pop Density'), ('label', 'Income'), ('Income', 'Pop Density')])\n",
      "(-19644.937563171028, [('OBESITY_CrudePrev', 'Pop Density'), ('label', 'Pop Density'), ('Income', 'Pop Density'), ('Income', 'label')])\n",
      "(-19655.615348462514, [('OBESITY_CrudePrev', 'Pop Density'), ('OBESITY_CrudePrev', 'label'), ('label', 'Pop Density'), ('Income', 'Pop Density'), ('Income', 'label'), ('Income', 'OBESITY_CrudePrev')])\n",
      "(-19655.615348462517, [('Pop Density', 'OBESITY_CrudePrev'), ('Pop Density', 'Income'), ('OBESITY_CrudePrev', 'Income'), ('label', 'Pop Density'), ('label', 'OBESITY_CrudePrev'), ('label', 'Income')])\n",
      "(-19655.615348462517, [('Pop Density', 'OBESITY_CrudePrev'), ('Pop Density', 'Income'), ('Pop Density', 'label'), ('OBESITY_CrudePrev', 'Income'), ('label', 'OBESITY_CrudePrev'), ('label', 'Income')])\n",
      "(-19655.615348462517, [('Pop Density', 'OBESITY_CrudePrev'), ('Pop Density', 'Income'), ('Pop Density', 'label'), ('OBESITY_CrudePrev', 'Income'), ('OBESITY_CrudePrev', 'label'), ('label', 'Income')])\n",
      "(-19655.615348462517, [('Pop Density', 'Income'), ('OBESITY_CrudePrev', 'Pop Density'), ('OBESITY_CrudePrev', 'Income'), ('label', 'Pop Density'), ('label', 'OBESITY_CrudePrev'), ('label', 'Income')])\n",
      "(-19655.615348462517, [('Pop Density', 'Income'), ('OBESITY_CrudePrev', 'Pop Density'), ('OBESITY_CrudePrev', 'Income'), ('OBESITY_CrudePrev', 'label'), ('label', 'Pop Density'), ('label', 'Income')])\n",
      "(-19655.615348462517, [('Pop Density', 'Income'), ('Pop Density', 'label'), ('OBESITY_CrudePrev', 'Pop Density'), ('OBESITY_CrudePrev', 'Income'), ('OBESITY_CrudePrev', 'label'), ('label', 'Income')])\n",
      "(-19655.615348462517, [('Pop Density', 'OBESITY_CrudePrev'), ('Pop Density', 'Income'), ('Pop Density', 'label'), ('OBESITY_CrudePrev', 'Income'), ('OBESITY_CrudePrev', 'label'), ('Income', 'label')])\n",
      "(-19655.615348462517, [('Pop Density', 'Income'), ('Pop Density', 'label'), ('OBESITY_CrudePrev', 'Pop Density'), ('OBESITY_CrudePrev', 'Income'), ('OBESITY_CrudePrev', 'label'), ('Income', 'label')])\n",
      "(-19655.615348462517, [('OBESITY_CrudePrev', 'Pop Density'), ('OBESITY_CrudePrev', 'Income'), ('label', 'Pop Density'), ('label', 'OBESITY_CrudePrev'), ('label', 'Income'), ('Income', 'Pop Density')])\n",
      "(-19655.615348462517, [('OBESITY_CrudePrev', 'Pop Density'), ('OBESITY_CrudePrev', 'Income'), ('OBESITY_CrudePrev', 'label'), ('label', 'Pop Density'), ('label', 'Income'), ('Income', 'Pop Density')])\n",
      "(-19655.615348462517, [('OBESITY_CrudePrev', 'Pop Density'), ('OBESITY_CrudePrev', 'Income'), ('OBESITY_CrudePrev', 'label'), ('label', 'Pop Density'), ('Income', 'Pop Density'), ('Income', 'label')])\n",
      "(-19655.615348462517, [('Pop Density', 'label'), ('OBESITY_CrudePrev', 'Pop Density'), ('OBESITY_CrudePrev', 'Income'), ('OBESITY_CrudePrev', 'label'), ('Income', 'Pop Density'), ('Income', 'label')])\n",
      "(-19655.615348462517, [('Pop Density', 'OBESITY_CrudePrev'), ('Pop Density', 'Income'), ('label', 'Pop Density'), ('label', 'OBESITY_CrudePrev'), ('label', 'Income'), ('Income', 'OBESITY_CrudePrev')])\n",
      "(-19655.615348462517, [('Pop Density', 'OBESITY_CrudePrev'), ('Pop Density', 'Income'), ('Pop Density', 'label'), ('label', 'OBESITY_CrudePrev'), ('label', 'Income'), ('Income', 'OBESITY_CrudePrev')])\n",
      "(-19655.615348462517, [('Pop Density', 'OBESITY_CrudePrev'), ('Pop Density', 'Income'), ('Pop Density', 'label'), ('OBESITY_CrudePrev', 'label'), ('Income', 'label'), ('Income', 'OBESITY_CrudePrev')])\n",
      "(-19655.615348462517, [('OBESITY_CrudePrev', 'Pop Density'), ('label', 'Pop Density'), ('label', 'OBESITY_CrudePrev'), ('label', 'Income'), ('Income', 'Pop Density'), ('Income', 'OBESITY_CrudePrev')])\n",
      "(-19655.615348462517, [('Pop Density', 'OBESITY_CrudePrev'), ('label', 'Pop Density'), ('label', 'OBESITY_CrudePrev'), ('Income', 'Pop Density'), ('Income', 'label'), ('Income', 'OBESITY_CrudePrev')])\n",
      "(-19655.615348462517, [('Pop Density', 'OBESITY_CrudePrev'), ('Pop Density', 'label'), ('label', 'OBESITY_CrudePrev'), ('Income', 'Pop Density'), ('Income', 'label'), ('Income', 'OBESITY_CrudePrev')])\n",
      "(-19655.615348462517, [('Pop Density', 'OBESITY_CrudePrev'), ('Pop Density', 'label'), ('OBESITY_CrudePrev', 'label'), ('Income', 'Pop Density'), ('Income', 'label'), ('Income', 'OBESITY_CrudePrev')])\n",
      "(-19655.615348462517, [('OBESITY_CrudePrev', 'Pop Density'), ('label', 'Pop Density'), ('label', 'OBESITY_CrudePrev'), ('Income', 'Pop Density'), ('Income', 'label'), ('Income', 'OBESITY_CrudePrev')])\n",
      "(-19655.615348462517, [('Pop Density', 'label'), ('OBESITY_CrudePrev', 'Pop Density'), ('OBESITY_CrudePrev', 'label'), ('Income', 'Pop Density'), ('Income', 'label'), ('Income', 'OBESITY_CrudePrev')])\n",
      "(-19655.615348462521, [('Pop Density', 'OBESITY_CrudePrev'), ('Pop Density', 'Income'), ('Pop Density', 'label'), ('label', 'OBESITY_CrudePrev'), ('Income', 'label'), ('Income', 'OBESITY_CrudePrev')])\n",
      "(-19655.615348462521, [('Pop Density', 'OBESITY_CrudePrev'), ('label', 'Pop Density'), ('label', 'OBESITY_CrudePrev'), ('label', 'Income'), ('Income', 'Pop Density'), ('Income', 'OBESITY_CrudePrev')])\n",
      "(-19657.093845669777, [('Pop Density', 'OBESITY_CrudePrev'), ('Pop Density', 'Income'), ('OBESITY_CrudePrev', 'Income'), ('label', 'OBESITY_CrudePrev'), ('label', 'Income')])\n",
      "(-19657.093845669784, [('Pop Density', 'OBESITY_CrudePrev'), ('Pop Density', 'Income'), ('label', 'OBESITY_CrudePrev'), ('label', 'Income'), ('Income', 'OBESITY_CrudePrev')])\n",
      "(-19722.676510783254, [('Pop Density', 'OBESITY_CrudePrev'), ('Pop Density', 'label'), ('OBESITY_CrudePrev', 'label'), ('Income', 'label'), ('Income', 'OBESITY_CrudePrev')])\n",
      "(-19722.676510783258, [('Pop Density', 'OBESITY_CrudePrev'), ('Pop Density', 'label'), ('label', 'OBESITY_CrudePrev'), ('Income', 'label'), ('Income', 'OBESITY_CrudePrev')])\n",
      "(-19822.301967495372, [('OBESITY_CrudePrev', 'Pop Density'), ('label', 'Pop Density'), ('Income', 'Pop Density')])\n",
      "(-19832.979752786861, [('OBESITY_CrudePrev', 'Pop Density'), ('label', 'Pop Density'), ('label', 'OBESITY_CrudePrev'), ('Income', 'Pop Density'), ('Income', 'OBESITY_CrudePrev')])\n",
      "(-19832.979752786865, [('Pop Density', 'OBESITY_CrudePrev'), ('label', 'Pop Density'), ('label', 'OBESITY_CrudePrev'), ('Income', 'Pop Density'), ('Income', 'OBESITY_CrudePrev')])\n",
      "(-20044.744382752691, [('OBESITY_CrudePrev', 'Pop Density'), ('OBESITY_CrudePrev', 'label'), ('label', 'Pop Density'), ('Income', 'Pop Density'), ('Income', 'label')])\n",
      "(-20044.744382752695, [('Pop Density', 'label'), ('OBESITY_CrudePrev', 'Pop Density'), ('OBESITY_CrudePrev', 'label'), ('Income', 'Pop Density'), ('Income', 'label')])\n",
      "(-20218.95375612464, [('OBESITY_CrudePrev', 'Pop Density'), ('OBESITY_CrudePrev', 'Income'), ('label', 'Pop Density'), ('label', 'Income'), ('Income', 'Pop Density')])\n",
      "(-20218.953756124643, [('Pop Density', 'Income'), ('OBESITY_CrudePrev', 'Pop Density'), ('OBESITY_CrudePrev', 'Income'), ('label', 'Pop Density'), ('label', 'Income')])\n"
     ]
    }
   ],
   "source": [
    "from pgmpy.estimators import ExhaustiveSearch\n",
    "\n",
    "bic = BicScore(X1)\n",
    "# Note: exhaustive search will be terribly expensive for more than a few variables\n",
    "es = ExhaustiveSearch(X1, scoring_method=bic)\n",
    "best_model = es.estimate()\n",
    "print(best_model.edges())\n",
    "\n",
    "print(\"\\nAll DAGs by score:\")\n",
    "for score, dag in reversed(es.all_scores()):\n",
    "    print(score, dag.edges())"
   ]
  },
  {
   "cell_type": "code",
   "execution_count": null,
   "metadata": {},
   "outputs": [],
   "source": []
  },
  {
   "cell_type": "code",
   "execution_count": null,
   "metadata": {},
   "outputs": [],
   "source": []
  },
  {
   "cell_type": "code",
   "execution_count": 52,
   "metadata": {
    "ExecuteTime": {
     "end_time": "2018-05-02T05:30:58.777404Z",
     "start_time": "2018-05-02T05:30:58.768093Z"
    }
   },
   "outputs": [],
   "source": [
    "X2 = X[[u'Pop Density', u'Income', u'Household Size',\n",
    "     u'OBESITY_CrudePrev',\n",
    "       u'label']]"
   ]
  },
  {
   "cell_type": "code",
   "execution_count": 53,
   "metadata": {
    "ExecuteTime": {
     "end_time": "2018-05-02T10:22:42.945134Z",
     "start_time": "2018-05-02T05:31:00.030946Z"
    }
   },
   "outputs": [
    {
     "name": "stdout",
     "output_type": "stream",
     "text": [
      "[('Household Size', 'label'), ('OBESITY_CrudePrev', 'Income'), ('label', 'OBESITY_CrudePrev'), ('Income', 'Pop Density')]\n",
      "\n",
      "All DAGs by score:\n",
      "(-13857.904369294631, [('Household Size', 'label'), ('OBESITY_CrudePrev', 'Income'), ('label', 'OBESITY_CrudePrev'), ('Income', 'Pop Density')])\n",
      "(-13857.904369294632, [('OBESITY_CrudePrev', 'Income'), ('label', 'Household Size'), ('label', 'OBESITY_CrudePrev'), ('Income', 'Pop Density')])\n",
      "(-13857.904369294632, [('OBESITY_CrudePrev', 'Income'), ('OBESITY_CrudePrev', 'label'), ('label', 'Household Size'), ('Income', 'Pop Density')])\n",
      "(-13857.904369294632, [('Pop Density', 'Income'), ('OBESITY_CrudePrev', 'label'), ('label', 'Household Size'), ('Income', 'OBESITY_CrudePrev')])\n",
      "(-13857.904369294632, [('OBESITY_CrudePrev', 'label'), ('label', 'Household Size'), ('Income', 'Pop Density'), ('Income', 'OBESITY_CrudePrev')])\n"
     ]
    }
   ],
   "source": [
    "bic = BicScore(X2)\n",
    "# Note: exhaustive search will be terribly expensive for more than a few variables\n",
    "es = ExhaustiveSearch(X2, scoring_method=bic)\n",
    "best_model = es.estimate()\n",
    "print(best_model.edges())\n",
    "\n",
    "print(\"\\nAll DAGs by score:\")\n",
    "i = 0\n",
    "for score, dag in reversed(es.all_scores()):\n",
    "    if i < 5:\n",
    "        print(score, dag.edges())\n",
    "        i += 1\n",
    "    else:\n",
    "        break"
   ]
  },
  {
   "cell_type": "code",
   "execution_count": null,
   "metadata": {},
   "outputs": [],
   "source": []
  }
 ],
 "metadata": {
  "kernelspec": {
   "display_name": "Python 2",
   "language": "python",
   "name": "python2"
  },
  "language_info": {
   "codemirror_mode": {
    "name": "ipython",
    "version": 2
   },
   "file_extension": ".py",
   "mimetype": "text/x-python",
   "name": "python",
   "nbconvert_exporter": "python",
   "pygments_lexer": "ipython2",
   "version": "2.7.14"
  }
 },
 "nbformat": 4,
 "nbformat_minor": 2
}

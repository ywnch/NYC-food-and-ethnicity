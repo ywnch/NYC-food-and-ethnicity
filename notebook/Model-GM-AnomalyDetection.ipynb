{
 "cells": [
  {
   "cell_type": "code",
   "execution_count": 1,
   "metadata": {
    "ExecuteTime": {
     "end_time": "2018-04-28T23:49:53.907687Z",
     "start_time": "2018-04-28T23:49:52.616788Z"
    }
   },
   "outputs": [],
   "source": [
    "import pandas as pd"
   ]
  },
  {
   "cell_type": "code",
   "execution_count": 30,
   "metadata": {
    "ExecuteTime": {
     "end_time": "2018-04-29T00:00:46.564868Z",
     "start_time": "2018-04-29T00:00:46.502098Z"
    }
   },
   "outputs": [],
   "source": [
    "df = pd.read_csv('../data/Final_Merged.csv')"
   ]
  },
  {
   "cell_type": "code",
   "execution_count": 31,
   "metadata": {
    "ExecuteTime": {
     "end_time": "2018-04-29T00:00:46.897345Z",
     "start_time": "2018-04-29T00:00:46.855913Z"
    }
   },
   "outputs": [
    {
     "data": {
      "text/html": [
       "<div>\n",
       "<table border=\"1\" class=\"dataframe\">\n",
       "  <thead>\n",
       "    <tr style=\"text-align: right;\">\n",
       "      <th></th>\n",
       "      <th>FIPS</th>\n",
       "      <th>Census Tract</th>\n",
       "      <th>Pop Density</th>\n",
       "      <th>Income</th>\n",
       "      <th>Age</th>\n",
       "      <th>Household Size</th>\n",
       "      <th>Total Pop</th>\n",
       "      <th>ACS_Mexican</th>\n",
       "      <th>ACS_Cuban</th>\n",
       "      <th>ACS_Dominican</th>\n",
       "      <th>...</th>\n",
       "      <th>Yelp_Puerto Rican</th>\n",
       "      <th>Yelp_Russian</th>\n",
       "      <th>Yelp_Salvadoran</th>\n",
       "      <th>Yelp_Shanghainese</th>\n",
       "      <th>Yelp_Singaporean</th>\n",
       "      <th>Yelp_Taiwanese</th>\n",
       "      <th>Yelp_Thai</th>\n",
       "      <th>Yelp_Turkish</th>\n",
       "      <th>Yelp_Venezuelan</th>\n",
       "      <th>Yelp_Vietnamese</th>\n",
       "    </tr>\n",
       "  </thead>\n",
       "  <tbody>\n",
       "    <tr>\n",
       "      <th>0</th>\n",
       "      <td>36005000100</td>\n",
       "      <td>100.0</td>\n",
       "      <td>11586.310</td>\n",
       "      <td>NaN</td>\n",
       "      <td>32.1</td>\n",
       "      <td>NaN</td>\n",
       "      <td>7503.0</td>\n",
       "      <td>1.865920</td>\n",
       "      <td>0.279888</td>\n",
       "      <td>5.077969</td>\n",
       "      <td>...</td>\n",
       "      <td>0.0</td>\n",
       "      <td>0.0</td>\n",
       "      <td>0.0</td>\n",
       "      <td>0.0</td>\n",
       "      <td>0.0</td>\n",
       "      <td>0.0</td>\n",
       "      <td>0.0</td>\n",
       "      <td>0.0</td>\n",
       "      <td>0.0</td>\n",
       "      <td>0.0</td>\n",
       "    </tr>\n",
       "    <tr>\n",
       "      <th>1</th>\n",
       "      <td>36005000200</td>\n",
       "      <td>200.0</td>\n",
       "      <td>28365.120</td>\n",
       "      <td>70893.0</td>\n",
       "      <td>38.6</td>\n",
       "      <td>3.94</td>\n",
       "      <td>5251.0</td>\n",
       "      <td>3.865930</td>\n",
       "      <td>0.190440</td>\n",
       "      <td>12.816606</td>\n",
       "      <td>...</td>\n",
       "      <td>0.0</td>\n",
       "      <td>0.0</td>\n",
       "      <td>0.0</td>\n",
       "      <td>0.0</td>\n",
       "      <td>0.0</td>\n",
       "      <td>0.0</td>\n",
       "      <td>0.0</td>\n",
       "      <td>0.0</td>\n",
       "      <td>0.0</td>\n",
       "      <td>0.0</td>\n",
       "    </tr>\n",
       "    <tr>\n",
       "      <th>2</th>\n",
       "      <td>36005000400</td>\n",
       "      <td>400.0</td>\n",
       "      <td>20096.470</td>\n",
       "      <td>76667.0</td>\n",
       "      <td>39.4</td>\n",
       "      <td>3.10</td>\n",
       "      <td>5980.0</td>\n",
       "      <td>1.672241</td>\n",
       "      <td>1.521739</td>\n",
       "      <td>13.244147</td>\n",
       "      <td>...</td>\n",
       "      <td>0.0</td>\n",
       "      <td>0.0</td>\n",
       "      <td>0.0</td>\n",
       "      <td>0.0</td>\n",
       "      <td>0.0</td>\n",
       "      <td>0.0</td>\n",
       "      <td>0.0</td>\n",
       "      <td>0.0</td>\n",
       "      <td>0.0</td>\n",
       "      <td>0.0</td>\n",
       "    </tr>\n",
       "    <tr>\n",
       "      <th>3</th>\n",
       "      <td>36005001600</td>\n",
       "      <td>1600.0</td>\n",
       "      <td>32334.870</td>\n",
       "      <td>31540.0</td>\n",
       "      <td>36.9</td>\n",
       "      <td>2.94</td>\n",
       "      <td>6056.0</td>\n",
       "      <td>0.577939</td>\n",
       "      <td>1.469617</td>\n",
       "      <td>29.920740</td>\n",
       "      <td>...</td>\n",
       "      <td>0.0</td>\n",
       "      <td>0.0</td>\n",
       "      <td>0.0</td>\n",
       "      <td>0.0</td>\n",
       "      <td>0.0</td>\n",
       "      <td>0.0</td>\n",
       "      <td>0.0</td>\n",
       "      <td>0.0</td>\n",
       "      <td>0.0</td>\n",
       "      <td>0.0</td>\n",
       "    </tr>\n",
       "    <tr>\n",
       "      <th>4</th>\n",
       "      <td>36005001900</td>\n",
       "      <td>1900.0</td>\n",
       "      <td>4164.445</td>\n",
       "      <td>39130.0</td>\n",
       "      <td>32.5</td>\n",
       "      <td>2.27</td>\n",
       "      <td>2682.0</td>\n",
       "      <td>4.809843</td>\n",
       "      <td>0.000000</td>\n",
       "      <td>17.002237</td>\n",
       "      <td>...</td>\n",
       "      <td>0.0</td>\n",
       "      <td>0.0</td>\n",
       "      <td>0.0</td>\n",
       "      <td>0.0</td>\n",
       "      <td>0.0</td>\n",
       "      <td>0.0</td>\n",
       "      <td>1.0</td>\n",
       "      <td>0.0</td>\n",
       "      <td>0.0</td>\n",
       "      <td>0.0</td>\n",
       "    </tr>\n",
       "  </tbody>\n",
       "</table>\n",
       "<p>5 rows × 97 columns</p>\n",
       "</div>"
      ],
      "text/plain": [
       "          FIPS  Census Tract  Pop Density   Income   Age  Household Size  \\\n",
       "0  36005000100         100.0    11586.310      NaN  32.1             NaN   \n",
       "1  36005000200         200.0    28365.120  70893.0  38.6            3.94   \n",
       "2  36005000400         400.0    20096.470  76667.0  39.4            3.10   \n",
       "3  36005001600        1600.0    32334.870  31540.0  36.9            2.94   \n",
       "4  36005001900        1900.0     4164.445  39130.0  32.5            2.27   \n",
       "\n",
       "   Total Pop  ACS_Mexican  ACS_Cuban  ACS_Dominican       ...         \\\n",
       "0     7503.0     1.865920   0.279888       5.077969       ...          \n",
       "1     5251.0     3.865930   0.190440      12.816606       ...          \n",
       "2     5980.0     1.672241   1.521739      13.244147       ...          \n",
       "3     6056.0     0.577939   1.469617      29.920740       ...          \n",
       "4     2682.0     4.809843   0.000000      17.002237       ...          \n",
       "\n",
       "   Yelp_Puerto Rican  Yelp_Russian  Yelp_Salvadoran  Yelp_Shanghainese  \\\n",
       "0                0.0           0.0              0.0                0.0   \n",
       "1                0.0           0.0              0.0                0.0   \n",
       "2                0.0           0.0              0.0                0.0   \n",
       "3                0.0           0.0              0.0                0.0   \n",
       "4                0.0           0.0              0.0                0.0   \n",
       "\n",
       "   Yelp_Singaporean  Yelp_Taiwanese  Yelp_Thai  Yelp_Turkish  Yelp_Venezuelan  \\\n",
       "0               0.0             0.0        0.0           0.0              0.0   \n",
       "1               0.0             0.0        0.0           0.0              0.0   \n",
       "2               0.0             0.0        0.0           0.0              0.0   \n",
       "3               0.0             0.0        0.0           0.0              0.0   \n",
       "4               0.0             0.0        1.0           0.0              0.0   \n",
       "\n",
       "   Yelp_Vietnamese  \n",
       "0              0.0  \n",
       "1              0.0  \n",
       "2              0.0  \n",
       "3              0.0  \n",
       "4              0.0  \n",
       "\n",
       "[5 rows x 97 columns]"
      ]
     },
     "execution_count": 31,
     "metadata": {},
     "output_type": "execute_result"
    }
   ],
   "source": [
    "df.head()"
   ]
  },
  {
   "cell_type": "code",
   "execution_count": 32,
   "metadata": {
    "ExecuteTime": {
     "end_time": "2018-04-29T00:00:48.103740Z",
     "start_time": "2018-04-29T00:00:48.091994Z"
    }
   },
   "outputs": [
    {
     "data": {
      "text/plain": [
       "Index([u'FIPS', u'Census Tract', u'Pop Density', u'Income', u'Age',\n",
       "       u'Household Size', u'Total Pop', u'ACS_Mexican', u'ACS_Cuban',\n",
       "       u'ACS_Dominican', u'ACS_Salvadoran', u'ACS_Colombian', u'ACS_Peruvian',\n",
       "       u'ACS_Venezuelan', u'ACS_Indian', u'ACS_Cambodian', u'ACS_Chinese',\n",
       "       u'ACS_Filipino', u'ACS_Japanese', u'ACS_Korean', u'ACS_Laotian',\n",
       "       u'ACS_Malaysian', u'ACS_Nepalese', u'ACS_Pakistani', u'ACS_Taiwanese',\n",
       "       u'ACS_Thai', u'ACS_Vietnamese', u'ACS_Lebanese', u'ACS_Moroccan',\n",
       "       u'ACS_Armenian', u'ACS_French', u'ACS_German', u'ACS_Greek',\n",
       "       u'ACS_Irish', u'ACS_Italian', u'ACS_Polish', u'ACS_Russian',\n",
       "       u'ACS_Turkish', u'ACS_Haitian', u'ACS_White',\n",
       "       u'ACS_Black or African American',\n",
       "       u'ACS_American Indian and Alaska Native', u'ACS_Asian',\n",
       "       u'ACS_Hispanic or Latino', u'DIABETES_CrudePrev', u'HIGHCHOL_CrudePrev',\n",
       "       u'OBESITY_CrudePrev', u'Yelp_Total', u'Yelp_asian', u'Yelp_european',\n",
       "       u'Yelp_halal', u'Yelp_hispanic', u'Yelp_midmed', u'Yelp_Armenian',\n",
       "       u'Yelp_Cambodian', u'Yelp_Caribbean', u'Yelp_Chinese',\n",
       "       u'Yelp_Colombian', u'Yelp_Cuban', u'Yelp_Dominican', u'Yelp_Filipino',\n",
       "       u'Yelp_French', u'Yelp_German', u'Yelp_Greek', u'Yelp_Haitian',\n",
       "       u'Yelp_Halal', u'Yelp_Himalayan Nepalese', u'Yelp_Indian',\n",
       "       u'Yelp_Irish', u'Yelp_Italian', u'Yelp_Japanese', u'Yelp_Jewish',\n",
       "       u'Yelp_Korean', u'Yelp_Kosher', u'Yelp_Latin American',\n",
       "       u'Yelp_Lebanese', u'Yelp_Malaysian', u'Yelp_Mediterranean',\n",
       "       u'Yelp_Mexican', u'Yelp_Middle Eastern', u'Yelp_Moroccan',\n",
       "       u'Yelp_Pakistani', u'Yelp_Peruvian', u'Yelp_Polish',\n",
       "       u'Yelp_Puerto Rican', u'Yelp_Russian', u'Yelp_Salvadoran',\n",
       "       u'Yelp_Shanghainese', u'Yelp_Singaporean', u'Yelp_Taiwanese',\n",
       "       u'Yelp_Thai', u'Yelp_Turkish', u'Yelp_Venezuelan', u'Yelp_Vietnamese'],\n",
       "      dtype='object')"
      ]
     },
     "execution_count": 32,
     "metadata": {},
     "output_type": "execute_result"
    }
   ],
   "source": [
    "df.drop(['PlaceFIPS', 'TractFIPS', 'Place_TractID'],axis=1,inplace=True)\n",
    "df.columns"
   ]
  },
  {
   "cell_type": "code",
   "execution_count": 33,
   "metadata": {
    "ExecuteTime": {
     "end_time": "2018-04-29T00:01:00.457529Z",
     "start_time": "2018-04-29T00:01:00.451822Z"
    }
   },
   "outputs": [],
   "source": [
    "X = df.iloc[:,2:]"
   ]
  },
  {
   "cell_type": "code",
   "execution_count": 35,
   "metadata": {
    "ExecuteTime": {
     "end_time": "2018-04-29T00:01:13.779806Z",
     "start_time": "2018-04-29T00:01:13.771631Z"
    }
   },
   "outputs": [],
   "source": [
    "X.dropna(axis=0,how='any',inplace=True)"
   ]
  },
  {
   "cell_type": "code",
   "execution_count": 36,
   "metadata": {
    "ExecuteTime": {
     "end_time": "2018-04-29T00:01:14.591360Z",
     "start_time": "2018-04-29T00:01:14.583214Z"
    }
   },
   "outputs": [
    {
     "data": {
      "text/plain": [
       "Index([u'Pop Density', u'Income', u'Age', u'Household Size', u'Total Pop',\n",
       "       u'ACS_Mexican', u'ACS_Cuban', u'ACS_Dominican', u'ACS_Salvadoran',\n",
       "       u'ACS_Colombian', u'ACS_Peruvian', u'ACS_Venezuelan', u'ACS_Indian',\n",
       "       u'ACS_Cambodian', u'ACS_Chinese', u'ACS_Filipino', u'ACS_Japanese',\n",
       "       u'ACS_Korean', u'ACS_Laotian', u'ACS_Malaysian', u'ACS_Nepalese',\n",
       "       u'ACS_Pakistani', u'ACS_Taiwanese', u'ACS_Thai', u'ACS_Vietnamese',\n",
       "       u'ACS_Lebanese', u'ACS_Moroccan', u'ACS_Armenian', u'ACS_French',\n",
       "       u'ACS_German', u'ACS_Greek', u'ACS_Irish', u'ACS_Italian',\n",
       "       u'ACS_Polish', u'ACS_Russian', u'ACS_Turkish', u'ACS_Haitian',\n",
       "       u'ACS_White', u'ACS_Black or African American',\n",
       "       u'ACS_American Indian and Alaska Native', u'ACS_Asian',\n",
       "       u'ACS_Hispanic or Latino', u'DIABETES_CrudePrev', u'HIGHCHOL_CrudePrev',\n",
       "       u'OBESITY_CrudePrev', u'Yelp_Total', u'Yelp_asian', u'Yelp_european',\n",
       "       u'Yelp_halal', u'Yelp_hispanic', u'Yelp_midmed', u'Yelp_Armenian',\n",
       "       u'Yelp_Cambodian', u'Yelp_Caribbean', u'Yelp_Chinese',\n",
       "       u'Yelp_Colombian', u'Yelp_Cuban', u'Yelp_Dominican', u'Yelp_Filipino',\n",
       "       u'Yelp_French', u'Yelp_German', u'Yelp_Greek', u'Yelp_Haitian',\n",
       "       u'Yelp_Halal', u'Yelp_Himalayan Nepalese', u'Yelp_Indian',\n",
       "       u'Yelp_Irish', u'Yelp_Italian', u'Yelp_Japanese', u'Yelp_Jewish',\n",
       "       u'Yelp_Korean', u'Yelp_Kosher', u'Yelp_Latin American',\n",
       "       u'Yelp_Lebanese', u'Yelp_Malaysian', u'Yelp_Mediterranean',\n",
       "       u'Yelp_Mexican', u'Yelp_Middle Eastern', u'Yelp_Moroccan',\n",
       "       u'Yelp_Pakistani', u'Yelp_Peruvian', u'Yelp_Polish',\n",
       "       u'Yelp_Puerto Rican', u'Yelp_Russian', u'Yelp_Salvadoran',\n",
       "       u'Yelp_Shanghainese', u'Yelp_Singaporean', u'Yelp_Taiwanese',\n",
       "       u'Yelp_Thai', u'Yelp_Turkish', u'Yelp_Venezuelan', u'Yelp_Vietnamese'],\n",
       "      dtype='object')"
      ]
     },
     "execution_count": 36,
     "metadata": {},
     "output_type": "execute_result"
    }
   ],
   "source": [
    "X.columns"
   ]
  },
  {
   "cell_type": "code",
   "execution_count": 15,
   "metadata": {
    "ExecuteTime": {
     "end_time": "2018-04-28T23:56:52.847002Z",
     "start_time": "2018-04-28T23:56:52.842128Z"
    }
   },
   "outputs": [],
   "source": [
    "from sklearn.mixture import GaussianMixture\n",
    "from sklearn.metrics import silhouette_score"
   ]
  },
  {
   "cell_type": "code",
   "execution_count": 37,
   "metadata": {
    "ExecuteTime": {
     "end_time": "2018-04-29T00:01:34.875519Z",
     "start_time": "2018-04-29T00:01:26.505573Z"
    }
   },
   "outputs": [
    {
     "name": "stdout",
     "output_type": "stream",
     "text": [
      "For n_clusters = 2, the average silhouette_score is : 0.101414799434\n",
      "For n_clusters = 3, the average silhouette_score is : 0.0745849623169\n",
      "For n_clusters = 4, the average silhouette_score is : -0.0379305201013\n",
      "For n_clusters = 5, the average silhouette_score is : -0.101284518549\n",
      "For n_clusters = 6, the average silhouette_score is : -0.101118079557\n",
      "For n_clusters = 7, the average silhouette_score is : -0.100766559494\n",
      "For n_clusters = 8, the average silhouette_score is : -0.138257955153\n",
      "For n_clusters = 9, the average silhouette_score is : -0.191407307259\n"
     ]
    }
   ],
   "source": [
    "range_n_clusters = range(2,10)\n",
    "for n in range_n_clusters:\n",
    "    gmm = GaussianMixture(n_components=n,random_state=100)\n",
    "    res = gmm.fit(X)\n",
    "    silhouette_avg = silhouette_score(X, res.predict(X))\n",
    "    print(\"For n_clusters = {},\".format(n)+\" the average silhouette_score is : {}\".format(silhouette_avg))"
   ]
  },
  {
   "cell_type": "code",
   "execution_count": null,
   "metadata": {},
   "outputs": [],
   "source": []
  }
 ],
 "metadata": {
  "kernelspec": {
   "display_name": "Python 3",
   "language": "python",
   "name": "python3"
  },
  "language_info": {
   "codemirror_mode": {
    "name": "ipython",
    "version": 2
   },
   "file_extension": ".py",
   "mimetype": "text/x-python",
   "name": "python",
   "nbconvert_exporter": "python",
   "pygments_lexer": "ipython2",
   "version": "2.7.14"
  }
 },
 "nbformat": 4,
 "nbformat_minor": 2
}
